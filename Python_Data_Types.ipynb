{
  "nbformat": 4,
  "nbformat_minor": 0,
  "metadata": {
    "colab": {
      "provenance": [],
      "authorship_tag": "ABX9TyMSA8gue0Os2f1jTdYbf6nP",
      "include_colab_link": true
    },
    "kernelspec": {
      "name": "python3",
      "display_name": "Python 3"
    },
    "language_info": {
      "name": "python"
    }
  },
  "cells": [
    {
      "cell_type": "markdown",
      "metadata": {
        "id": "view-in-github",
        "colab_type": "text"
      },
      "source": [
        "<a href=\"https://colab.research.google.com/github/SarahEldreny/Python-Labs/blob/main/Python_Data_Types.ipynb\" target=\"_parent\"><img src=\"https://colab.research.google.com/assets/colab-badge.svg\" alt=\"Open In Colab\"/></a>"
      ]
    },
    {
      "cell_type": "markdown",
      "source": [
        "#**Variables**\n",
        "\n",
        "Variables are containers for storing data values.\n",
        "\n",
        "#Creating Variables\n",
        "\n",
        "Python has no command for declaring a variable.\n",
        "\n",
        "A variable is created the moment you first assign a value to it."
      ],
      "metadata": {
        "id": "-KPtmsTVHCwy"
      }
    },
    {
      "cell_type": "code",
      "execution_count": null,
      "metadata": {
        "colab": {
          "base_uri": "https://localhost:8080/"
        },
        "id": "Bc5v3wfpF92F",
        "outputId": "236476b1-28c9-47de-bdd5-23b83591e1fa"
      },
      "outputs": [
        {
          "output_type": "stream",
          "name": "stdout",
          "text": [
            "5\n",
            "John\n"
          ]
        }
      ],
      "source": [
        "#Example\n",
        "x = 5\n",
        "y = \"John\"\n",
        "print(x)\n",
        "print(y)"
      ]
    },
    {
      "cell_type": "markdown",
      "source": [
        "Variables do not need to be declared with any particular type, and can even change type after they have been set."
      ],
      "metadata": {
        "id": "PDBMI0bCHRTi"
      }
    },
    {
      "cell_type": "code",
      "source": [
        "#Example\n",
        "x = 4       # x is of type int\n",
        "x = \"Sally\" # x is now of type str\n",
        "print(x)"
      ],
      "metadata": {
        "colab": {
          "base_uri": "https://localhost:8080/"
        },
        "id": "L16JJg4PHNgX",
        "outputId": "9577c24b-b8f5-46b2-f94c-2c82135768f4"
      },
      "execution_count": null,
      "outputs": [
        {
          "output_type": "stream",
          "name": "stdout",
          "text": [
            "Sally\n"
          ]
        }
      ]
    },
    {
      "cell_type": "markdown",
      "source": [
        "#Casting\n",
        "\n",
        "If you want to specify the data type of a variable, this can be done with casting.\n",
        "\n",
        "### Specify a Variable Type\n",
        "\n",
        "There may be times when you want to specify a type on to a variable. This can be done with casting. Python is an object-orientated language, and as such it uses classes to define data types, including its primitive types.\n",
        "\n",
        "Casting in python is therefore done using constructor functions:\n",
        "\n",
        "\n",
        "*   int() - constructs an integer number from an integer literal, a float literal (by removing all decimals), or a string literal (providing the string represents a whole number)\n",
        "*   float() - constructs a float number from an integer literal, a float literal or a string literal (providing the string represents a float or an integer)\n",
        "*    str() - constructs a string from a wide variety of data types, including strings, integer literals and float literals\n",
        "\n",
        "\n",
        "    \n",
        "    \n",
        "    \n"
      ],
      "metadata": {
        "id": "6qwmD8t0MlMJ"
      }
    },
    {
      "cell_type": "code",
      "source": [
        "x = str(3)    # x will be '3'\n",
        "y = int(3)    # y will be 3\n",
        "z = float(3)  # z will be 3.0 "
      ],
      "metadata": {
        "id": "KSM4sOtqHUii"
      },
      "execution_count": null,
      "outputs": []
    },
    {
      "cell_type": "markdown",
      "source": [
        "## Get the Type\n",
        "\n",
        "You can get the data type of a variable with the type() function."
      ],
      "metadata": {
        "id": "buvRK2Y1MyiI"
      }
    },
    {
      "cell_type": "code",
      "source": [
        "x = 5\n",
        "y = \"John\"\n",
        "print(type(x))\n",
        "print(type(y)) "
      ],
      "metadata": {
        "colab": {
          "base_uri": "https://localhost:8080/"
        },
        "id": "RPgDy_EeMp7E",
        "outputId": "380f1882-a934-4356-b075-a750025aa94e"
      },
      "execution_count": null,
      "outputs": [
        {
          "output_type": "stream",
          "name": "stdout",
          "text": [
            "<class 'int'>\n",
            "<class 'str'>\n"
          ]
        }
      ]
    },
    {
      "cell_type": "markdown",
      "source": [
        "### Single or Double Quotes?\n",
        "\n",
        "String variables can be declared either by using single or double quotes:"
      ],
      "metadata": {
        "id": "s-D6eB9KM7KI"
      }
    },
    {
      "cell_type": "code",
      "source": [
        "x = \"John\"\n",
        "# is the same as\n",
        "x = 'John'"
      ],
      "metadata": {
        "id": "V3XMsMKSM31l"
      },
      "execution_count": null,
      "outputs": []
    },
    {
      "cell_type": "markdown",
      "source": [
        "## Case-Sensitive\n",
        "\n",
        "Variable names are case-sensitive."
      ],
      "metadata": {
        "id": "IeUuyRt_NDJJ"
      }
    },
    {
      "cell_type": "code",
      "source": [
        "a = 4\n",
        "A = \"Sally\"\n",
        "#A will not overwrite a "
      ],
      "metadata": {
        "id": "i0mxPO49NLsd"
      },
      "execution_count": null,
      "outputs": []
    },
    {
      "cell_type": "markdown",
      "source": [
        "### Variable Names\n",
        "A variable can have a short name (like x and y) or a more descriptive name (age, carname, total_volume). Rules for Python variables:\n",
        "\n",
        "    A variable name must start with a letter or the underscore character\n",
        "    A variable name cannot start with a number\n",
        "    A variable name can only contain alpha-numeric characters and underscores (A-z, 0-9, and _ )\n",
        "    Variable names are case-sensitive (age, Age and AGE are three different variables)\n"
      ],
      "metadata": {
        "id": "voQ2qZ0xNdye"
      }
    },
    {
      "cell_type": "code",
      "source": [
        "#Legal variable names:\n",
        "myvar = \"John\"\n",
        "my_var = \"John\"\n",
        "_my_var = \"John\"\n",
        "myVar = \"John\"\n",
        "MYVAR = \"John\"\n",
        "myvar2 = \"John\" \n",
        "\n",
        "# Illegal variable names:\n",
        "# 2myvar = \"John\"\n",
        "# my-var = \"John\"\n",
        "# my var = \"John\" "
      ],
      "metadata": {
        "id": "A1RflCXTNN-3"
      },
      "execution_count": null,
      "outputs": []
    },
    {
      "cell_type": "markdown",
      "source": [
        "## Multi Words Variable Names\n",
        "\n",
        "Variable names with more than one word can be difficult to read.\n",
        "\n",
        "There are several techniques you can use to make them more readable:\n",
        "\n",
        "**Camel Case**\n",
        "\n",
        "Each word, except the first, starts with a capital letter:\n",
        "\n",
        "```\n",
        "myVariableName = \"John\"\n",
        "```\n",
        "**Pascal Case**\n",
        "\n",
        "Each word starts with a capital letter:\n",
        "\n",
        "\n",
        "```\n",
        "MyVariableName = \"John\"\n",
        "```\n",
        "\n",
        "**Snake Case**\n",
        "\n",
        "Each word is separated by an underscore character:\n",
        "\n",
        "\n",
        "\n",
        "```\n",
        "my_variable_name = \"John\"\n",
        "\n"
      ],
      "metadata": {
        "id": "t7dMxOxwNxGf"
      }
    },
    {
      "cell_type": "markdown",
      "source": [
        "## Many Values to Multiple Variables\n",
        "\n",
        "Python allows you to assign values to multiple variables in one line:\n",
        "\n",
        "\n",
        "\n",
        "Note: Make sure the number of variables matches the number of values, or else you will get an error.\n",
        "\n",
        "Example\n"
      ],
      "metadata": {
        "id": "ERNnx8irOz93"
      }
    },
    {
      "cell_type": "code",
      "source": [
        "x, y, z = \"Orange\", \"Banana\", \"Cherry\"\n",
        "print(x)\n",
        "print(y)\n",
        "print(z) "
      ],
      "metadata": {
        "colab": {
          "base_uri": "https://localhost:8080/"
        },
        "id": "Bb-9iq18Nmge",
        "outputId": "f1ea16d0-a9e2-44ae-badf-d1c0e03e6274"
      },
      "execution_count": null,
      "outputs": [
        {
          "output_type": "stream",
          "name": "stdout",
          "text": [
            "Orange\n",
            "Banana\n",
            "Cherry\n"
          ]
        }
      ]
    },
    {
      "cell_type": "markdown",
      "source": [
        "### One Value to Multiple Variables\n",
        "\n",
        "And you can assign the same value to multiple variables in one line:\n",
        "Example"
      ],
      "metadata": {
        "id": "PNZXd4xIO5U9"
      }
    },
    {
      "cell_type": "code",
      "source": [
        "x = y = z = \"Orange\"\n",
        "print(x)\n",
        "print(y)\n",
        "print(z)"
      ],
      "metadata": {
        "colab": {
          "base_uri": "https://localhost:8080/"
        },
        "id": "oGcsli6LO3t9",
        "outputId": "13d76680-a71b-46e6-ee3e-38e4c74f3739"
      },
      "execution_count": null,
      "outputs": [
        {
          "output_type": "stream",
          "name": "stdout",
          "text": [
            "Orange\n",
            "Orange\n",
            "Orange\n"
          ]
        }
      ]
    },
    {
      "cell_type": "markdown",
      "source": [
        "### Unpack a Collection\n",
        "\n",
        "If you have a collection of values in a list, tuple etc. Python allows you to extract the values into variables. This is called unpacking.\n",
        "\n",
        "Example\n",
        "\n",
        "Unpack a list:"
      ],
      "metadata": {
        "id": "hlLZiSvXPMsx"
      }
    },
    {
      "cell_type": "code",
      "source": [
        "fruits = [\"apple\", \"banana\", \"cherry\"]\n",
        "x, y, z = fruits\n",
        "print(x)\n",
        "print(y)\n",
        "print(z)"
      ],
      "metadata": {
        "colab": {
          "base_uri": "https://localhost:8080/"
        },
        "id": "mD7wgtqMPIoH",
        "outputId": "03e763a7-f003-4134-a5f4-272b6d6b49e5"
      },
      "execution_count": null,
      "outputs": [
        {
          "output_type": "stream",
          "name": "stdout",
          "text": [
            "apple\n",
            "banana\n",
            "cherry\n"
          ]
        }
      ]
    },
    {
      "cell_type": "markdown",
      "source": [
        "# Output Variables\n",
        "\n",
        "The Python **`print()`** function is often used to output variables.\n",
        "\n",
        "In the `print()` function, you output multiple variables, separated by a comma.\n",
        "\n",
        "You can also use the + operator to output multiple variables.\n",
        "\n",
        "Notice the space character after \"Python \" and \"is \", without them the result would be \"Pythonisawesome\".\n",
        "\n",
        "For numbers, the + character works as a mathematical operator.\n",
        "\n",
        "In the print() function, when you try to combine a string and a number with the + operator, Python will give you an error.\n",
        "\n",
        "Example\n",
        "\n",
        "```\n",
        "x = 5\n",
        "y = \"John\"\n",
        "print(x + y)\n",
        "```\n",
        "\n",
        "\n",
        "The best way to output multiple variables in the print() function is to separate them with commas, which even support different data types."
      ],
      "metadata": {
        "id": "QNzXWgTZP19Z"
      }
    },
    {
      "cell_type": "code",
      "source": [
        "x = \"Python is awesome\"\n",
        "print(x)\n",
        "\n",
        "x = \"Python\"\n",
        "y = \"is\"\n",
        "z = \"awesome\"\n",
        "print(x, y, z)\n",
        "print(x + y + z)\n",
        "\n",
        "x = 5\n",
        "y = 10\n",
        "print(x + y)"
      ],
      "metadata": {
        "colab": {
          "base_uri": "https://localhost:8080/"
        },
        "id": "ECc--XjgPRD4",
        "outputId": "9165b1f0-1165-4c6c-f11e-52d5c95c96ae"
      },
      "execution_count": null,
      "outputs": [
        {
          "output_type": "stream",
          "name": "stdout",
          "text": [
            "Python is awesome\n",
            "Python is awesome\n",
            "Pythonisawesome\n",
            "15\n"
          ]
        }
      ]
    },
    {
      "cell_type": "markdown",
      "source": [
        "## Global Variables\n",
        "\n",
        "Variables that are created outside of a function (as in all of the examples above) are known as global variables.\n",
        "\n",
        "Global variables can be used by everyone, both inside of functions and outside.\n",
        "\n",
        "If you create a variable with the same name inside a function, this variable will be local, and can only be used inside the function. The global variable with the same name will remain as it was, global and with the original value."
      ],
      "metadata": {
        "id": "9TCRwwvURNzy"
      }
    },
    {
      "cell_type": "code",
      "source": [
        "# Example\n",
        "# Create a variable inside a function, with the same name as the global variable\n",
        "x = \"awesome\"\n",
        "\n",
        "def myfunc():\n",
        "  x = \"fantastic\"\n",
        "  print(\"Python is \" + x)\n",
        "\n",
        "myfunc()\n",
        "\n",
        "print(\"Python is \" + x) "
      ],
      "metadata": {
        "colab": {
          "base_uri": "https://localhost:8080/"
        },
        "id": "3VS2XbVQQGNi",
        "outputId": "7a34f728-ec17-43da-9aa3-af4c2df1ddc7"
      },
      "execution_count": null,
      "outputs": [
        {
          "output_type": "stream",
          "name": "stdout",
          "text": [
            "Python is fantastic\n",
            "Python is awesome\n"
          ]
        }
      ]
    },
    {
      "cell_type": "markdown",
      "source": [
        "###The global Keyword\n",
        "\n",
        "Normally, when you create a variable inside a function, that variable is local, and can only be used inside that function.\n",
        "\n",
        "To create a global variable inside a function, you can use the global keyword."
      ],
      "metadata": {
        "id": "St2HayUDSW2Z"
      }
    },
    {
      "cell_type": "code",
      "source": [
        "#If you use the global keyword, the variable belongs to the global scope:\n",
        "def myfunc():\n",
        "  global x\n",
        "  x = \"fantastic\"\n",
        "\n",
        "myfunc()\n",
        "\n",
        "print(\"Python is \" + x) "
      ],
      "metadata": {
        "colab": {
          "base_uri": "https://localhost:8080/"
        },
        "id": "ZBxkTw8QRu3O",
        "outputId": "f4163fcf-b71a-4fb7-b463-a16f860acec3"
      },
      "execution_count": null,
      "outputs": [
        {
          "output_type": "stream",
          "name": "stdout",
          "text": [
            "Python is fantastic\n"
          ]
        }
      ]
    },
    {
      "cell_type": "code",
      "source": [
        "# Also, use the global keyword if you want to change a global variable inside a function.\n",
        "# To change the value of a global variable inside a function, refer to the variable by using the global keyword:\n",
        "\n",
        "x = \"awesome\"\n",
        "\n",
        "def myfunc():\n",
        "  global x\n",
        "  x = \"fantastic\"\n",
        "\n",
        "myfunc()\n",
        "\n",
        "print(\"Python is \" + x) "
      ],
      "metadata": {
        "colab": {
          "base_uri": "https://localhost:8080/"
        },
        "id": "P5q0WXABScWu",
        "outputId": "3259a73b-c3b6-42f2-83db-273e21471334"
      },
      "execution_count": null,
      "outputs": [
        {
          "output_type": "stream",
          "name": "stdout",
          "text": [
            "Python is fantastic\n"
          ]
        }
      ]
    },
    {
      "cell_type": "markdown",
      "source": [
        "# **Python Numbers**\n",
        "\n",
        "There are three numeric types in Python:\n",
        "\n",
        "\n",
        "*   int\n",
        "*   float\n",
        "*   complex\n",
        "\n",
        "Variables of numeric types are created when you assign a value to them:"
      ],
      "metadata": {
        "id": "6g463GxFTTCQ"
      }
    },
    {
      "cell_type": "code",
      "source": [
        "x = 1    # int\n",
        "y = 2.8  # float\n",
        "z = 1j   # complex\n",
        "\n",
        "# To verify the type of any object in Python, use the type() function:\n",
        "\n",
        "print(type(x))\n",
        "print(type(y))\n",
        "print(type(z))"
      ],
      "metadata": {
        "colab": {
          "base_uri": "https://localhost:8080/"
        },
        "id": "rjSfDq1qSl-F",
        "outputId": "32919b86-c4d0-4068-8fed-baa78d4aac36"
      },
      "execution_count": null,
      "outputs": [
        {
          "output_type": "stream",
          "name": "stdout",
          "text": [
            "<class 'int'>\n",
            "<class 'float'>\n",
            "<class 'complex'>\n"
          ]
        }
      ]
    },
    {
      "cell_type": "markdown",
      "source": [
        "### *Int*\n",
        "\n",
        "Int, or integer, is a whole number, positive or negative, without decimals, of unlimited length.\n",
        "\n",
        "### *Float*\n",
        "\n",
        "Float, or \"floating point number\" is a number, positive or negative, containing one or more decimals.\n",
        "\n",
        "### *Complex*\n",
        "\n",
        "Complex numbers are written with a \"j\" as the imaginary part.\n",
        "\n",
        "### *Random Number*\n",
        "\n",
        "Python does not have a random() function to make a random number, but Python has a built-in module called random that can be used to make random numbers."
      ],
      "metadata": {
        "id": "BV5-vthoTTQi"
      }
    },
    {
      "cell_type": "code",
      "source": [
        "# Integers:\n",
        "x = 1\n",
        "y = 35656222554887711\n",
        "z = -3255522\n",
        "\n",
        "print(type(x))\n",
        "print(type(y))\n",
        "print(type(z)) "
      ],
      "metadata": {
        "colab": {
          "base_uri": "https://localhost:8080/"
        },
        "id": "hGzXinCtUQAj",
        "outputId": "9e94f219-a8b2-4643-970a-4312970841ad"
      },
      "execution_count": null,
      "outputs": [
        {
          "output_type": "stream",
          "name": "stdout",
          "text": [
            "<class 'int'>\n",
            "<class 'int'>\n",
            "<class 'int'>\n"
          ]
        }
      ]
    },
    {
      "cell_type": "code",
      "source": [
        "# Float, or \"floating point number\" is a number, positive or negative, containing one or more decimals.\n",
        "x = 1.10\n",
        "y = 1.0\n",
        "z = -35.59\n",
        "\n",
        "print(type(x))\n",
        "print(type(y))\n",
        "print(type(z)) \n",
        "\n",
        "# Float can also be scientific numbers with an \"e\" to indicate the power of 10.\n",
        "x = 35e3\n",
        "y = 12E4\n",
        "z = -87.7e100\n",
        "\n",
        "print(type(x))\n",
        "print(type(y))\n",
        "print(type(z))"
      ],
      "metadata": {
        "colab": {
          "base_uri": "https://localhost:8080/"
        },
        "id": "uDeLgrfoUU6e",
        "outputId": "601ef753-4084-4413-84ca-ff50359152a4"
      },
      "execution_count": null,
      "outputs": [
        {
          "output_type": "stream",
          "name": "stdout",
          "text": [
            "<class 'float'>\n",
            "<class 'float'>\n",
            "<class 'float'>\n",
            "<class 'float'>\n",
            "<class 'float'>\n",
            "<class 'float'>\n"
          ]
        }
      ]
    },
    {
      "cell_type": "code",
      "source": [
        "# Complex:\n",
        "x = 3+5j\n",
        "y = 5j\n",
        "z = -5j\n",
        "\n",
        "print(type(x))\n",
        "print(type(y))\n",
        "print(type(z)) "
      ],
      "metadata": {
        "colab": {
          "base_uri": "https://localhost:8080/"
        },
        "id": "yBOKNTGfUbMo",
        "outputId": "d46bd981-f739-4aa3-fadd-6d18727d9a73"
      },
      "execution_count": null,
      "outputs": [
        {
          "output_type": "stream",
          "name": "stdout",
          "text": [
            "<class 'complex'>\n",
            "<class 'complex'>\n",
            "<class 'complex'>\n"
          ]
        }
      ]
    },
    {
      "cell_type": "code",
      "source": [
        "# Import the random module, and display a random number between 1 and 9:\n",
        "import random\n",
        "\n",
        "print(random.randrange(1, 10)) "
      ],
      "metadata": {
        "colab": {
          "base_uri": "https://localhost:8080/"
        },
        "id": "Vc7QFyRdUqRU",
        "outputId": "7a2f626b-92ec-440f-d7c2-7587decf2604"
      },
      "execution_count": null,
      "outputs": [
        {
          "output_type": "stream",
          "name": "stdout",
          "text": [
            "8\n"
          ]
        }
      ]
    },
    {
      "cell_type": "markdown",
      "source": [
        "### Type Conversion\n",
        "\n",
        "You can convert from one type to another with the int(), float(), and complex() methods:"
      ],
      "metadata": {
        "id": "5e3SqXZcVCod"
      }
    },
    {
      "cell_type": "code",
      "source": [
        "# Convert from one type to another:\n",
        "x = 1    # int\n",
        "y = 2.8  # float\n",
        "z = 1j   # complex\n",
        "\n",
        "#convert from int to float:\n",
        "a = float(x)\n",
        "\n",
        "#convert from float to int:\n",
        "b = int(y)\n",
        "\n",
        "#convert from int to complex:\n",
        "c = complex(x)\n",
        "\n",
        "print(a)\n",
        "print(b)\n",
        "print(c)\n",
        "print(\"-----------------------\")\n",
        "print(type(a))\n",
        "print(type(b))\n",
        "print(type(c))\n",
        "\n",
        "# Note: You cannot convert complex numbers into another number type."
      ],
      "metadata": {
        "colab": {
          "base_uri": "https://localhost:8080/"
        },
        "id": "a72nHzu2U8mj",
        "outputId": "661cba8c-6c7e-4130-e413-3c5c63e44591"
      },
      "execution_count": null,
      "outputs": [
        {
          "output_type": "stream",
          "name": "stdout",
          "text": [
            "1.0\n",
            "2\n",
            "(1+0j)\n",
            "-----------------------\n",
            "<class 'float'>\n",
            "<class 'int'>\n",
            "<class 'complex'>\n"
          ]
        }
      ]
    },
    {
      "cell_type": "markdown",
      "source": [
        "# **Python Strings**\n",
        "\n",
        "Strings in python are surrounded by either single quotation marks, or double quotation marks.\n",
        "\n",
        "'hello' is the same as \"hello\".\n",
        "\n",
        "You can display a string literal with the print() function.\n",
        "\n",
        "Assigning a string to a variable is done with the variable name followed by an equal sign and the string.\n",
        "\n",
        "### Multiline Strings\n",
        "\n",
        "You can assign a multiline string to a variable by using three quotes Or three single quotes.\n",
        "\n",
        "\n",
        "**Note**: in the result, the line breaks are inserted at the same position as in the code.\n"
      ],
      "metadata": {
        "id": "Zp3rGYqIbAl6"
      }
    },
    {
      "cell_type": "code",
      "source": [
        "a = \"Hello\"\n",
        "print(a) \n",
        "\n",
        "# You can use three double quotes:\n",
        "b = \"\"\"Lorem ipsum dolor sit amet,\n",
        "consectetur adipiscing elit,\n",
        "sed do eiusmod tempor incididunt\n",
        "ut labore et dolore magna aliqua.\"\"\"\n",
        "print(b) \n",
        "\n",
        "c = '''Lorem ipsum dolor sit amet,\n",
        "consectetur adipiscing elit,\n",
        "sed do eiusmod tempor incididunt\n",
        "ut labore et dolore magna aliqua.'''\n",
        "print(c) "
      ],
      "metadata": {
        "colab": {
          "base_uri": "https://localhost:8080/"
        },
        "id": "N-GQ5cP5VFNw",
        "outputId": "0877c337-2214-4f80-da18-34ddeb3a0547"
      },
      "execution_count": null,
      "outputs": [
        {
          "output_type": "stream",
          "name": "stdout",
          "text": [
            "Hello\n",
            "Lorem ipsum dolor sit amet,\n",
            "consectetur adipiscing elit,\n",
            "sed do eiusmod tempor incididunt\n",
            "ut labore et dolore magna aliqua.\n",
            "Lorem ipsum dolor sit amet,\n",
            "consectetur adipiscing elit,\n",
            "sed do eiusmod tempor incididunt\n",
            "ut labore et dolore magna aliqua.\n"
          ]
        }
      ]
    },
    {
      "cell_type": "markdown",
      "source": [
        "# Strings are Arrays\n",
        "\n",
        "Like many other popular programming languages, strings in Python are arrays of bytes representing unicode characters.\n",
        "\n",
        "However, Python does not have a character data type, a single character is simply a string with a length of 1.\n",
        "\n",
        "Square brackets can be used to access elements of the string."
      ],
      "metadata": {
        "id": "57i2i_Xne2VT"
      }
    },
    {
      "cell_type": "code",
      "source": [
        "# Get the character at position 1 (remember that the first character has the position 0):\n",
        "a = \"Hello, World!\"\n",
        "print(a[1])"
      ],
      "metadata": {
        "colab": {
          "base_uri": "https://localhost:8080/"
        },
        "id": "G7Su41UrcMIF",
        "outputId": "fb3357ef-7c67-4f5e-9ee2-78b26a9716f3"
      },
      "execution_count": null,
      "outputs": [
        {
          "output_type": "stream",
          "name": "stdout",
          "text": [
            "e\n"
          ]
        }
      ]
    },
    {
      "cell_type": "code",
      "source": [
        "# The len() function returns the length of a string:\n",
        "a = \"Hello, World!\"\n",
        "print(len(a))"
      ],
      "metadata": {
        "colab": {
          "base_uri": "https://localhost:8080/"
        },
        "id": "vvJoiQQre-ZL",
        "outputId": "51eba09a-c663-4ad7-a799-e1b80b9acb7d"
      },
      "execution_count": null,
      "outputs": [
        {
          "output_type": "stream",
          "name": "stdout",
          "text": [
            "13\n"
          ]
        }
      ]
    },
    {
      "cell_type": "markdown",
      "source": [
        "\n",
        "## Check String\n",
        "\n",
        "To check if a certain phrase or character is present in a string, we can use the keyword `in`."
      ],
      "metadata": {
        "id": "Q9WA7tN2fo_v"
      }
    },
    {
      "cell_type": "code",
      "source": [
        "# Check if \"free\" is present in the following text:\n",
        "txt = \"The best things in life are free!\"\n",
        "print(\"free\" in txt)"
      ],
      "metadata": {
        "colab": {
          "base_uri": "https://localhost:8080/"
        },
        "id": "yncbTchvfLf4",
        "outputId": "8b7da682-4257-421d-d524-e95ace7b86d3"
      },
      "execution_count": null,
      "outputs": [
        {
          "output_type": "stream",
          "name": "stdout",
          "text": [
            "True\n"
          ]
        }
      ]
    },
    {
      "cell_type": "markdown",
      "source": [
        "## Check if NOT\n",
        "\n",
        "To check if a certain phrase or character is NOT present in a string, we can use the keyword `not in`."
      ],
      "metadata": {
        "id": "bWG2K7sOfz25"
      }
    },
    {
      "cell_type": "code",
      "source": [
        "# Check if \"expensive\" is NOT present in the following text:\n",
        "txt = \"The best things in life are free!\"\n",
        "print(\"expensive\" not in txt)"
      ],
      "metadata": {
        "colab": {
          "base_uri": "https://localhost:8080/"
        },
        "id": "ancE_vmOfuYl",
        "outputId": "ba80969a-59c7-4786-c870-80824e3536d7"
      },
      "execution_count": null,
      "outputs": [
        {
          "output_type": "stream",
          "name": "stdout",
          "text": [
            "True\n"
          ]
        }
      ]
    },
    {
      "cell_type": "markdown",
      "source": [
        "# Slicing\n",
        "\n",
        "You can return a range of characters by using the slice syntax.\n",
        "\n",
        "Specify the start index and the end index, separated by a colon, to return a part of the string.\n",
        "\n",
        "\n",
        "\n",
        "**Note:** The first character has index 0.\n"
      ],
      "metadata": {
        "id": "s90IjtsUJ2Np"
      }
    },
    {
      "cell_type": "code",
      "source": [
        "# Example\n",
        "# Get the characters from position 2 to position 5 (not included):\n",
        "b = \"Hello, World!\"\n",
        "print(b[2:5])"
      ],
      "metadata": {
        "id": "iC27YlYfgDAl"
      },
      "execution_count": null,
      "outputs": []
    },
    {
      "cell_type": "markdown",
      "source": [
        "Slice From the Start\n",
        "\n",
        "By leaving out the start index, the range will start at the first character:"
      ],
      "metadata": {
        "id": "v_5hUCkCKN1v"
      }
    },
    {
      "cell_type": "code",
      "source": [
        "# Example\n",
        "# Get the characters from the start to position 5 (not included):\n",
        "b = \"Hello, World!\"\n",
        "print(b[:5])"
      ],
      "metadata": {
        "id": "xzpzxKv0KNBX",
        "outputId": "a85d097f-6699-4017-df89-865d3965d43f",
        "colab": {
          "base_uri": "https://localhost:8080/"
        }
      },
      "execution_count": 1,
      "outputs": [
        {
          "output_type": "stream",
          "name": "stdout",
          "text": [
            "Hello\n"
          ]
        }
      ]
    },
    {
      "cell_type": "markdown",
      "source": [
        "Slice To the End\n",
        "\n",
        "By leaving out the end index, the range will go to the end:"
      ],
      "metadata": {
        "id": "FcDtp3YhKXI1"
      }
    },
    {
      "cell_type": "code",
      "source": [
        "# Example\n",
        "# Get the characters from position 2, and all the way to the end:\n",
        "b = \"Hello, World!\"\n",
        "print(b[2:])"
      ],
      "metadata": {
        "id": "-6qKUBT8KWlI",
        "outputId": "bf73201e-5dc5-48a4-bbd0-2eababf28ba1",
        "colab": {
          "base_uri": "https://localhost:8080/"
        }
      },
      "execution_count": 2,
      "outputs": [
        {
          "output_type": "stream",
          "name": "stdout",
          "text": [
            "llo, World!\n"
          ]
        }
      ]
    },
    {
      "cell_type": "markdown",
      "source": [
        "### Negative Indexing\n",
        "Use negative indexes to start the slice from the end of the string:\n",
        "\n",
        "Example\n",
        "\n",
        "Get the characters:\n",
        "\n",
        "From: \"o\" in \"World!\" (position -5)\n",
        "\n",
        "To, but not included: \"d\" in \"World!\" (position -2):"
      ],
      "metadata": {
        "id": "8FlwPKddKk1_"
      }
    },
    {
      "cell_type": "code",
      "source": [
        "b = \"Hello, World!\"\n",
        "print(b[-5:-2])"
      ],
      "metadata": {
        "id": "Zr-aZTaxKgmi",
        "outputId": "3597c911-d168-4f6e-fd50-6b122c389c10",
        "colab": {
          "base_uri": "https://localhost:8080/"
        }
      },
      "execution_count": 3,
      "outputs": [
        {
          "output_type": "stream",
          "name": "stdout",
          "text": [
            "orl\n"
          ]
        }
      ]
    },
    {
      "cell_type": "markdown",
      "source": [
        "# Modify Strings\n",
        "\n",
        "Python has a set of built-in methods that you can use on strings.\n",
        "## Upper Case\n",
        "\n",
        "Example\n",
        "\n",
        "The `upper()` method returns the string in upper case:\n",
        "\n",
        "The `lower()` method returns the string in lower case:"
      ],
      "metadata": {
        "id": "L0wv14e_K7xg"
      }
    },
    {
      "cell_type": "code",
      "source": [
        "a = \"Hello, World!\"\n",
        "print(a.upper())\n",
        "print(a.lower())"
      ],
      "metadata": {
        "id": "XHX6uckGKxFD",
        "outputId": "8003e2ed-6ab2-4e0b-e45d-2d65637fd0f6",
        "colab": {
          "base_uri": "https://localhost:8080/"
        }
      },
      "execution_count": 4,
      "outputs": [
        {
          "output_type": "stream",
          "name": "stdout",
          "text": [
            "HELLO, WORLD!\n",
            "hello, world!\n"
          ]
        }
      ]
    },
    {
      "cell_type": "markdown",
      "source": [
        "## Remove Whitespace\n",
        "\n",
        "Whitespace is the space before and/or after the actual text, and very often you want to remove this space.\n",
        "\n",
        "Example\n",
        "\n",
        "The `strip()` method removes any whitespace from the beginning or the end:"
      ],
      "metadata": {
        "id": "wI0NK2LDLUF8"
      }
    },
    {
      "cell_type": "code",
      "source": [
        "a = \" Hello, World! \"\n",
        "print(a.strip()) "
      ],
      "metadata": {
        "id": "BvZAR6UnLPQU",
        "outputId": "65abf5b9-a0b9-4065-d7ae-b101622111ff",
        "colab": {
          "base_uri": "https://localhost:8080/"
        }
      },
      "execution_count": 5,
      "outputs": [
        {
          "output_type": "stream",
          "name": "stdout",
          "text": [
            "Hello, World!\n"
          ]
        }
      ]
    },
    {
      "cell_type": "markdown",
      "source": [
        "## Replace String\n",
        "Example\n",
        "\n",
        "The ` replace() ` method replaces a string with another string:"
      ],
      "metadata": {
        "id": "dlEvfS2HLpJW"
      }
    },
    {
      "cell_type": "code",
      "source": [
        "a = \"Hello, World!\"\n",
        "print(a.replace(\"H\", \"J\"))"
      ],
      "metadata": {
        "id": "3D64bXfJLkZk",
        "outputId": "ac93786a-d889-41e2-e727-fde99fbeabac",
        "colab": {
          "base_uri": "https://localhost:8080/"
        }
      },
      "execution_count": 6,
      "outputs": [
        {
          "output_type": "stream",
          "name": "stdout",
          "text": [
            "Jello, World!\n"
          ]
        }
      ]
    },
    {
      "cell_type": "markdown",
      "source": [
        "## Split String\n",
        "\n",
        "The `split()` method returns a list where the text between the specified separator becomes the list items.\n",
        "\n",
        "Example\n",
        "\n",
        "The `split()` method splits the string into substrings if it finds instances of the separator:"
      ],
      "metadata": {
        "id": "VhY2VnJKL2I9"
      }
    },
    {
      "cell_type": "code",
      "source": [
        "print(a.split(\",\"))"
      ],
      "metadata": {
        "id": "NDIocJ-lLzFj",
        "outputId": "59afcad4-5953-42b6-8fbc-a1d832544b43",
        "colab": {
          "base_uri": "https://localhost:8080/"
        }
      },
      "execution_count": 7,
      "outputs": [
        {
          "output_type": "stream",
          "name": "stdout",
          "text": [
            "['Hello', ' World!']\n"
          ]
        }
      ]
    },
    {
      "cell_type": "markdown",
      "source": [
        "# String Concatenation\n",
        "\n",
        "To concatenate, or combine, two strings you can use the + operator.\n",
        "\n",
        "Example\n",
        "\n",
        "Merge variable a with variable b into variable c:"
      ],
      "metadata": {
        "id": "iC0R0hHtMn3r"
      }
    },
    {
      "cell_type": "code",
      "source": [
        "a = \"Hello\"\n",
        "b = \"World\"\n",
        "c = a + b\n",
        "print(c)"
      ],
      "metadata": {
        "id": "-1vspX8VL9u8",
        "outputId": "303166b5-cfad-4ff5-8f01-675f96beacad",
        "colab": {
          "base_uri": "https://localhost:8080/"
        }
      },
      "execution_count": 8,
      "outputs": [
        {
          "output_type": "stream",
          "name": "stdout",
          "text": [
            "HelloWorld\n"
          ]
        }
      ]
    },
    {
      "cell_type": "code",
      "source": [
        "# To add a space between them, add a \" \":\n",
        "a = \"Hello\"\n",
        "b = \"World\"\n",
        "c = a + \" \" + b\n",
        "print(c)"
      ],
      "metadata": {
        "id": "4WNpCzVSMvX0",
        "outputId": "c0f35299-f081-4ca2-adbf-2c65b137d7b5",
        "colab": {
          "base_uri": "https://localhost:8080/"
        }
      },
      "execution_count": 9,
      "outputs": [
        {
          "output_type": "stream",
          "name": "stdout",
          "text": [
            "Hello World\n"
          ]
        }
      ]
    },
    {
      "cell_type": "markdown",
      "source": [
        "## String Format\n",
        "\n",
        "As we learned in the Python Variables chapter, we cannot combine strings and numbers like this:\n",
        "\n",
        "Example\n",
        "\n",
        "```\n",
        "age = 36\n",
        "txt = \"My name is John, I am \" + age\n",
        "print(txt)\n",
        "```\n",
        "\n",
        "But we can combine strings and numbers by using the format() method!\n",
        "\n",
        "The `format()` method takes the passed arguments, formats them, and places them in the string where the placeholders `{}` are:\n",
        "\n",
        "The `format()` method takes unlimited number of arguments, and are placed into the respective placeholders:"
      ],
      "metadata": {
        "id": "omdxgT98iogl"
      }
    },
    {
      "cell_type": "code",
      "source": [
        "# Use the format() method to insert numbers into strings:\n",
        "age = 36\n",
        "txt = \"My name is John, and I am {}\"\n",
        "print(txt.format(age))\n",
        "\n",
        "##############################################################\n",
        "quantity = 3\n",
        "itemno = 567\n",
        "price = 49.95\n",
        "myorder = \"I want {} pieces of item {} for {} dollars.\"\n",
        "print(myorder.format(quantity, itemno, price))"
      ],
      "metadata": {
        "id": "I1l9PYsxMyDG",
        "outputId": "6f3680c8-ae3c-4f8d-f523-e47ddecd4006",
        "colab": {
          "base_uri": "https://localhost:8080/"
        }
      },
      "execution_count": 10,
      "outputs": [
        {
          "output_type": "stream",
          "name": "stdout",
          "text": [
            "My name is John, and I am 36\n",
            "I want 3 pieces of item 567 for 49.95 dollars.\n"
          ]
        }
      ]
    },
    {
      "cell_type": "markdown",
      "source": [
        "You can use index numbers {0} to be sure the arguments are placed in the correct placeholders:"
      ],
      "metadata": {
        "id": "JuyNJajdjanJ"
      }
    },
    {
      "cell_type": "code",
      "source": [
        "quantity = 3\n",
        "itemno = 567\n",
        "price = 49.95\n",
        "myorder = \"I want to pay {2} dollars for {0} pieces of item {1}.\"\n",
        "print(myorder.format(quantity, itemno, price))"
      ],
      "metadata": {
        "id": "6jdVXJtVjW9r",
        "outputId": "6f4006ba-5043-44d5-d572-b78d5b332cef",
        "colab": {
          "base_uri": "https://localhost:8080/"
        }
      },
      "execution_count": 11,
      "outputs": [
        {
          "output_type": "stream",
          "name": "stdout",
          "text": [
            "I want to pay 49.95 dollars for 3 pieces of item 567.\n"
          ]
        }
      ]
    },
    {
      "cell_type": "markdown",
      "source": [
        "## Escape Character\n",
        "\n",
        "To insert characters that are illegal in a string, use an escape character.\n",
        "\n",
        "An escape character is a backslash `\\` followed by the character you want to insert.\n",
        "\n",
        "An example of an illegal character is a double quote inside a string that is surrounded by double quotes:\n",
        "\n",
        "Example\n",
        "\n",
        "You will get an error if you use double quotes inside a string that is \n",
        "surrounded by double quotes:\n",
        "\n",
        "```\n",
        "txt = \"We are the so-called \"Vikings\" from the north.\"\n",
        "```\n",
        "To fix this problem, use the escape character \\\":"
      ],
      "metadata": {
        "id": "NbQmI070kNZo"
      }
    },
    {
      "cell_type": "code",
      "source": [
        "# The escape character allows you to use double quotes when you normally would not be allowed:\n",
        "txt = \"We are the so-called \\\"Vikings\\\" from the north.\""
      ],
      "metadata": {
        "id": "OKCI6haDjekB"
      },
      "execution_count": 12,
      "outputs": []
    },
    {
      "cell_type": "markdown",
      "source": [
        "Escape Characters\n",
        "\n",
        "Other escape characters used in Python:\n",
        "```\n",
        "Code \tResult \t\n",
        "\\' \t  Single Quote \t\n",
        "\\\\ \t  Backslash \t\n",
        "\\n \t  New Line \t\n",
        "\\r \t  Carriage Return \t\n",
        "\\t \t  Tab \t\n",
        "\\b \t  Backspace \t\n",
        "\\f \t  Form Feed \t\n",
        "\\ooo \tOctal value \t\n",
        "\\xhh \tHex value\n",
        "```"
      ],
      "metadata": {
        "id": "672M1wtPknw4"
      }
    },
    {
      "cell_type": "markdown",
      "source": [
        "# String Methods\n",
        "\n",
        "Python has a set of built-in methods that you can use on strings.\n",
        "\n",
        "**Note**: All string methods return new values. They do not change the original string.\n",
        "\n",
        "```\n",
        "Method \t         Description\n",
        "\n",
        "capitalize()\t  Converts the first character to upper case\n",
        "casefold()\t    Converts string into lower case\n",
        "center()\t      Returns a centered string\n",
        "count()\t        Returns the number of times a specified value occurs in a string\n",
        "encode()\t      Returns an encoded version of the string\n",
        "endswith() \t    Returns true if the string ends with the specified value\n",
        "expandtabs()\t  Sets the tab size of the string\n",
        "find()\t        Searches the string for a specified value and returns the position of where it was found\n",
        "format()\t      Formats specified values in a string\n",
        "format_map()\t  Formats specified values in a string\n",
        "index()\t        Searches the string for a specified value and returns the position of where it was found\n",
        "isalnum()\t      Returns True if all characters in the string are alphanumeric\n",
        "isalpha()\t      Returns True if all characters in the string are in the alphabet\n",
        "isdecimal()\t    Returns True if all characters in the string are decimals\n",
        "isdigit()\t      Returns True if all characters in the string are digits\n",
        "isidentifier()\tReturns True if the string is an identifier\n",
        "islower()\t      Returns True if all characters in the string are lower case\n",
        "isnumeric()\t    Returns True if all characters in the string are numeric\n",
        "isprintable()\t  Returns True if all characters in the string are printable\n",
        "isspace()\t      Returns True if all characters in the string are whitespaces\n",
        "istitle()     \tReturns True if the string follows the rules of a title\n",
        "isupper()\t      Returns True if all characters in the string are upper case\n",
        "join()\t        Joins the elements of an iterable to the end of the string\n",
        "ljust()\t        Returns a left justified version of the string\n",
        "lower()\t        Converts a string into lower case\n",
        "lstrip()\t      Returns a left trim version of the string\n",
        "maketrans()\t    Returns a translation table to be used in translations\n",
        "partition()\t    Returns a tuple where the string is parted into three parts\n",
        "replace()\t      Returns a string where a specified value is replaced with a specified value\n",
        "rfind()\t        Searches the string for a specified value and returns the last position of where it was found\n",
        "rindex()\t      Searches the string for a specified value and returns the last position of where it was found\n",
        "rjust()\t        Returns a right justified version of the string\n",
        "rpartition()\t  Returns a tuple where the string is parted into three parts\n",
        "rsplit()\t      Splits the string at the specified separator, and returns a list\n",
        "rstrip()\t      Returns a right trim version of the string\n",
        "split()\t        Splits the string at the specified separator, and returns a list\n",
        "splitlines()\t  Splits the string at line breaks and returns a list\n",
        "startswith()\t  Returns true if the string starts with the specified value\n",
        "strip()\t        Returns a trimmed version of the string\n",
        "swapcase()\t    Swaps cases, lower case becomes upper case and vice versa\n",
        "title()\t        Converts the first character of each word to upper case\n",
        "translate()\t    Returns a translated string\n",
        "upper()\t        Converts a string into upper case\n",
        "zfill()\t        Fills the string with a specified number of 0 values at the beginning\n",
        "```"
      ],
      "metadata": {
        "id": "x5QQBqO7kn9-"
      }
    },
    {
      "cell_type": "markdown",
      "source": [
        "# ***Test Yourself With Exercises in HackerRank***"
      ],
      "metadata": {
        "id": "nVdiKsxVmO6P"
      }
    },
    {
      "cell_type": "markdown",
      "source": [
        "# **Python Booleans**\n",
        "\n",
        "Booleans represent one of two values: True or False.\n",
        "\n",
        "### Boolean Values\n",
        "\n",
        "In programming you often need to know if an expression is True or False.\n",
        "\n",
        "You can evaluate any expression in Python, and get one of two answers, True or False.\n",
        "\n",
        "When you compare two values, the expression is evaluated and Python returns the Boolean answer:\n",
        "\n",
        "When you run a condition in an if statement, Python returns `True or False`:\n",
        "\n",
        "Evaluate Values and Variables\n",
        "\n",
        "The `bool()` function allows you to evaluate any value, and give you True or False in return,"
      ],
      "metadata": {
        "id": "yCLImbdDmaOa"
      }
    },
    {
      "cell_type": "code",
      "source": [
        "# Example\n",
        "print(10 > 9)\n",
        "print(10 == 9)\n",
        "print(10 < 9) "
      ],
      "metadata": {
        "id": "ztEiEmzwkjF4",
        "outputId": "5098ed05-0d3a-4753-df3c-2d5ff604d941",
        "colab": {
          "base_uri": "https://localhost:8080/"
        }
      },
      "execution_count": 13,
      "outputs": [
        {
          "output_type": "stream",
          "name": "stdout",
          "text": [
            "True\n",
            "False\n",
            "False\n"
          ]
        }
      ]
    },
    {
      "cell_type": "code",
      "source": [
        "# Print a message based on whether the condition is True or False:\n",
        "a = 200\n",
        "b = 33\n",
        "\n",
        "if b > a:\n",
        "  print(\"b is greater than a\")\n",
        "else:\n",
        "  print(\"b is not greater than a\") "
      ],
      "metadata": {
        "id": "Ze1DX66ZmsTa",
        "outputId": "e08d5bab-bbf4-40ee-9bad-dfc74f417224",
        "colab": {
          "base_uri": "https://localhost:8080/"
        }
      },
      "execution_count": 15,
      "outputs": [
        {
          "output_type": "stream",
          "name": "stdout",
          "text": [
            "b is not greater than a\n"
          ]
        }
      ]
    },
    {
      "cell_type": "code",
      "source": [
        "# Evaluate a string and a number:\n",
        "print(bool(\"Hello\"))\n",
        "print(bool(15))"
      ],
      "metadata": {
        "id": "UPHQUj--m5j7",
        "outputId": "202449b4-539c-45df-bd7d-086026a405b5",
        "colab": {
          "base_uri": "https://localhost:8080/"
        }
      },
      "execution_count": 14,
      "outputs": [
        {
          "output_type": "stream",
          "name": "stdout",
          "text": [
            "True\n",
            "True\n"
          ]
        }
      ]
    },
    {
      "cell_type": "code",
      "source": [
        "# Evaluate two variables:\n",
        "x = \"Hello\"\n",
        "y = 15\n",
        "\n",
        "print(bool(x))\n",
        "print(bool(y))"
      ],
      "metadata": {
        "id": "q1TNe2DqnAcZ",
        "outputId": "55ff89a8-8993-4fb4-c11a-db2a82da3456",
        "colab": {
          "base_uri": "https://localhost:8080/"
        }
      },
      "execution_count": 16,
      "outputs": [
        {
          "output_type": "stream",
          "name": "stdout",
          "text": [
            "True\n",
            "True\n"
          ]
        }
      ]
    },
    {
      "cell_type": "markdown",
      "source": [
        "### Most Values are True\n",
        "\n",
        "Almost any value is evaluated to True if it has some sort of content.\n",
        "\n",
        "Any string is True, except empty strings.\n",
        "\n",
        "Any number is True, except 0.\n",
        "\n",
        "Any list, tuple, set, and dictionary are True, except empty ones.\n",
        "\n",
        "### Some Values are False\n",
        "\n",
        "In fact, there are not many values that evaluate to False, except empty values, such as (), [], {}, \"\", the number 0, and the value None. \n",
        "\n",
        "And of course the value False evaluates to False.\n",
        "\n",
        "One more value, or object in this case, evaluates to False, and that is if you have an object that is made from a class with a __len__ function that returns 0 or False: "
      ],
      "metadata": {
        "id": "kiwFGCpkm4iX"
      }
    },
    {
      "cell_type": "code",
      "source": [
        "# The following will return True:\n",
        "bool(\"abc\")\n",
        "bool(123)\n",
        "bool([\"apple\", \"cherry\", \"banana\"])"
      ],
      "metadata": {
        "id": "a3_-mcCwm5BH",
        "outputId": "deb8e6ad-5daa-4192-ba05-fcb562d23f8e",
        "colab": {
          "base_uri": "https://localhost:8080/"
        }
      },
      "execution_count": 18,
      "outputs": [
        {
          "output_type": "execute_result",
          "data": {
            "text/plain": [
              "True"
            ]
          },
          "metadata": {},
          "execution_count": 18
        }
      ]
    },
    {
      "cell_type": "markdown",
      "source": [],
      "metadata": {
        "id": "3KUMuSQam3HZ"
      }
    },
    {
      "cell_type": "code",
      "source": [
        "# The following will return False:\n",
        "bool(False)\n",
        "bool(None)\n",
        "bool(0)\n",
        "bool(\"\")\n",
        "bool(())\n",
        "bool([])\n",
        "bool({}) "
      ],
      "metadata": {
        "id": "KERlYgzTnou0",
        "outputId": "1292d205-65d0-46ae-9571-129ea802b3e9",
        "colab": {
          "base_uri": "https://localhost:8080/"
        }
      },
      "execution_count": 20,
      "outputs": [
        {
          "output_type": "execute_result",
          "data": {
            "text/plain": [
              "False"
            ]
          },
          "metadata": {},
          "execution_count": 20
        }
      ]
    },
    {
      "cell_type": "markdown",
      "source": [
        "Python also has many built-in functions that return a boolean value, like the `isinstance()` function, which can be used to determine if an object is of a certain data type:"
      ],
      "metadata": {
        "id": "4LOySGPWm3XI"
      }
    },
    {
      "cell_type": "code",
      "source": [
        "# Example\n",
        "\n",
        "# Check if an object is an integer or not:\n",
        "x = 200\n",
        "print(isinstance(x, int)) "
      ],
      "metadata": {
        "id": "bCkWSCXmn2EZ",
        "outputId": "76254a8c-728b-46b9-d6bc-86201f5b2c0c",
        "colab": {
          "base_uri": "https://localhost:8080/"
        }
      },
      "execution_count": 21,
      "outputs": [
        {
          "output_type": "stream",
          "name": "stdout",
          "text": [
            "True\n"
          ]
        }
      ]
    },
    {
      "cell_type": "markdown",
      "source": [
        "# ***Python Operators***\n",
        "\n",
        "Operators are used to perform operations on variables and values.\n",
        "\n",
        "In the example below, we use the + operator to add together two values:\n",
        "\n",
        "Example\n",
        "`print(10 + 5) #15`\n",
        "\n",
        "Python divides the operators in the following groups:\n",
        "\n",
        "    Arithmetic operators\n",
        "    Assignment operators\n",
        "    Comparison operators\n",
        "    Logical operators\n",
        "    Identity operators\n",
        "    Membership operators\n",
        "    Bitwise operators\n"
      ],
      "metadata": {
        "id": "GgfLUikNoCRc"
      }
    },
    {
      "cell_type": "markdown",
      "source": [
        "## Python Arithmetic Operators\n",
        "\n",
        "Arithmetic operators are used with numeric values to perform common mathematical operations:\n",
        "```\n",
        "Operator \tName \t         Example \t\n",
        "+     \tAddition \t       x + y \t\n",
        "-     \tSubtraction \t   x - y \t\n",
        "* \t    Multiplication \t x * y \t\n",
        "/ \t    Division \t       x / y \t\n",
        "% \t    Modulus \t       x % y \t\n",
        "** \t    Exponentiation   x ** y \t\n",
        "// \t    Floor division \t x // y\n",
        "```"
      ],
      "metadata": {
        "id": "QBYsyb8toSNV"
      }
    },
    {
      "cell_type": "markdown",
      "source": [
        "## Python Assignment Operators\n",
        "\n",
        "Assignment operators are used to assign values to variables:\n",
        "```\n",
        "Operator \tExample \tSame As \n",
        "= \t       x = 5 \t  x = 5 \t\n",
        "+= \t       x += 3 \tx = x + 3 \t\n",
        "-= \t       x -= 3 \tx = x - 3 \t\n",
        "*= \t       x *= 3 \tx = x * 3 \t\n",
        "/= \t       x /= 3 \tx = x / 3 \t\n",
        "%= \t       x %= 3 \tx = x % 3 \t\n",
        "//= \t     x //= 3 \tx = x // 3 \t\n",
        "**= \t     x **= 3 \tx = x ** 3 \t\n",
        "&= \t       x &= 3 \tx = x & 3 \t\n",
        "|= \t       x |= 3 \tx = x | 3 \t\n",
        "^= \t       x ^= 3 \tx = x ^ 3 \t\n",
        ">>= \t     x >>= 3 \tx = x >> 3 \t\n",
        "<<= \t     x <<= 3 \tx = x << 3\n",
        "```"
      ],
      "metadata": {
        "id": "e_wUE5nFowpP"
      }
    },
    {
      "cell_type": "markdown",
      "source": [
        "## Python Comparison Operators\n",
        "\n",
        "Comparison operators are used to compare two values:\n",
        "```\n",
        "Operator \tName \tExample \t\n",
        "== \t      Equal \tx == y \t\n",
        "!= \t     Not equal \tx != y \t\n",
        "> \t     Greater than \tx > y \t\n",
        "< \t     Less than \tx < y \t\n",
        ">= \t     Greater than or equal to \tx >= y \t\n",
        "<= \t   Less than or equal to \tx <= y\n",
        "```"
      ],
      "metadata": {
        "id": "HM_bDI8UpJNM"
      }
    },
    {
      "cell_type": "markdown",
      "source": [
        "## Python Logical Operators\n",
        "\n",
        "Logical operators are used to combine conditional statements:\n",
        "```\n",
        "Operator \tDescription \t                             Example \n",
        "and  \tReturns True if both statements are true \tx < 5 and  x < 10 \t\n",
        "or \tReturns True if one of the statements is true \tx < 5 or x < 4 \t\n",
        "not \tReverse the result, returns False if the result is true \tnot(x < 5 and x < 10) \t\n",
        "```\n",
        "\n",
        "## Python Identity Operators\n",
        "\n",
        "Identity operators are used to compare the objects, not if they are equal, but if they are actually the same object, with the same memory location:\n",
        "```\n",
        "Operator \t             Description \t                            Example \t\n",
        "is  \tReturns True if both variables are the same object \t       x is y \t\n",
        "is not \tReturns True if both variables are not the same object \tx is not y\n",
        "```"
      ],
      "metadata": {
        "id": "sWF9tYWspX9x"
      }
    },
    {
      "cell_type": "markdown",
      "source": [
        "## Python Membership Operators\n",
        "\n",
        "Membership operators are used to test if a sequence is presented in an object:\n",
        "```\n",
        "Operator \t      Description \t                                        Example \t\n",
        "in  \tReturns True if a sequence with the specified value is present in the object \tx in y \t\n",
        "not in \tReturns True if a sequence with the specified value is not present in the object \tx not in y \t\n",
        "```\n",
        "## Python Bitwise Operators\n",
        "\n",
        "Bitwise operators are used to compare (binary) numbers:\n",
        "```\n",
        "Operator \tName     \tDescription \t                             Example \n",
        "&  \t      AND \tSets each bit to 1 if both bits are 1       \t    x & y \t\n",
        "| \t      OR \t  Sets each bit to 1 if one of two bits is 1 \t      x | y \t\n",
        "^ \t      XOR \tSets each bit to 1 if only one of two bits is 1 \tx ^ y \t\n",
        "~ \t      NOT \tInverts all the bits                              \t~x \t\n",
        "<< \t      Zero fill left shift \tShift left by pushing zeros in from the right and let the leftmost bits fall off \t                               x << 2 \t\n",
        ">> \t    Signed right shift \tShift right by pushing copies of the leftmost bit in from the left, and let the rightmost bits fall off \t          x >> 2\n",
        "```"
      ],
      "metadata": {
        "id": "zg1860olpuYu"
      }
    },
    {
      "cell_type": "markdown",
      "source": [
        "# ***Python Collections (Arrays)***\n",
        "\n",
        "There are four collection data types in the Python programming language:\n",
        "\n",
        "    List is a collection which is ordered and changeable. Allows duplicate members.\n",
        "    Tuple is a collection which is ordered and unchangeable. Allows duplicate members.\n",
        "    Set is a collection which is unordered, unchangeable*, and unindexed. No duplicate members.\n",
        "    Dictionary is a collection which is ordered** and changeable. No duplicate members.\n",
        "\n",
        "* Set items are unchangeable, but you can remove and/or add items whenever you like.\n",
        "\n",
        "* As of Python version 3.7, dictionaries are ordered. In Python 3.6 and earlier, dictionaries are unordered.\n",
        "\n",
        "When choosing a collection type, it is useful to understand the properties of that type. Choosing the right type for a particular data set could mean retention of meaning, and, it could mean an increase in efficiency or security."
      ],
      "metadata": {
        "id": "69cblkcrss9C"
      }
    },
    {
      "cell_type": "markdown",
      "source": [
        "# ***Python Lists***\n",
        "```\n",
        "mylist = [\"apple\", \"banana\", \"cherry\"]\n",
        "```\n",
        "\n",
        "Lists are used to store multiple items in a single variable.\n",
        "\n",
        "Lists are one of 4 built-in data types in Python used to store collections of data, the other 3 are Tuple, Set, and Dictionary, all with different qualities and usage.\n",
        "\n",
        "Lists are created using square brackets.\n",
        "\n",
        "## List Items\n",
        "\n",
        "List items are ordered, changeable, and allow duplicate values.\n",
        "\n",
        "List items are indexed, the first item has index [0], the second item has index [1] etc.\n",
        "##Ordered\n",
        "\n",
        "When we say that lists are ordered, it means that the items have a defined order, and that order will not change.\n",
        "\n",
        "If you add new items to a list, the new items will be placed at the end of the list.\n",
        "\n",
        "Note: There are some list methods that will change the order, but in general: the order of the items will not change.\n",
        "##Changeable\n",
        "\n",
        "The list is changeable, meaning that we can change, add, and remove items in a list after it has been created.\n",
        "##Allow Duplicates\n",
        "\n",
        "Since lists are indexed, lists can have items with the same value:"
      ],
      "metadata": {
        "id": "leifI7IQrOlt"
      }
    },
    {
      "cell_type": "code",
      "source": [
        "# Example\n",
        "\n",
        "# Create a List:\n",
        "thislist = [\"apple\", \"banana\", \"cherry\"]\n",
        "print(thislist)"
      ],
      "metadata": {
        "id": "cb1hD_RNn51N",
        "outputId": "dd3c3af9-8988-4742-c9b6-3021c68f0ee0",
        "colab": {
          "base_uri": "https://localhost:8080/"
        }
      },
      "execution_count": 22,
      "outputs": [
        {
          "output_type": "stream",
          "name": "stdout",
          "text": [
            "['apple', 'banana', 'cherry']\n"
          ]
        }
      ]
    },
    {
      "cell_type": "code",
      "source": [
        "# Lists allow duplicate values:\n",
        "thislist = [\"apple\", \"banana\", \"cherry\", \"apple\", \"cherry\"]\n",
        "print(thislist)"
      ],
      "metadata": {
        "id": "-bb5GFZvrqJE",
        "outputId": "a58d74ae-a143-487d-cb6b-c4f0a86ef35e",
        "colab": {
          "base_uri": "https://localhost:8080/"
        }
      },
      "execution_count": 23,
      "outputs": [
        {
          "output_type": "stream",
          "name": "stdout",
          "text": [
            "['apple', 'banana', 'cherry', 'apple', 'cherry']\n"
          ]
        }
      ]
    },
    {
      "cell_type": "markdown",
      "source": [
        "## List Length\n",
        "\n",
        "To determine how many items a list has, use the `len()` function:"
      ],
      "metadata": {
        "id": "y7GegjE4r3bW"
      }
    },
    {
      "cell_type": "code",
      "source": [
        "# Example\n",
        "\n",
        "# Print the number of items in the list:\n",
        "thislist = [\"apple\", \"banana\", \"cherry\"]\n",
        "print(len(thislist))"
      ],
      "metadata": {
        "id": "5uPI43V9rvlT",
        "outputId": "f64a6c4f-af60-4601-8816-656db7d06015",
        "colab": {
          "base_uri": "https://localhost:8080/"
        }
      },
      "execution_count": 24,
      "outputs": [
        {
          "output_type": "stream",
          "name": "stdout",
          "text": [
            "3\n"
          ]
        }
      ]
    },
    {
      "cell_type": "markdown",
      "source": [
        "### List Items - Data Types\n",
        "\n",
        "List items can be of any data type.\n",
        "\n",
        "A list can contain different data types."
      ],
      "metadata": {
        "id": "1WSmGs0Dr_kM"
      }
    },
    {
      "cell_type": "code",
      "source": [
        "list1 = [\"apple\", \"banana\", \"cherry\"]\n",
        "list2 = [1, 5, 7, 9, 3]\n",
        "list3 = [True, False, False]\n",
        "list4 = [\"abc\", 34, True, 40, \"male\"]"
      ],
      "metadata": {
        "id": "i_cy-q26r78G"
      },
      "execution_count": 25,
      "outputs": []
    },
    {
      "cell_type": "markdown",
      "source": [
        "# `type()`\n",
        "\n",
        "From Python's perspective, lists are defined as objects with the data type 'list':\n",
        "```\n",
        "<class 'list'>\n",
        "```\n",
        "Example\n",
        "\n",
        "What is the data type of a list?"
      ],
      "metadata": {
        "id": "dMjJS39vsObw"
      }
    },
    {
      "cell_type": "code",
      "source": [
        "mylist = [\"apple\", \"banana\", \"cherry\"]\n",
        "print(type(mylist))"
      ],
      "metadata": {
        "id": "YKXI9JEPsJzi",
        "outputId": "f89d74d5-7dab-4cf8-e258-53fdd978258d",
        "colab": {
          "base_uri": "https://localhost:8080/"
        }
      },
      "execution_count": 26,
      "outputs": [
        {
          "output_type": "stream",
          "name": "stdout",
          "text": [
            "<class 'list'>\n"
          ]
        }
      ]
    },
    {
      "cell_type": "markdown",
      "source": [
        "The `list()` Constructor\n",
        "\n",
        "It is also possible to use the `list()` constructor when creating a new list."
      ],
      "metadata": {
        "id": "VIeCBkkosf9r"
      }
    },
    {
      "cell_type": "code",
      "source": [
        "thislist = list((\"apple\", \"banana\", \"cherry\")) # note the double round-brackets\n",
        "print(thislist)"
      ],
      "metadata": {
        "id": "k7tYNtZqsbhB",
        "outputId": "1b55e0ed-3a58-4fc5-b3de-a33bf0803c99",
        "colab": {
          "base_uri": "https://localhost:8080/"
        }
      },
      "execution_count": 27,
      "outputs": [
        {
          "output_type": "stream",
          "name": "stdout",
          "text": [
            "['apple', 'banana', 'cherry']\n"
          ]
        }
      ]
    },
    {
      "cell_type": "code",
      "source": [],
      "metadata": {
        "id": "vzTxrnrMskZC"
      },
      "execution_count": null,
      "outputs": []
    }
  ]
}