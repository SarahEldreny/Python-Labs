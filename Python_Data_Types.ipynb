{
  "nbformat": 4,
  "nbformat_minor": 0,
  "metadata": {
    "colab": {
      "provenance": [],
      "include_colab_link": true
    },
    "kernelspec": {
      "name": "python3",
      "display_name": "Python 3"
    },
    "language_info": {
      "name": "python"
    }
  },
  "cells": [
    {
      "cell_type": "markdown",
      "metadata": {
        "id": "view-in-github",
        "colab_type": "text"
      },
      "source": [
        "<a href=\"https://colab.research.google.com/github/SarahEldreny/Python-Labs/blob/main/Python_Data_Types.ipynb\" target=\"_parent\"><img src=\"https://colab.research.google.com/assets/colab-badge.svg\" alt=\"Open In Colab\"/></a>"
      ]
    },
    {
      "cell_type": "markdown",
      "source": [
        "#**Variables**\n",
        "\n",
        "Variables are containers for storing data values.\n",
        "\n",
        "#Creating Variables\n",
        "\n",
        "Python has no command for declaring a variable.\n",
        "\n",
        "A variable is created the moment you first assign a value to it."
      ],
      "metadata": {
        "id": "-KPtmsTVHCwy"
      }
    },
    {
      "cell_type": "code",
      "execution_count": null,
      "metadata": {
        "colab": {
          "base_uri": "https://localhost:8080/"
        },
        "id": "Bc5v3wfpF92F",
        "outputId": "236476b1-28c9-47de-bdd5-23b83591e1fa"
      },
      "outputs": [
        {
          "output_type": "stream",
          "name": "stdout",
          "text": [
            "5\n",
            "John\n"
          ]
        }
      ],
      "source": [
        "#Example\n",
        "x = 5\n",
        "y = \"John\"\n",
        "print(x)\n",
        "print(y)"
      ]
    },
    {
      "cell_type": "markdown",
      "source": [
        "Variables do not need to be declared with any particular type, and can even change type after they have been set."
      ],
      "metadata": {
        "id": "PDBMI0bCHRTi"
      }
    },
    {
      "cell_type": "code",
      "source": [
        "#Example\n",
        "x = 4       # x is of type int\n",
        "x = \"Sally\" # x is now of type str\n",
        "print(x)"
      ],
      "metadata": {
        "colab": {
          "base_uri": "https://localhost:8080/"
        },
        "id": "L16JJg4PHNgX",
        "outputId": "9577c24b-b8f5-46b2-f94c-2c82135768f4"
      },
      "execution_count": null,
      "outputs": [
        {
          "output_type": "stream",
          "name": "stdout",
          "text": [
            "Sally\n"
          ]
        }
      ]
    },
    {
      "cell_type": "markdown",
      "source": [
        "#Casting\n",
        "\n",
        "If you want to specify the data type of a variable, this can be done with casting.\n",
        "\n",
        "### Specify a Variable Type\n",
        "\n",
        "There may be times when you want to specify a type on to a variable. This can be done with casting. Python is an object-orientated language, and as such it uses classes to define data types, including its primitive types.\n",
        "\n",
        "Casting in python is therefore done using constructor functions:\n",
        "\n",
        "\n",
        "*   int() - constructs an integer number from an integer literal, a float literal (by removing all decimals), or a string literal (providing the string represents a whole number)\n",
        "*   float() - constructs a float number from an integer literal, a float literal or a string literal (providing the string represents a float or an integer)\n",
        "*    str() - constructs a string from a wide variety of data types, including strings, integer literals and float literals\n",
        "\n",
        "\n",
        "    \n",
        "    \n",
        "    \n"
      ],
      "metadata": {
        "id": "6qwmD8t0MlMJ"
      }
    },
    {
      "cell_type": "code",
      "source": [
        "x = str(3)    # x will be '3'\n",
        "y = int(3)    # y will be 3\n",
        "z = float(3)  # z will be 3.0 "
      ],
      "metadata": {
        "id": "KSM4sOtqHUii"
      },
      "execution_count": null,
      "outputs": []
    },
    {
      "cell_type": "markdown",
      "source": [
        "## Get the Type\n",
        "\n",
        "You can get the data type of a variable with the type() function."
      ],
      "metadata": {
        "id": "buvRK2Y1MyiI"
      }
    },
    {
      "cell_type": "code",
      "source": [
        "x = 5\n",
        "y = \"John\"\n",
        "print(type(x))\n",
        "print(type(y)) "
      ],
      "metadata": {
        "colab": {
          "base_uri": "https://localhost:8080/"
        },
        "id": "RPgDy_EeMp7E",
        "outputId": "380f1882-a934-4356-b075-a750025aa94e"
      },
      "execution_count": null,
      "outputs": [
        {
          "output_type": "stream",
          "name": "stdout",
          "text": [
            "<class 'int'>\n",
            "<class 'str'>\n"
          ]
        }
      ]
    },
    {
      "cell_type": "markdown",
      "source": [
        "### Single or Double Quotes?\n",
        "\n",
        "String variables can be declared either by using single or double quotes:"
      ],
      "metadata": {
        "id": "s-D6eB9KM7KI"
      }
    },
    {
      "cell_type": "code",
      "source": [
        "x = \"John\"\n",
        "# is the same as\n",
        "x = 'John'"
      ],
      "metadata": {
        "id": "V3XMsMKSM31l"
      },
      "execution_count": null,
      "outputs": []
    },
    {
      "cell_type": "markdown",
      "source": [
        "## Case-Sensitive\n",
        "\n",
        "Variable names are case-sensitive."
      ],
      "metadata": {
        "id": "IeUuyRt_NDJJ"
      }
    },
    {
      "cell_type": "code",
      "source": [
        "a = 4\n",
        "A = \"Sally\"\n",
        "#A will not overwrite a "
      ],
      "metadata": {
        "id": "i0mxPO49NLsd"
      },
      "execution_count": null,
      "outputs": []
    },
    {
      "cell_type": "markdown",
      "source": [
        "### Variable Names\n",
        "A variable can have a short name (like x and y) or a more descriptive name (age, carname, total_volume). Rules for Python variables:\n",
        "\n",
        "    A variable name must start with a letter or the underscore character\n",
        "    A variable name cannot start with a number\n",
        "    A variable name can only contain alpha-numeric characters and underscores (A-z, 0-9, and _ )\n",
        "    Variable names are case-sensitive (age, Age and AGE are three different variables)\n"
      ],
      "metadata": {
        "id": "voQ2qZ0xNdye"
      }
    },
    {
      "cell_type": "code",
      "source": [
        "#Legal variable names:\n",
        "myvar = \"John\"\n",
        "my_var = \"John\"\n",
        "_my_var = \"John\"\n",
        "myVar = \"John\"\n",
        "MYVAR = \"John\"\n",
        "myvar2 = \"John\" \n",
        "\n",
        "# Illegal variable names:\n",
        "# 2myvar = \"John\"\n",
        "# my-var = \"John\"\n",
        "# my var = \"John\" "
      ],
      "metadata": {
        "id": "A1RflCXTNN-3"
      },
      "execution_count": null,
      "outputs": []
    },
    {
      "cell_type": "markdown",
      "source": [
        "## Multi Words Variable Names\n",
        "\n",
        "Variable names with more than one word can be difficult to read.\n",
        "\n",
        "There are several techniques you can use to make them more readable:\n",
        "\n",
        "**Camel Case**\n",
        "\n",
        "Each word, except the first, starts with a capital letter:\n",
        "\n",
        "```\n",
        "myVariableName = \"John\"\n",
        "```\n",
        "**Pascal Case**\n",
        "\n",
        "Each word starts with a capital letter:\n",
        "\n",
        "\n",
        "```\n",
        "MyVariableName = \"John\"\n",
        "```\n",
        "\n",
        "**Snake Case**\n",
        "\n",
        "Each word is separated by an underscore character:\n",
        "\n",
        "\n",
        "\n",
        "```\n",
        "my_variable_name = \"John\"\n",
        "\n"
      ],
      "metadata": {
        "id": "t7dMxOxwNxGf"
      }
    },
    {
      "cell_type": "markdown",
      "source": [
        "## Many Values to Multiple Variables\n",
        "\n",
        "Python allows you to assign values to multiple variables in one line:\n",
        "\n",
        "\n",
        "\n",
        "Note: Make sure the number of variables matches the number of values, or else you will get an error.\n",
        "\n",
        "Example\n"
      ],
      "metadata": {
        "id": "ERNnx8irOz93"
      }
    },
    {
      "cell_type": "code",
      "source": [
        "x, y, z = \"Orange\", \"Banana\", \"Cherry\"\n",
        "print(x)\n",
        "print(y)\n",
        "print(z) "
      ],
      "metadata": {
        "colab": {
          "base_uri": "https://localhost:8080/"
        },
        "id": "Bb-9iq18Nmge",
        "outputId": "f1ea16d0-a9e2-44ae-badf-d1c0e03e6274"
      },
      "execution_count": null,
      "outputs": [
        {
          "output_type": "stream",
          "name": "stdout",
          "text": [
            "Orange\n",
            "Banana\n",
            "Cherry\n"
          ]
        }
      ]
    },
    {
      "cell_type": "markdown",
      "source": [
        "### One Value to Multiple Variables\n",
        "\n",
        "And you can assign the same value to multiple variables in one line:\n",
        "Example"
      ],
      "metadata": {
        "id": "PNZXd4xIO5U9"
      }
    },
    {
      "cell_type": "code",
      "source": [
        "x = y = z = \"Orange\"\n",
        "print(x)\n",
        "print(y)\n",
        "print(z)"
      ],
      "metadata": {
        "colab": {
          "base_uri": "https://localhost:8080/"
        },
        "id": "oGcsli6LO3t9",
        "outputId": "13d76680-a71b-46e6-ee3e-38e4c74f3739"
      },
      "execution_count": null,
      "outputs": [
        {
          "output_type": "stream",
          "name": "stdout",
          "text": [
            "Orange\n",
            "Orange\n",
            "Orange\n"
          ]
        }
      ]
    },
    {
      "cell_type": "markdown",
      "source": [
        "### Unpack a Collection\n",
        "\n",
        "If you have a collection of values in a list, tuple etc. Python allows you to extract the values into variables. This is called unpacking.\n",
        "\n",
        "Example\n",
        "\n",
        "Unpack a list:"
      ],
      "metadata": {
        "id": "hlLZiSvXPMsx"
      }
    },
    {
      "cell_type": "code",
      "source": [
        "fruits = [\"apple\", \"banana\", \"cherry\"]\n",
        "x, y, z = fruits\n",
        "print(x)\n",
        "print(y)\n",
        "print(z)"
      ],
      "metadata": {
        "colab": {
          "base_uri": "https://localhost:8080/"
        },
        "id": "mD7wgtqMPIoH",
        "outputId": "03e763a7-f003-4134-a5f4-272b6d6b49e5"
      },
      "execution_count": null,
      "outputs": [
        {
          "output_type": "stream",
          "name": "stdout",
          "text": [
            "apple\n",
            "banana\n",
            "cherry\n"
          ]
        }
      ]
    },
    {
      "cell_type": "markdown",
      "source": [
        "# Output Variables\n",
        "\n",
        "The Python **`print()`** function is often used to output variables.\n",
        "\n",
        "In the `print()` function, you output multiple variables, separated by a comma.\n",
        "\n",
        "You can also use the + operator to output multiple variables.\n",
        "\n",
        "Notice the space character after \"Python \" and \"is \", without them the result would be \"Pythonisawesome\".\n",
        "\n",
        "For numbers, the + character works as a mathematical operator.\n",
        "\n",
        "In the print() function, when you try to combine a string and a number with the + operator, Python will give you an error.\n",
        "\n",
        "Example\n",
        "\n",
        "```\n",
        "x = 5\n",
        "y = \"John\"\n",
        "print(x + y)\n",
        "```\n",
        "\n",
        "\n",
        "The best way to output multiple variables in the print() function is to separate them with commas, which even support different data types."
      ],
      "metadata": {
        "id": "QNzXWgTZP19Z"
      }
    },
    {
      "cell_type": "code",
      "source": [
        "x = \"Python is awesome\"\n",
        "print(x)\n",
        "\n",
        "x = \"Python\"\n",
        "y = \"is\"\n",
        "z = \"awesome\"\n",
        "print(x, y, z)\n",
        "print(x + y + z)\n",
        "\n",
        "x = 5\n",
        "y = 10\n",
        "print(x + y)"
      ],
      "metadata": {
        "colab": {
          "base_uri": "https://localhost:8080/"
        },
        "id": "ECc--XjgPRD4",
        "outputId": "9165b1f0-1165-4c6c-f11e-52d5c95c96ae"
      },
      "execution_count": null,
      "outputs": [
        {
          "output_type": "stream",
          "name": "stdout",
          "text": [
            "Python is awesome\n",
            "Python is awesome\n",
            "Pythonisawesome\n",
            "15\n"
          ]
        }
      ]
    },
    {
      "cell_type": "markdown",
      "source": [
        "## Global Variables\n",
        "\n",
        "Variables that are created outside of a function (as in all of the examples above) are known as global variables.\n",
        "\n",
        "Global variables can be used by everyone, both inside of functions and outside.\n",
        "\n",
        "If you create a variable with the same name inside a function, this variable will be local, and can only be used inside the function. The global variable with the same name will remain as it was, global and with the original value."
      ],
      "metadata": {
        "id": "9TCRwwvURNzy"
      }
    },
    {
      "cell_type": "code",
      "source": [
        "# Example\n",
        "# Create a variable inside a function, with the same name as the global variable\n",
        "x = \"awesome\"\n",
        "\n",
        "def myfunc():\n",
        "  x = \"fantastic\"\n",
        "  print(\"Python is \" + x)\n",
        "\n",
        "myfunc()\n",
        "\n",
        "print(\"Python is \" + x) "
      ],
      "metadata": {
        "colab": {
          "base_uri": "https://localhost:8080/"
        },
        "id": "3VS2XbVQQGNi",
        "outputId": "7a34f728-ec17-43da-9aa3-af4c2df1ddc7"
      },
      "execution_count": null,
      "outputs": [
        {
          "output_type": "stream",
          "name": "stdout",
          "text": [
            "Python is fantastic\n",
            "Python is awesome\n"
          ]
        }
      ]
    },
    {
      "cell_type": "markdown",
      "source": [
        "###The global Keyword\n",
        "\n",
        "Normally, when you create a variable inside a function, that variable is local, and can only be used inside that function.\n",
        "\n",
        "To create a global variable inside a function, you can use the global keyword."
      ],
      "metadata": {
        "id": "St2HayUDSW2Z"
      }
    },
    {
      "cell_type": "code",
      "source": [
        "#If you use the global keyword, the variable belongs to the global scope:\n",
        "def myfunc():\n",
        "  global x\n",
        "  x = \"fantastic\"\n",
        "\n",
        "myfunc()\n",
        "\n",
        "print(\"Python is \" + x) "
      ],
      "metadata": {
        "colab": {
          "base_uri": "https://localhost:8080/"
        },
        "id": "ZBxkTw8QRu3O",
        "outputId": "f4163fcf-b71a-4fb7-b463-a16f860acec3"
      },
      "execution_count": null,
      "outputs": [
        {
          "output_type": "stream",
          "name": "stdout",
          "text": [
            "Python is fantastic\n"
          ]
        }
      ]
    },
    {
      "cell_type": "code",
      "source": [
        "# Also, use the global keyword if you want to change a global variable inside a function.\n",
        "# To change the value of a global variable inside a function, refer to the variable by using the global keyword:\n",
        "\n",
        "x = \"awesome\"\n",
        "\n",
        "def myfunc():\n",
        "  global x\n",
        "  x = \"fantastic\"\n",
        "\n",
        "myfunc()\n",
        "\n",
        "print(\"Python is \" + x) "
      ],
      "metadata": {
        "colab": {
          "base_uri": "https://localhost:8080/"
        },
        "id": "P5q0WXABScWu",
        "outputId": "3259a73b-c3b6-42f2-83db-273e21471334"
      },
      "execution_count": null,
      "outputs": [
        {
          "output_type": "stream",
          "name": "stdout",
          "text": [
            "Python is fantastic\n"
          ]
        }
      ]
    },
    {
      "cell_type": "markdown",
      "source": [
        "# **Python Numbers**\n",
        "\n",
        "There are three numeric types in Python:\n",
        "\n",
        "\n",
        "*   int\n",
        "*   float\n",
        "*   complex\n",
        "\n",
        "Variables of numeric types are created when you assign a value to them:"
      ],
      "metadata": {
        "id": "6g463GxFTTCQ"
      }
    },
    {
      "cell_type": "code",
      "source": [
        "x = 1    # int\n",
        "y = 2.8  # float\n",
        "z = 1j   # complex\n",
        "\n",
        "# To verify the type of any object in Python, use the type() function:\n",
        "\n",
        "print(type(x))\n",
        "print(type(y))\n",
        "print(type(z))"
      ],
      "metadata": {
        "colab": {
          "base_uri": "https://localhost:8080/"
        },
        "id": "rjSfDq1qSl-F",
        "outputId": "32919b86-c4d0-4068-8fed-baa78d4aac36"
      },
      "execution_count": null,
      "outputs": [
        {
          "output_type": "stream",
          "name": "stdout",
          "text": [
            "<class 'int'>\n",
            "<class 'float'>\n",
            "<class 'complex'>\n"
          ]
        }
      ]
    },
    {
      "cell_type": "markdown",
      "source": [
        "### *Int*\n",
        "\n",
        "Int, or integer, is a whole number, positive or negative, without decimals, of unlimited length.\n",
        "\n",
        "### *Float*\n",
        "\n",
        "Float, or \"floating point number\" is a number, positive or negative, containing one or more decimals.\n",
        "\n",
        "### *Complex*\n",
        "\n",
        "Complex numbers are written with a \"j\" as the imaginary part.\n",
        "\n",
        "### *Random Number*\n",
        "\n",
        "Python does not have a random() function to make a random number, but Python has a built-in module called random that can be used to make random numbers."
      ],
      "metadata": {
        "id": "BV5-vthoTTQi"
      }
    },
    {
      "cell_type": "code",
      "source": [
        "# Integers:\n",
        "x = 1\n",
        "y = 35656222554887711\n",
        "z = -3255522\n",
        "\n",
        "print(type(x))\n",
        "print(type(y))\n",
        "print(type(z)) "
      ],
      "metadata": {
        "colab": {
          "base_uri": "https://localhost:8080/"
        },
        "id": "hGzXinCtUQAj",
        "outputId": "9e94f219-a8b2-4643-970a-4312970841ad"
      },
      "execution_count": null,
      "outputs": [
        {
          "output_type": "stream",
          "name": "stdout",
          "text": [
            "<class 'int'>\n",
            "<class 'int'>\n",
            "<class 'int'>\n"
          ]
        }
      ]
    },
    {
      "cell_type": "code",
      "source": [
        "# Float, or \"floating point number\" is a number, positive or negative, containing one or more decimals.\n",
        "x = 1.10\n",
        "y = 1.0\n",
        "z = -35.59\n",
        "\n",
        "print(type(x))\n",
        "print(type(y))\n",
        "print(type(z)) \n",
        "\n",
        "# Float can also be scientific numbers with an \"e\" to indicate the power of 10.\n",
        "x = 35e3\n",
        "y = 12E4\n",
        "z = -87.7e100\n",
        "\n",
        "print(type(x))\n",
        "print(type(y))\n",
        "print(type(z))"
      ],
      "metadata": {
        "colab": {
          "base_uri": "https://localhost:8080/"
        },
        "id": "uDeLgrfoUU6e",
        "outputId": "601ef753-4084-4413-84ca-ff50359152a4"
      },
      "execution_count": null,
      "outputs": [
        {
          "output_type": "stream",
          "name": "stdout",
          "text": [
            "<class 'float'>\n",
            "<class 'float'>\n",
            "<class 'float'>\n",
            "<class 'float'>\n",
            "<class 'float'>\n",
            "<class 'float'>\n"
          ]
        }
      ]
    },
    {
      "cell_type": "code",
      "source": [
        "# Complex:\n",
        "x = 3+5j\n",
        "y = 5j\n",
        "z = -5j\n",
        "\n",
        "print(type(x))\n",
        "print(type(y))\n",
        "print(type(z)) "
      ],
      "metadata": {
        "colab": {
          "base_uri": "https://localhost:8080/"
        },
        "id": "yBOKNTGfUbMo",
        "outputId": "d46bd981-f739-4aa3-fadd-6d18727d9a73"
      },
      "execution_count": null,
      "outputs": [
        {
          "output_type": "stream",
          "name": "stdout",
          "text": [
            "<class 'complex'>\n",
            "<class 'complex'>\n",
            "<class 'complex'>\n"
          ]
        }
      ]
    },
    {
      "cell_type": "code",
      "source": [
        "# Import the random module, and display a random number between 1 and 9:\n",
        "import random\n",
        "\n",
        "print(random.randrange(1, 10)) "
      ],
      "metadata": {
        "colab": {
          "base_uri": "https://localhost:8080/"
        },
        "id": "Vc7QFyRdUqRU",
        "outputId": "7a2f626b-92ec-440f-d7c2-7587decf2604"
      },
      "execution_count": null,
      "outputs": [
        {
          "output_type": "stream",
          "name": "stdout",
          "text": [
            "8\n"
          ]
        }
      ]
    },
    {
      "cell_type": "markdown",
      "source": [
        "### Type Conversion\n",
        "\n",
        "You can convert from one type to another with the int(), float(), and complex() methods:"
      ],
      "metadata": {
        "id": "5e3SqXZcVCod"
      }
    },
    {
      "cell_type": "code",
      "source": [
        "# Convert from one type to another:\n",
        "x = 1    # int\n",
        "y = 2.8  # float\n",
        "z = 1j   # complex\n",
        "\n",
        "#convert from int to float:\n",
        "a = float(x)\n",
        "\n",
        "#convert from float to int:\n",
        "b = int(y)\n",
        "\n",
        "#convert from int to complex:\n",
        "c = complex(x)\n",
        "\n",
        "print(a)\n",
        "print(b)\n",
        "print(c)\n",
        "print(\"-----------------------\")\n",
        "print(type(a))\n",
        "print(type(b))\n",
        "print(type(c))\n",
        "\n",
        "# Note: You cannot convert complex numbers into another number type."
      ],
      "metadata": {
        "colab": {
          "base_uri": "https://localhost:8080/"
        },
        "id": "a72nHzu2U8mj",
        "outputId": "661cba8c-6c7e-4130-e413-3c5c63e44591"
      },
      "execution_count": null,
      "outputs": [
        {
          "output_type": "stream",
          "name": "stdout",
          "text": [
            "1.0\n",
            "2\n",
            "(1+0j)\n",
            "-----------------------\n",
            "<class 'float'>\n",
            "<class 'int'>\n",
            "<class 'complex'>\n"
          ]
        }
      ]
    },
    {
      "cell_type": "markdown",
      "source": [
        "# **Python Strings**\n",
        "\n",
        "Strings in python are surrounded by either single quotation marks, or double quotation marks.\n",
        "\n",
        "'hello' is the same as \"hello\".\n",
        "\n",
        "You can display a string literal with the print() function.\n",
        "\n",
        "Assigning a string to a variable is done with the variable name followed by an equal sign and the string.\n",
        "\n",
        "### Multiline Strings\n",
        "\n",
        "You can assign a multiline string to a variable by using three quotes Or three single quotes.\n",
        "\n",
        "\n",
        "**Note**: in the result, the line breaks are inserted at the same position as in the code.\n"
      ],
      "metadata": {
        "id": "Zp3rGYqIbAl6"
      }
    },
    {
      "cell_type": "code",
      "source": [
        "a = \"Hello\"\n",
        "print(a) \n",
        "\n",
        "# You can use three double quotes:\n",
        "b = \"\"\"Lorem ipsum dolor sit amet,\n",
        "consectetur adipiscing elit,\n",
        "sed do eiusmod tempor incididunt\n",
        "ut labore et dolore magna aliqua.\"\"\"\n",
        "print(b) \n",
        "\n",
        "c = '''Lorem ipsum dolor sit amet,\n",
        "consectetur adipiscing elit,\n",
        "sed do eiusmod tempor incididunt\n",
        "ut labore et dolore magna aliqua.'''\n",
        "print(c) "
      ],
      "metadata": {
        "colab": {
          "base_uri": "https://localhost:8080/"
        },
        "id": "N-GQ5cP5VFNw",
        "outputId": "0877c337-2214-4f80-da18-34ddeb3a0547"
      },
      "execution_count": null,
      "outputs": [
        {
          "output_type": "stream",
          "name": "stdout",
          "text": [
            "Hello\n",
            "Lorem ipsum dolor sit amet,\n",
            "consectetur adipiscing elit,\n",
            "sed do eiusmod tempor incididunt\n",
            "ut labore et dolore magna aliqua.\n",
            "Lorem ipsum dolor sit amet,\n",
            "consectetur adipiscing elit,\n",
            "sed do eiusmod tempor incididunt\n",
            "ut labore et dolore magna aliqua.\n"
          ]
        }
      ]
    },
    {
      "cell_type": "markdown",
      "source": [
        "# Strings are Arrays\n",
        "\n",
        "Like many other popular programming languages, strings in Python are arrays of bytes representing unicode characters.\n",
        "\n",
        "However, Python does not have a character data type, a single character is simply a string with a length of 1.\n",
        "\n",
        "Square brackets can be used to access elements of the string."
      ],
      "metadata": {
        "id": "57i2i_Xne2VT"
      }
    },
    {
      "cell_type": "code",
      "source": [
        "# Get the character at position 1 (remember that the first character has the position 0):\n",
        "a = \"Hello, World!\"\n",
        "print(a[1])"
      ],
      "metadata": {
        "colab": {
          "base_uri": "https://localhost:8080/"
        },
        "id": "G7Su41UrcMIF",
        "outputId": "fb3357ef-7c67-4f5e-9ee2-78b26a9716f3"
      },
      "execution_count": null,
      "outputs": [
        {
          "output_type": "stream",
          "name": "stdout",
          "text": [
            "e\n"
          ]
        }
      ]
    },
    {
      "cell_type": "code",
      "source": [
        "# The len() function returns the length of a string:\n",
        "a = \"Hello, World!\"\n",
        "print(len(a))"
      ],
      "metadata": {
        "colab": {
          "base_uri": "https://localhost:8080/"
        },
        "id": "vvJoiQQre-ZL",
        "outputId": "51eba09a-c663-4ad7-a799-e1b80b9acb7d"
      },
      "execution_count": null,
      "outputs": [
        {
          "output_type": "stream",
          "name": "stdout",
          "text": [
            "13\n"
          ]
        }
      ]
    },
    {
      "cell_type": "markdown",
      "source": [
        "\n",
        "## Check String\n",
        "\n",
        "To check if a certain phrase or character is present in a string, we can use the keyword `in`."
      ],
      "metadata": {
        "id": "Q9WA7tN2fo_v"
      }
    },
    {
      "cell_type": "code",
      "source": [
        "# Check if \"free\" is present in the following text:\n",
        "txt = \"The best things in life are free!\"\n",
        "print(\"free\" in txt)"
      ],
      "metadata": {
        "colab": {
          "base_uri": "https://localhost:8080/"
        },
        "id": "yncbTchvfLf4",
        "outputId": "8b7da682-4257-421d-d524-e95ace7b86d3"
      },
      "execution_count": null,
      "outputs": [
        {
          "output_type": "stream",
          "name": "stdout",
          "text": [
            "True\n"
          ]
        }
      ]
    },
    {
      "cell_type": "markdown",
      "source": [
        "## Check if NOT\n",
        "\n",
        "To check if a certain phrase or character is NOT present in a string, we can use the keyword `not in`."
      ],
      "metadata": {
        "id": "bWG2K7sOfz25"
      }
    },
    {
      "cell_type": "code",
      "source": [
        "# Check if \"expensive\" is NOT present in the following text:\n",
        "txt = \"The best things in life are free!\"\n",
        "print(\"expensive\" not in txt)"
      ],
      "metadata": {
        "colab": {
          "base_uri": "https://localhost:8080/"
        },
        "id": "ancE_vmOfuYl",
        "outputId": "ba80969a-59c7-4786-c870-80824e3536d7"
      },
      "execution_count": null,
      "outputs": [
        {
          "output_type": "stream",
          "name": "stdout",
          "text": [
            "True\n"
          ]
        }
      ]
    },
    {
      "cell_type": "markdown",
      "source": [
        "# ***Python Lists***"
      ],
      "metadata": {
        "id": "vvuqgUTcX5un"
      }
    },
    {
      "cell_type": "markdown",
      "source": [
        "\n",
        "Lists are used to store multiple items in a single variable.\n",
        " ```\n",
        " mylist = [\"apple\", \"banana\", \"cherry\"]\n",
        "```\n",
        "Lists are one of 4 built-in data types in Python used to store collections of data, the other 3 are Tuple, Set, and Dictionary, all with different qualities and usage.\n",
        "\n",
        "Lists are created using square brackets."
      ],
      "metadata": {
        "id": "PE88TCP5X84S"
      }
    },
    {
      "cell_type": "code",
      "source": [
        "# Create a List:\n",
        "thislist = [\"apple\", \"banana\", \"cherry\"]\n",
        "print(thislist)"
      ],
      "metadata": {
        "colab": {
          "base_uri": "https://localhost:8080/"
        },
        "id": "Mk5FZmV_YlS9",
        "outputId": "83dae9c0-dd31-4e73-c185-db0b0ccd0411"
      },
      "execution_count": null,
      "outputs": [
        {
          "output_type": "stream",
          "name": "stdout",
          "text": [
            "['apple', 'banana', 'cherry']\n"
          ]
        }
      ]
    },
    {
      "cell_type": "markdown",
      "source": [
        "#List Items\n",
        "\n",
        "List items are ordered, changeable, and allow duplicate values.\n",
        "\n",
        "List items are indexed, the first item has index [0], the second item has index [1] etc.\n",
        "#Ordered\n",
        "\n",
        "When we say that lists are ordered, it means that the items have a defined order, and that order will not change.\n",
        "\n",
        "If you add new items to a list, the new items will be placed at the end of the list.\n",
        "\n",
        "##**Note**: \n",
        "There are some list methods that will change the order, but in general: the order of the items will not change.\n",
        "#Changeable\n",
        "\n",
        "The list is changeable, meaning that we can change, add, and remove items in a list after it has been created.\n",
        "#Allow Duplicates\n",
        "\n",
        "Since lists are indexed, lists can have items with the same value:"
      ],
      "metadata": {
        "id": "dxrT7CYMYusq"
      }
    },
    {
      "cell_type": "code",
      "source": [
        "# Lists allow duplicate values:\n",
        "thislist = [\"apple\", \"banana\", \"cherry\", \"apple\", \"cherry\"]\n",
        "print(thislist)"
      ],
      "metadata": {
        "colab": {
          "base_uri": "https://localhost:8080/"
        },
        "id": "3fV2NilsY_cV",
        "outputId": "e027f31d-7989-48f4-f01d-566a6f8e8d44"
      },
      "execution_count": null,
      "outputs": [
        {
          "output_type": "stream",
          "name": "stdout",
          "text": [
            "['apple', 'banana', 'cherry', 'apple', 'cherry']\n"
          ]
        }
      ]
    },
    {
      "cell_type": "markdown",
      "source": [
        "##List Length\n",
        "\n",
        "To determine how many items a list has, use the `len()` function:"
      ],
      "metadata": {
        "id": "dYhvJQyAZD6j"
      }
    },
    {
      "cell_type": "code",
      "source": [
        "# Print the number of items in the list:\n",
        "thislist = [\"apple\", \"banana\", \"cherry\"]\n",
        "print(len(thislist))"
      ],
      "metadata": {
        "colab": {
          "base_uri": "https://localhost:8080/"
        },
        "id": "RY-F1fwdZJcO",
        "outputId": "505e89cb-0eb7-410b-a977-f1f78c16a944"
      },
      "execution_count": null,
      "outputs": [
        {
          "output_type": "stream",
          "name": "stdout",
          "text": [
            "3\n"
          ]
        }
      ]
    },
    {
      "cell_type": "markdown",
      "source": [
        "##List Items - Data Types\n",
        "\n",
        "List items can be of any data type:\n",
        "\n",
        "Example\n",
        "\n",
        "String, int and boolean data types:\n",
        "```\n",
        "list1 = [\"apple\", \"banana\", \"cherry\"]\n",
        "list2 = [1, 5, 7, 9, 3]\n",
        "list3 = [True, False, False]\n",
        "```\n",
        "A list can contain different data types:\n",
        "A list with strings, integers and boolean values:\n",
        "```\n",
        "list1 = [\"abc\", 34, True, 40, \"male\"]\n",
        "```\n",
        "##type()\n",
        "\n",
        "From Python's perspective, lists are defined as objects with the data type 'list':\n",
        "```\n",
        "<class 'list'> \n",
        "```"
      ],
      "metadata": {
        "id": "4eRyYnwvZIzX"
      }
    },
    {
      "cell_type": "code",
      "source": [
        "# What is the data type of a list?\n",
        "mylist = [\"apple\", \"banana\", \"cherry\"]\n",
        "print(type(mylist))"
      ],
      "metadata": {
        "colab": {
          "base_uri": "https://localhost:8080/"
        },
        "id": "BCRco5LrZtE1",
        "outputId": "903b82a3-9d96-40b9-fe33-a42fd60f14e3"
      },
      "execution_count": null,
      "outputs": [
        {
          "output_type": "stream",
          "name": "stdout",
          "text": [
            "<class 'list'>\n"
          ]
        }
      ]
    },
    {
      "cell_type": "markdown",
      "source": [
        "## The list() Constructor\n",
        "\n",
        "It is also possible to use the `list()`constructor when creating a new list."
      ],
      "metadata": {
        "id": "mPjcpRZTaNKe"
      }
    },
    {
      "cell_type": "code",
      "source": [
        "# Using the list() constructor to make a List:\n",
        "thislist = list((\"apple\", \"banana\", \"cherry\")) # note the double round-brackets\n",
        "print(thislist)"
      ],
      "metadata": {
        "colab": {
          "base_uri": "https://localhost:8080/"
        },
        "id": "dfA9q6bSZQ5_",
        "outputId": "c96d172a-38c5-43bc-e5ef-a0c5897e41dc"
      },
      "execution_count": null,
      "outputs": [
        {
          "output_type": "stream",
          "name": "stdout",
          "text": [
            "['apple', 'banana', 'cherry']\n"
          ]
        }
      ]
    },
    {
      "cell_type": "markdown",
      "source": [
        "#Python Collections (Arrays)\n",
        "\n",
        "There are four collection data types in the Python programming language:\n",
        "\n",
        "    List is a collection which is ordered and changeable. Allows duplicate members.\n",
        "    Tuple is a collection which is ordered and unchangeable. Allows duplicate members.\n",
        "    Set is a collection which is unordered, unchangeable*, and unindexed. No duplicate members.\n",
        "    Dictionary is a collection which is ordered** and changeable. No duplicate members.\n",
        "\n",
        "*Set items are unchangeable, but you can remove and/or add items whenever you like.\n",
        "\n",
        "**As of Python version 3.7, dictionaries are ordered. In Python 3.6 and earlier, dictionaries are unordered.\n"
      ],
      "metadata": {
        "id": "Z-XrNZxwaZWB"
      }
    },
    {
      "cell_type": "markdown",
      "source": [
        "#Access Items\n",
        "\n",
        "List items are indexed and you can access them by referring to the index number.\n",
        "\n",
        "\n",
        "###Note: The first item has index 0.\n",
        "##Negative Indexing\n",
        "\n",
        "Negative indexing means start from the end\n",
        "\n",
        "-1 refers to the last item, -2 refers to the second last item etc."
      ],
      "metadata": {
        "id": "UArxg_Z3bTGe"
      }
    },
    {
      "cell_type": "code",
      "source": [
        "# Print the second item of the list:\n",
        "thislist = [\"apple\", \"banana\", \"cherry\"]\n",
        "print(thislist[1])\n",
        "print(thislist[-1])"
      ],
      "metadata": {
        "colab": {
          "base_uri": "https://localhost:8080/"
        },
        "id": "oGvg2R15bfRY",
        "outputId": "b55b350c-eaaf-4b2a-8c3b-7892cbc62dd9"
      },
      "execution_count": null,
      "outputs": [
        {
          "output_type": "stream",
          "name": "stdout",
          "text": [
            "banana\n",
            "cherry\n"
          ]
        }
      ]
    },
    {
      "cell_type": "markdown",
      "source": [
        "##Range of Indexes\n",
        "\n",
        "You can specify a range of indexes by specifying where to start and where to end the range.\n",
        "\n",
        "When specifying a range, the return value will be a new list with the specified items."
      ],
      "metadata": {
        "id": "_7QaTjEZb2_O"
      }
    },
    {
      "cell_type": "code",
      "source": [
        "# Return the third, fourth, and fifth item:\n",
        "thislist = [\"apple\", \"banana\", \"cherry\", \"orange\", \"kiwi\", \"melon\", \"mango\"]\n",
        "print(thislist[2:5])"
      ],
      "metadata": {
        "colab": {
          "base_uri": "https://localhost:8080/"
        },
        "id": "TKk3FQE2b77k",
        "outputId": "667d3bdb-6d28-4471-ed61-2541b759ffdc"
      },
      "execution_count": null,
      "outputs": [
        {
          "output_type": "stream",
          "name": "stdout",
          "text": [
            "['cherry', 'orange', 'kiwi']\n"
          ]
        }
      ]
    },
    {
      "cell_type": "markdown",
      "source": [
        "\n",
        "\n",
        "**Note**: The search will start at index 2 (included) and end at index 5 (not included).\n",
        "\n",
        "Remember that the first item has index 0.\n",
        "\n",
        "By leaving out the start value, the range will start at the first item:"
      ],
      "metadata": {
        "id": "_TCmLGFEcCp6"
      }
    },
    {
      "cell_type": "code",
      "source": [
        "# This example returns the items from the beginning to, but NOT including, \"kiwi\":\n",
        "thislist = [\"apple\", \"banana\", \"cherry\", \"orange\", \"kiwi\", \"melon\", \"mango\"]\n",
        "print(thislist[:4])"
      ],
      "metadata": {
        "colab": {
          "base_uri": "https://localhost:8080/"
        },
        "id": "DG9Kb5I9cGCj",
        "outputId": "026612b2-4047-484f-865c-14ba10b35344"
      },
      "execution_count": null,
      "outputs": [
        {
          "output_type": "stream",
          "name": "stdout",
          "text": [
            "['apple', 'banana', 'cherry', 'orange']\n"
          ]
        }
      ]
    },
    {
      "cell_type": "markdown",
      "source": [
        "By leaving out the end value, the range will go on to the end of the list:"
      ],
      "metadata": {
        "id": "p8uCDpP0cMFB"
      }
    },
    {
      "cell_type": "code",
      "source": [
        "# This example returns the items from \"cherry\" to the end:\n",
        "thislist = [\"apple\", \"banana\", \"cherry\", \"orange\", \"kiwi\", \"melon\", \"mango\"]\n",
        "print(thislist[2:])"
      ],
      "metadata": {
        "colab": {
          "base_uri": "https://localhost:8080/"
        },
        "id": "zO6U5PL8cGHM",
        "outputId": "11322d17-829f-4de6-dee7-f59ef019a4a7"
      },
      "execution_count": null,
      "outputs": [
        {
          "output_type": "stream",
          "name": "stdout",
          "text": [
            "['cherry', 'orange', 'kiwi', 'melon', 'mango']\n"
          ]
        }
      ]
    },
    {
      "cell_type": "markdown",
      "source": [
        "#Range of Negative Indexes\n",
        "\n",
        "Specify negative indexes if you want to start the search from the end of the list:"
      ],
      "metadata": {
        "id": "VNYnO0VicUgt"
      }
    },
    {
      "cell_type": "code",
      "source": [
        "# This example returns the items from \"orange\" (-4) to, but NOT including \"mango\" (-1):\n",
        "thislist = [\"apple\", \"banana\", \"cherry\", \"orange\", \"kiwi\", \"melon\", \"mango\"]\n",
        "print(thislist[-4:-1])"
      ],
      "metadata": {
        "colab": {
          "base_uri": "https://localhost:8080/"
        },
        "id": "YX2ZvgV9chth",
        "outputId": "a56901c2-4adc-4e73-8e4f-355fea719497"
      },
      "execution_count": null,
      "outputs": [
        {
          "output_type": "stream",
          "name": "stdout",
          "text": [
            "['orange', 'kiwi', 'melon']\n"
          ]
        }
      ]
    },
    {
      "cell_type": "markdown",
      "source": [
        "#Change Item Value\n",
        "\n",
        "To change the value of a specific item, refer to the index number:"
      ],
      "metadata": {
        "id": "HzplBUhSeH8S"
      }
    },
    {
      "cell_type": "code",
      "source": [
        "# Change the second item:\n",
        "thislist = [\"apple\", \"banana\", \"cherry\"]\n",
        "thislist[1] = \"blackcurrant\"\n",
        "print(thislist)"
      ],
      "metadata": {
        "colab": {
          "base_uri": "https://localhost:8080/"
        },
        "id": "aJ-NlWc_b7-2",
        "outputId": "7d28cda6-e95c-470a-ac1f-e3fde33e4962"
      },
      "execution_count": null,
      "outputs": [
        {
          "output_type": "stream",
          "name": "stdout",
          "text": [
            "['apple', 'blackcurrant', 'cherry']\n"
          ]
        }
      ]
    },
    {
      "cell_type": "markdown",
      "source": [
        "# Change a Range of Item Values\n",
        "\n",
        "To change the value of items within a specific range, define a list with the new values, and refer to the range of index numbers where you want to insert the new values."
      ],
      "metadata": {
        "id": "KVK-v8sHeoxf"
      }
    },
    {
      "cell_type": "code",
      "source": [
        "# Change the values \"banana\" and \"cherry\" with the values \"blackcurrant\" and \"watermelon\":\n",
        "thislist = [\"apple\", \"banana\", \"cherry\", \"orange\", \"kiwi\", \"mango\"]\n",
        "thislist[1:3] = [\"blackcurrant\", \"watermelon\"]\n",
        "print(thislist)"
      ],
      "metadata": {
        "colab": {
          "base_uri": "https://localhost:8080/"
        },
        "id": "kF_xvWFaell9",
        "outputId": "5f579b42-3bdc-4b52-9562-95ddb39a8537"
      },
      "execution_count": null,
      "outputs": [
        {
          "output_type": "stream",
          "name": "stdout",
          "text": [
            "['apple', 'blackcurrant', 'watermelon', 'orange', 'kiwi', 'mango']\n"
          ]
        }
      ]
    },
    {
      "cell_type": "markdown",
      "source": [
        "If you insert more items than you replace, the new items will be inserted where you specified, and the remaining items will move accordingly."
      ],
      "metadata": {
        "id": "pz5Mu8w2eygd"
      }
    },
    {
      "cell_type": "code",
      "source": [
        "# Change the second value by replacing it with two new values:\n",
        "thislist = [\"apple\", \"banana\", \"cherry\"]\n",
        "thislist[1:2] = [\"blackcurrant\", \"watermelon\"]\n",
        "print(thislist) "
      ],
      "metadata": {
        "colab": {
          "base_uri": "https://localhost:8080/"
        },
        "id": "CblA4c-telru",
        "outputId": "eec4f159-6c88-4b9c-8d3d-b6409327f66f"
      },
      "execution_count": null,
      "outputs": [
        {
          "output_type": "stream",
          "name": "stdout",
          "text": [
            "['apple', 'blackcurrant', 'watermelon', 'cherry']\n"
          ]
        }
      ]
    },
    {
      "cell_type": "markdown",
      "source": [
        "\n",
        "\n",
        "**Note**: The length of the list will change when the number of items inserted does not match the number of items replaced.\n",
        "\n",
        "If you insert less items than you replace, the new items will be inserted where you specified, and the remaining items will move accordingly."
      ],
      "metadata": {
        "id": "NOzn3SQ6fMhi"
      }
    },
    {
      "cell_type": "code",
      "source": [
        "# Change the second and third value by replacing it with one value:\n",
        "thislist = [\"apple\", \"banana\", \"cherry\"]\n",
        "thislist[1:3] = [\"watermelon\"]\n",
        "print(thislist) "
      ],
      "metadata": {
        "colab": {
          "base_uri": "https://localhost:8080/"
        },
        "id": "ombWXrx-fOvp",
        "outputId": "9c9add7b-3e91-4e7f-9da8-0a5f59b43154"
      },
      "execution_count": null,
      "outputs": [
        {
          "output_type": "stream",
          "name": "stdout",
          "text": [
            "['apple', 'watermelon']\n"
          ]
        }
      ]
    },
    {
      "cell_type": "markdown",
      "source": [
        "#Insert Items\n",
        "\n",
        "\n",
        "\n",
        "\n",
        "To insert a new list item, without replacing any of the existing values, we can use the `insert()` method.\n",
        "\n",
        "\n",
        "The `insert()` method inserts an item at the specified index.\n",
        "\n"
      ],
      "metadata": {
        "id": "3HKkTzVsfUtm"
      }
    },
    {
      "cell_type": "code",
      "source": [
        "# Insert \"watermelon\" as the third item:\n",
        "\n",
        "thislist = [\"apple\", \"banana\", \"cherry\"]\n",
        "thislist.insert(2, \"watermelon\")\n",
        "print(thislist)"
      ],
      "metadata": {
        "id": "dmS81T05gxvj",
        "colab": {
          "base_uri": "https://localhost:8080/"
        },
        "outputId": "5903b229-368a-4b70-8cb1-e2b98318bf06"
      },
      "execution_count": 16,
      "outputs": [
        {
          "output_type": "stream",
          "name": "stdout",
          "text": [
            "['apple', 'banana', 'watermelon', 'cherry']\n"
          ]
        }
      ]
    },
    {
      "cell_type": "markdown",
      "source": [
        "**Note**: As a result of the example above, the list will now contain 4 items.\n",
        "\n"
      ],
      "metadata": {
        "id": "wu4w79kThMp7"
      }
    },
    {
      "cell_type": "code",
      "source": [
        "thislist = [\"apple\", \"banana\", \"cherry\"]\n",
        "thislist.insert(1, \"orange\")\n",
        "print(thislist)"
      ],
      "metadata": {
        "colab": {
          "base_uri": "https://localhost:8080/"
        },
        "id": "zNodr_v6i231",
        "outputId": "36faa9ca-a163-4591-8238-813663137560"
      },
      "execution_count": 18,
      "outputs": [
        {
          "output_type": "stream",
          "name": "stdout",
          "text": [
            "['apple', 'orange', 'banana', 'cherry']\n"
          ]
        }
      ]
    },
    {
      "cell_type": "markdown",
      "source": [
        "#Extend List\n",
        "To append elements from another list to the current list, use the `extend()` method.\n",
        "\n",
        "The elements will be added to the end of the list.\n",
        "\n"
      ],
      "metadata": {
        "id": "XuQ8oDRIi_dA"
      }
    },
    {
      "cell_type": "code",
      "source": [
        "# Add the elements of tropical to thislist:\n",
        "\n",
        "thislist = [\"apple\", \"banana\", \"cherry\"]\n",
        "tropical = [\"mango\", \"pineapple\", \"papaya\"]\n",
        "thislist.extend(tropical)\n",
        "print(thislist)"
      ],
      "metadata": {
        "colab": {
          "base_uri": "https://localhost:8080/"
        },
        "id": "CkePZoHzjLpr",
        "outputId": "c61d1a52-c728-4dc8-bc09-ab4afabda83f"
      },
      "execution_count": 19,
      "outputs": [
        {
          "output_type": "stream",
          "name": "stdout",
          "text": [
            "['apple', 'banana', 'cherry', 'mango', 'pineapple', 'papaya']\n"
          ]
        }
      ]
    },
    {
      "cell_type": "markdown",
      "source": [
        "#Add Any Iterable\n",
        "The `extend()` method does not have to append lists, you can add any iterable object (tuples, sets, dictionaries etc.)."
      ],
      "metadata": {
        "id": "7OdFAFHTjTa0"
      }
    },
    {
      "cell_type": "code",
      "source": [
        "# Add elements of a tuple to a list:\n",
        "\n",
        "thislist = [\"apple\", \"banana\", \"cherry\"]\n",
        "thistuple = (\"kiwi\", \"orange\")\n",
        "thislist.extend(thistuple)\n",
        "print(thislist)"
      ],
      "metadata": {
        "colab": {
          "base_uri": "https://localhost:8080/"
        },
        "id": "HkMhT9XOjYmu",
        "outputId": "4b5a878e-a6f9-4e25-e197-e8db94ec15fa"
      },
      "execution_count": 20,
      "outputs": [
        {
          "output_type": "stream",
          "name": "stdout",
          "text": [
            "['apple', 'banana', 'cherry', 'kiwi', 'orange']\n"
          ]
        }
      ]
    },
    {
      "cell_type": "markdown",
      "source": [
        "# Append Items\n",
        "To add an item to the end of the list, use the `append()` method:"
      ],
      "metadata": {
        "id": "twHRmZnshRk4"
      }
    },
    {
      "cell_type": "code",
      "source": [
        "#Using the append() method to append an item:\n",
        "\n",
        "thislist = [\"apple\", \"banana\", \"cherry\"]\n",
        "thislist.append(\"orange\")\n",
        "print(thislist)"
      ],
      "metadata": {
        "id": "AouiSm9cfagx",
        "colab": {
          "base_uri": "https://localhost:8080/"
        },
        "outputId": "1482fc66-e464-4817-e3be-340e81e7413a"
      },
      "execution_count": 17,
      "outputs": [
        {
          "output_type": "stream",
          "name": "stdout",
          "text": [
            "['apple', 'banana', 'cherry', 'orange']\n"
          ]
        }
      ]
    },
    {
      "cell_type": "markdown",
      "source": [
        "#Remove Specified Item\n",
        "The `remove()` method removes the specified item."
      ],
      "metadata": {
        "id": "Cr05XuUAzBYT"
      }
    },
    {
      "cell_type": "code",
      "source": [
        "thislist = [\"apple\", \"banana\", \"cherry\"]\n",
        "thislist.remove(\"banana\")\n",
        "print(thislist)"
      ],
      "metadata": {
        "colab": {
          "base_uri": "https://localhost:8080/"
        },
        "id": "CJILkir6ipgM",
        "outputId": "765cbfd3-f55f-4571-a66e-97bd44f986e3"
      },
      "execution_count": 21,
      "outputs": [
        {
          "output_type": "stream",
          "name": "stdout",
          "text": [
            "['apple', 'cherry']\n"
          ]
        }
      ]
    },
    {
      "cell_type": "markdown",
      "source": [
        "The `pop()` method removes the specified index.\n",
        "\n"
      ],
      "metadata": {
        "id": "bKgpMLXwzJ0G"
      }
    },
    {
      "cell_type": "code",
      "source": [
        "# Remove the second item:\n",
        "\n",
        "thislist = [\"apple\", \"banana\", \"cherry\"]\n",
        "thislist.pop(1)\n",
        "print(thislist)"
      ],
      "metadata": {
        "colab": {
          "base_uri": "https://localhost:8080/"
        },
        "id": "s-bYeGsBip13",
        "outputId": "750e6f66-f1a5-436d-d4a0-16893243d145"
      },
      "execution_count": 22,
      "outputs": [
        {
          "output_type": "stream",
          "name": "stdout",
          "text": [
            "['apple', 'cherry']\n"
          ]
        }
      ]
    },
    {
      "cell_type": "markdown",
      "source": [
        "If you do not specify the index, the `pop()` method removes the last item.\n",
        "\n"
      ],
      "metadata": {
        "id": "0HwGixjpzTNR"
      }
    },
    {
      "cell_type": "code",
      "source": [
        "thislist = [\"apple\", \"banana\", \"cherry\"]\n",
        "thislist.pop()\n",
        "print(thislist)"
      ],
      "metadata": {
        "colab": {
          "base_uri": "https://localhost:8080/"
        },
        "id": "q3vx3PtYzY7y",
        "outputId": "8bb4d024-d1ee-4d4b-b5a6-c8f4c621c0b7"
      },
      "execution_count": 23,
      "outputs": [
        {
          "output_type": "stream",
          "name": "stdout",
          "text": [
            "['apple', 'banana']\n"
          ]
        }
      ]
    },
    {
      "cell_type": "markdown",
      "source": [
        "The `del` keyword also removes the specified index:\n",
        "\n"
      ],
      "metadata": {
        "id": "U7Jm3qUCzcNH"
      }
    },
    {
      "cell_type": "code",
      "source": [
        "# Remove the first item:\n",
        "\n",
        "thislist = [\"apple\", \"banana\", \"cherry\"]\n",
        "del thislist[0]\n",
        "print(thislist)"
      ],
      "metadata": {
        "colab": {
          "base_uri": "https://localhost:8080/"
        },
        "id": "h28X1ervzhfc",
        "outputId": "27fae388-7b64-434e-f57c-56a2163fc09c"
      },
      "execution_count": 24,
      "outputs": [
        {
          "output_type": "stream",
          "name": "stdout",
          "text": [
            "['banana', 'cherry']\n"
          ]
        }
      ]
    },
    {
      "cell_type": "markdown",
      "source": [
        "The `del` keyword can also delete the list completely.\n",
        "\n"
      ],
      "metadata": {
        "id": "6jx8O0DMzkaH"
      }
    },
    {
      "cell_type": "code",
      "source": [
        "# Delete the entire list:\n",
        "\n",
        "thislist = [\"apple\", \"banana\", \"cherry\"]\n",
        "del thislist"
      ],
      "metadata": {
        "id": "kcQo0d3Hzn0J"
      },
      "execution_count": 25,
      "outputs": []
    },
    {
      "cell_type": "markdown",
      "source": [
        "#Clear the List\n",
        "The `clear()` method empties the list.\n",
        "\n",
        "The list still remains, but it has no content."
      ],
      "metadata": {
        "id": "pwi9mjAUzuOZ"
      }
    },
    {
      "cell_type": "code",
      "source": [
        "thislist = [\"apple\", \"banana\", \"cherry\"]\n",
        "thislist.clear()\n",
        "print(thislist)"
      ],
      "metadata": {
        "colab": {
          "base_uri": "https://localhost:8080/"
        },
        "id": "_8BTUjaGzy_w",
        "outputId": "954f9da7-7da9-4020-e21b-6b55271ef5eb"
      },
      "execution_count": 26,
      "outputs": [
        {
          "output_type": "stream",
          "name": "stdout",
          "text": [
            "[]\n"
          ]
        }
      ]
    },
    {
      "cell_type": "markdown",
      "source": [
        "#Python - Sort Lists\n",
        "\n",
        "##Sort List Alphanumerically\n",
        "List objects have a `sort()` method that will sort the list alphanumerically, ascending, by default."
      ],
      "metadata": {
        "id": "bQ1Ipfei0OtQ"
      }
    },
    {
      "cell_type": "code",
      "source": [
        "thislist = [\"orange\", \"mango\", \"kiwi\", \"pineapple\", \"banana\"]\n",
        "thislist.sort()\n",
        "print(thislist)"
      ],
      "metadata": {
        "colab": {
          "base_uri": "https://localhost:8080/"
        },
        "id": "iprZsF960ZUi",
        "outputId": "a534fcbd-a467-421c-9bbb-c9a01e0bf1a5"
      },
      "execution_count": 27,
      "outputs": [
        {
          "output_type": "stream",
          "name": "stdout",
          "text": [
            "['banana', 'kiwi', 'mango', 'orange', 'pineapple']\n"
          ]
        }
      ]
    },
    {
      "cell_type": "code",
      "source": [
        "# Sort the list numerically:\n",
        "\n",
        "thislist = [100, 50, 65, 82, 23]\n",
        "thislist.sort()\n",
        "print(thislist)"
      ],
      "metadata": {
        "colab": {
          "base_uri": "https://localhost:8080/"
        },
        "id": "5upTLvhP0dWg",
        "outputId": "75367229-f520-4c4e-ef78-dca152a10055"
      },
      "execution_count": 28,
      "outputs": [
        {
          "output_type": "stream",
          "name": "stdout",
          "text": [
            "[23, 50, 65, 82, 100]\n"
          ]
        }
      ]
    },
    {
      "cell_type": "markdown",
      "source": [
        "###Sort Descending\n",
        "To sort descending, use the keyword argument `reverse = True`."
      ],
      "metadata": {
        "id": "G8tSfxRH0wZx"
      }
    },
    {
      "cell_type": "code",
      "source": [
        "thislist = [\"orange\", \"mango\", \"kiwi\", \"pineapple\", \"banana\"]\n",
        "thislist.sort(reverse = True)\n",
        "print(thislist)"
      ],
      "metadata": {
        "colab": {
          "base_uri": "https://localhost:8080/"
        },
        "id": "XgJToTgA026A",
        "outputId": "552d5003-14f6-4a6f-9003-b650b2b5a1dc"
      },
      "execution_count": 29,
      "outputs": [
        {
          "output_type": "stream",
          "name": "stdout",
          "text": [
            "['pineapple', 'orange', 'mango', 'kiwi', 'banana']\n"
          ]
        }
      ]
    },
    {
      "cell_type": "code",
      "source": [
        "# Sort the list descending:\n",
        "\n",
        "thislist = [100, 50, 65, 82, 23]\n",
        "thislist.sort(reverse = True)\n",
        "print(thislist)"
      ],
      "metadata": {
        "colab": {
          "base_uri": "https://localhost:8080/"
        },
        "id": "0kJquZ3Q06Yb",
        "outputId": "65f913f1-5bf5-4524-c938-8a1c9c514707"
      },
      "execution_count": 30,
      "outputs": [
        {
          "output_type": "stream",
          "name": "stdout",
          "text": [
            "[100, 82, 65, 50, 23]\n"
          ]
        }
      ]
    },
    {
      "cell_type": "markdown",
      "source": [
        "##Case Insensitive Sort\n",
        "By default the `sort()` method is case sensitive, resulting in all capital letters being sorted before lower case letters."
      ],
      "metadata": {
        "id": "zsUO8wiG1DGK"
      }
    },
    {
      "cell_type": "code",
      "source": [
        "# Case sensitive sorting can give an unexpected result:\n",
        "\n",
        "thislist = [\"banana\", \"Orange\", \"Kiwi\", \"cherry\"]\n",
        "thislist.sort()\n",
        "print(thislist)"
      ],
      "metadata": {
        "colab": {
          "base_uri": "https://localhost:8080/"
        },
        "id": "6rkg5HD21ISJ",
        "outputId": "a7f37723-da1b-48a6-b4ca-6855ebb980e3"
      },
      "execution_count": 31,
      "outputs": [
        {
          "output_type": "stream",
          "name": "stdout",
          "text": [
            "['Kiwi', 'Orange', 'banana', 'cherry']\n"
          ]
        }
      ]
    },
    {
      "cell_type": "markdown",
      "source": [
        "Luckily we can use built-in functions as key functions when sorting a list.\n",
        "\n",
        "So if you want a case-insensitive sort function, use `str.lower` as a key function."
      ],
      "metadata": {
        "id": "pnPqc3TV1NpD"
      }
    },
    {
      "cell_type": "code",
      "source": [
        "# Perform a case-insensitive sort of the list:\n",
        "\n",
        "thislist = [\"banana\", \"Orange\", \"Kiwi\", \"cherry\"]\n",
        "thislist.sort(key = str.lower)\n",
        "print(thislist)"
      ],
      "metadata": {
        "colab": {
          "base_uri": "https://localhost:8080/"
        },
        "id": "sNml8XFZ1SGX",
        "outputId": "55895bed-cad7-435d-ac12-0e35b8b1dfaa"
      },
      "execution_count": 33,
      "outputs": [
        {
          "output_type": "stream",
          "name": "stdout",
          "text": [
            "['banana', 'cherry', 'Kiwi', 'Orange']\n"
          ]
        }
      ]
    },
    {
      "cell_type": "markdown",
      "source": [
        "### Reverse Order\n",
        "What if you want to reverse the order of a list, regardless of the alphabet?\n",
        "\n",
        "The `reverse()` method reverses the current sorting order of the elements."
      ],
      "metadata": {
        "id": "7PVZpNzq1YOE"
      }
    },
    {
      "cell_type": "code",
      "source": [
        "thislist = [\"banana\", \"Orange\", \"Kiwi\", \"cherry\"]\n",
        "thislist.reverse()\n",
        "print(thislist)"
      ],
      "metadata": {
        "colab": {
          "base_uri": "https://localhost:8080/"
        },
        "id": "bopx_il31cfL",
        "outputId": "28289620-7601-4387-f891-95713161fcc1"
      },
      "execution_count": 34,
      "outputs": [
        {
          "output_type": "stream",
          "name": "stdout",
          "text": [
            "['cherry', 'Kiwi', 'Orange', 'banana']\n"
          ]
        }
      ]
    },
    {
      "cell_type": "markdown",
      "source": [
        "# Copy a List\n",
        "You cannot copy a list simply by typing list2 = list1, because: list2 will only be a reference to list1, and changes made in list1 will automatically also be made in list2.\n",
        "\n",
        "There are ways to make a copy, one way is to use the built-in List method `copy()`."
      ],
      "metadata": {
        "id": "BizwybgO6HLi"
      }
    },
    {
      "cell_type": "code",
      "source": [
        "thislist = [\"apple\", \"banana\", \"cherry\"]\n",
        "mylist = thislist.copy()\n",
        "print(mylist)"
      ],
      "metadata": {
        "colab": {
          "base_uri": "https://localhost:8080/"
        },
        "id": "47HH3m1C6QdJ",
        "outputId": "6b312d4e-4eb8-4a5b-90b6-db325a35f532"
      },
      "execution_count": 35,
      "outputs": [
        {
          "output_type": "stream",
          "name": "stdout",
          "text": [
            "['apple', 'banana', 'cherry']\n"
          ]
        }
      ]
    },
    {
      "cell_type": "markdown",
      "source": [
        "Another way to make a copy is to use the built-in method `list()`.\n",
        "\n"
      ],
      "metadata": {
        "id": "z8Qy61dM6TOa"
      }
    },
    {
      "cell_type": "code",
      "source": [
        "# Make a copy of a list with the list() method:\n",
        "\n",
        "thislist = [\"apple\", \"banana\", \"cherry\"]\n",
        "mylist = list(thislist)\n",
        "print(mylist)"
      ],
      "metadata": {
        "colab": {
          "base_uri": "https://localhost:8080/"
        },
        "id": "gEWm-_cx6VzW",
        "outputId": "2435511e-85bd-4231-eec9-38b652fd7814"
      },
      "execution_count": 36,
      "outputs": [
        {
          "output_type": "stream",
          "name": "stdout",
          "text": [
            "['apple', 'banana', 'cherry']\n"
          ]
        }
      ]
    },
    {
      "cell_type": "markdown",
      "source": [
        "#Python - Join Lists\n",
        "###Join Two Lists\n",
        "There are several ways to join, or concatenate, two or more lists in Python.\n",
        "\n",
        "One of the easiest ways are by using the `+` operator."
      ],
      "metadata": {
        "id": "GtFh-lqS6iT8"
      }
    },
    {
      "cell_type": "code",
      "source": [
        "list1 = [\"a\", \"b\", \"c\"]\n",
        "list2 = [1, 2, 3]\n",
        "\n",
        "list3 = list1 + list2\n",
        "print(list3)"
      ],
      "metadata": {
        "colab": {
          "base_uri": "https://localhost:8080/"
        },
        "id": "1MnPw0Au6mRY",
        "outputId": "f1613f43-14c5-477c-f53b-b0127d8d1427"
      },
      "execution_count": 37,
      "outputs": [
        {
          "output_type": "stream",
          "name": "stdout",
          "text": [
            "['a', 'b', 'c', 1, 2, 3]\n"
          ]
        }
      ]
    },
    {
      "cell_type": "markdown",
      "source": [
        "Or you can use the `extend()` method, which purpose is to add elements from one list to another list:"
      ],
      "metadata": {
        "id": "CKpXSqWy6wxw"
      }
    },
    {
      "cell_type": "code",
      "source": [
        "list1 = [\"a\", \"b\" , \"c\"]\n",
        "list2 = [1, 2, 3]\n",
        "\n",
        "list1.extend(list2)\n",
        "print(list1)"
      ],
      "metadata": {
        "colab": {
          "base_uri": "https://localhost:8080/"
        },
        "id": "mOGXE5Y-60aG",
        "outputId": "4d56b8eb-670f-4bc5-e568-8bfeebf2a3b9"
      },
      "execution_count": 38,
      "outputs": [
        {
          "output_type": "stream",
          "name": "stdout",
          "text": [
            "['a', 'b', 'c', 1, 2, 3]\n"
          ]
        }
      ]
    },
    {
      "cell_type": "markdown",
      "source": [
        "#List Methods\n",
        "Python has a set of built-in methods that you can use on lists.\n",
        "```\n",
        "Method\t     Description\n",
        "\n",
        "append()\tAdds an element at the end of the list\n",
        "clear()\t  Removes all the elements from the list\n",
        "copy()\t  Returns a copy of the list\n",
        "count()\t  Returns the number of elements with the specified value\n",
        "extend()\tAdd the elements of a list (or any iterable), to the end of the current list\n",
        "index()\t  Returns the index of the first element with the specified value\n",
        "insert()\tAdds an element at the specified position\n",
        "pop()\t    Removes the element at the specified position\n",
        "remove()\tRemoves the item with the specified value\n",
        "reverse()\tReverses the order of the list\n",
        "sort()\t  Sorts the list\n",
        "```"
      ],
      "metadata": {
        "id": "09qMZStB67Vj"
      }
    },
    {
      "cell_type": "markdown",
      "source": [
        "# ***Python Tuples***\n",
        "\n",
        "Tuples are used to store multiple items in a single variable.\n",
        "\n",
        "Tuple is one of 4 built-in data types in Python used to store collections of data, the other 3 are List, Set, and Dictionary, all with different qualities and usage.\n",
        "\n",
        "A tuple is a collection which is ordered and unchangeable.\n",
        "\n",
        "Tuples are written with round brackets.\n",
        "```\n",
        "mytuple = (\"apple\", \"banana\", \"cherry\")\n",
        "```"
      ],
      "metadata": {
        "id": "5lJAOQsIY0Wp"
      }
    },
    {
      "cell_type": "code",
      "source": [
        "# Create a Tuple:\n",
        "thistuple = (\"apple\", \"banana\", \"cherry\")\n",
        "print(thistuple)"
      ],
      "metadata": {
        "id": "iC27YlYfgDAl",
        "colab": {
          "base_uri": "https://localhost:8080/"
        },
        "outputId": "b591b259-4287-4091-89e4-b4aabb62daa3"
      },
      "execution_count": null,
      "outputs": [
        {
          "output_type": "stream",
          "name": "stdout",
          "text": [
            "('apple', 'banana', 'cherry')\n"
          ]
        }
      ]
    },
    {
      "cell_type": "markdown",
      "source": [
        "## Tuple Items\n",
        "\n",
        "Tuple items are ordered, unchangeable, and allow duplicate values.\n",
        "\n",
        "Tuple items are indexed, the first item has index [0], the second item has index [1] etc.\n",
        "## Ordered\n",
        "\n",
        "When we say that tuples are ordered, it means that the items have a defined order, and that order will not change.\n",
        "## Unchangeable\n",
        "\n",
        "Tuples are unchangeable, meaning that we cannot change, add or remove items after the tuple has been created.\n",
        "## Allow Duplicates\n",
        "\n",
        "Since tuples are indexed, they can have items with the same value:"
      ],
      "metadata": {
        "id": "mnqRIPCYaG6c"
      }
    },
    {
      "cell_type": "code",
      "source": [
        "# Tuples allow duplicate values:\n",
        "thistuple = (\"apple\", \"banana\", \"cherry\", \"apple\", \"cherry\")\n",
        "print(thistuple)"
      ],
      "metadata": {
        "colab": {
          "base_uri": "https://localhost:8080/"
        },
        "id": "3p-ITf2mZrMQ",
        "outputId": "1d98cd16-7971-4078-e90c-90551e23ea73"
      },
      "execution_count": null,
      "outputs": [
        {
          "output_type": "stream",
          "name": "stdout",
          "text": [
            "('apple', 'banana', 'cherry', 'apple', 'cherry')\n"
          ]
        }
      ]
    },
    {
      "cell_type": "markdown",
      "source": [
        "## Tuple Length\n",
        "\n",
        "To determine how many items a tuple has, use the `len()` function:"
      ],
      "metadata": {
        "id": "7S0cMUfEc9bR"
      }
    },
    {
      "cell_type": "code",
      "source": [
        "# Print the number of items in the tuple:\n",
        "thistuple = (\"apple\", \"banana\", \"cherry\")\n",
        "print(len(thistuple))"
      ],
      "metadata": {
        "colab": {
          "base_uri": "https://localhost:8080/"
        },
        "id": "dwLsaKLKaznL",
        "outputId": "b1ae38be-238f-475c-cda6-b36e0fa50b18"
      },
      "execution_count": null,
      "outputs": [
        {
          "output_type": "stream",
          "name": "stdout",
          "text": [
            "3\n"
          ]
        }
      ]
    },
    {
      "cell_type": "code",
      "source": [
        "# One item tuple, remember the comma:\n",
        "thistuple = (\"apple\",)\n",
        "print(type(thistuple))\n",
        "\n",
        "#NOT a tuple\n",
        "thistuple = (\"apple\")\n",
        "print(type(thistuple)) "
      ],
      "metadata": {
        "colab": {
          "base_uri": "https://localhost:8080/"
        },
        "id": "FoWVUU7idHvH",
        "outputId": "31d3805a-b9d6-44e6-c183-0b6586a012f1"
      },
      "execution_count": null,
      "outputs": [
        {
          "output_type": "stream",
          "name": "stdout",
          "text": [
            "<class 'tuple'>\n",
            "<class 'str'>\n"
          ]
        }
      ]
    },
    {
      "cell_type": "markdown",
      "source": [
        "## Tuple Items - Data Types\n",
        "\n",
        "Tuple items can be of any data type (String, int and boolean data types).\n",
        "```\n",
        "tuple1 = (\"apple\", \"banana\", \"cherry\")\n",
        "tuple2 = (1, 5, 7, 9, 3)\n",
        "tuple3 = (True, False, False)\n",
        "```"
      ],
      "metadata": {
        "id": "6V4GiLnUd9SB"
      }
    },
    {
      "cell_type": "markdown",
      "source": [
        "A tuple can contain different data types:\n",
        "\n",
        "Example\n",
        "\n",
        "A tuple with strings, integers and boolean values:\n",
        "```\n",
        "tuple1 = (\"abc\", 34, True, 40, \"male\")\n",
        "```\n",
        "```\n",
        "type()\n",
        "```\n",
        "From Python's perspective, tuples are defined as objects with the data type 'tuple':\n",
        "```\n",
        "<class 'tuple'> \n",
        "```"
      ],
      "metadata": {
        "id": "Zgmjop_KeOkN"
      }
    },
    {
      "cell_type": "code",
      "source": [
        "# What is the data type of a tuple?\n",
        "mytuple = (\"apple\", \"banana\", \"cherry\")\n",
        "print(type(mytuple))"
      ],
      "metadata": {
        "colab": {
          "base_uri": "https://localhost:8080/"
        },
        "id": "f4X8qCwBdOOn",
        "outputId": "8b08d8ac-21d1-4ffa-e57f-93cda81a2b5d"
      },
      "execution_count": null,
      "outputs": [
        {
          "output_type": "stream",
          "name": "stdout",
          "text": [
            "<class 'tuple'>\n"
          ]
        }
      ]
    },
    {
      "cell_type": "markdown",
      "source": [
        "#The `tuple()` Constructor\n",
        "\n",
        "It is also possible to use the `tuple()` constructor to make a tuple."
      ],
      "metadata": {
        "id": "nTvL32eBewX5"
      }
    },
    {
      "cell_type": "code",
      "source": [
        "# Using the tuple() method to make a tuple:\n",
        "thistuple = tuple((\"apple\", \"banana\", \"cherry\")) # note the double round-brackets\n",
        "print(thistuple)"
      ],
      "metadata": {
        "colab": {
          "base_uri": "https://localhost:8080/"
        },
        "id": "Njj12NQEeG9v",
        "outputId": "160c8624-48dc-4aa6-9d73-e045b52dea18"
      },
      "execution_count": null,
      "outputs": [
        {
          "output_type": "stream",
          "name": "stdout",
          "text": [
            "('apple', 'banana', 'cherry')\n"
          ]
        }
      ]
    },
    {
      "cell_type": "markdown",
      "source": [
        "## Access Tuple Items\n",
        "\n",
        "You can access tuple items by referring to the index number, inside square brackets:\n",
        "\n",
        "\n",
        "Note: The first item has index 0.\n"
      ],
      "metadata": {
        "id": "phdv8IZffU1w"
      }
    },
    {
      "cell_type": "code",
      "source": [
        "# Print the second item in the tuple:\n",
        "thistuple = (\"apple\", \"banana\", \"cherry\")\n",
        "print(thistuple[1])"
      ],
      "metadata": {
        "colab": {
          "base_uri": "https://localhost:8080/"
        },
        "id": "EkolHTHAe6FS",
        "outputId": "4b6f3ed7-198a-4477-b56a-a96eaa68b406"
      },
      "execution_count": null,
      "outputs": [
        {
          "output_type": "stream",
          "name": "stdout",
          "text": [
            "banana\n"
          ]
        }
      ]
    },
    {
      "cell_type": "markdown",
      "source": [
        "## Negative Indexing\n",
        "\n",
        "Negative indexing means start from the end.\n",
        "\n",
        "-1 refers to the last item, -2 refers to the second last item etc."
      ],
      "metadata": {
        "id": "7jbsUXsWfgvN"
      }
    },
    {
      "cell_type": "code",
      "source": [
        "# Print the last item of the tuple:\n",
        "thistuple = (\"apple\", \"banana\", \"cherry\")\n",
        "print(thistuple[-1])"
      ],
      "metadata": {
        "colab": {
          "base_uri": "https://localhost:8080/"
        },
        "id": "oPHwSGAxfdma",
        "outputId": "274c3162-28ec-40a8-bf4c-d90b3e39fb9e"
      },
      "execution_count": null,
      "outputs": [
        {
          "output_type": "stream",
          "name": "stdout",
          "text": [
            "cherry\n"
          ]
        }
      ]
    },
    {
      "cell_type": "markdown",
      "source": [
        "### Range of Indexes\n",
        "\n",
        "You can specify a range of indexes by specifying where to start and where to end the range.\n",
        "\n",
        "When specifying a range, the return value will be a new tuple with the specified items."
      ],
      "metadata": {
        "id": "bDPgryh_geQi"
      }
    },
    {
      "cell_type": "code",
      "source": [
        "# Return the third, fourth, and fifth item:\n",
        "thistuple = (\"apple\", \"banana\", \"cherry\", \"orange\", \"kiwi\", \"melon\", \"mango\")\n",
        "print(thistuple[2:5])"
      ],
      "metadata": {
        "colab": {
          "base_uri": "https://localhost:8080/"
        },
        "id": "ncz37zdGgYCZ",
        "outputId": "efd31cc0-a8b3-497a-9d39-9b4a12a368fa"
      },
      "execution_count": null,
      "outputs": [
        {
          "output_type": "stream",
          "name": "stdout",
          "text": [
            "('cherry', 'orange', 'kiwi')\n"
          ]
        }
      ]
    },
    {
      "cell_type": "markdown",
      "source": [
        "\n",
        "\n",
        "**Note**: The search will start at index 2 (included) and end at index 5 (not included).\n",
        "\n",
        "Remember that the first item has index 0.\n",
        "\n",
        "By leaving out the start value, the range will start at the first item:"
      ],
      "metadata": {
        "id": "I9hbqHiWgoJX"
      }
    },
    {
      "cell_type": "code",
      "source": [
        "# This example returns the items from the beginning to, but NOT included, \"kiwi\":\n",
        "thistuple = (\"apple\", \"banana\", \"cherry\", \"orange\", \"kiwi\", \"melon\", \"mango\")\n",
        "print(thistuple[:4])"
      ],
      "metadata": {
        "colab": {
          "base_uri": "https://localhost:8080/"
        },
        "id": "HhCfj2sEgkvr",
        "outputId": "e9894592-4156-4608-9981-0c475ff7117c"
      },
      "execution_count": null,
      "outputs": [
        {
          "output_type": "stream",
          "name": "stdout",
          "text": [
            "('apple', 'banana', 'cherry', 'orange')\n"
          ]
        }
      ]
    },
    {
      "cell_type": "markdown",
      "source": [
        "By leaving out the end value, the range will go on to the end of the list:"
      ],
      "metadata": {
        "id": "wfmqdOOhgu9O"
      }
    },
    {
      "cell_type": "code",
      "source": [
        "# This example returns the items from \"cherry\" and to the end:\n",
        "thistuple = (\"apple\", \"banana\", \"cherry\", \"orange\", \"kiwi\", \"melon\", \"mango\")\n",
        "print(thistuple[2:])"
      ],
      "metadata": {
        "colab": {
          "base_uri": "https://localhost:8080/"
        },
        "id": "JW0yDdE6guDQ",
        "outputId": "3c699463-3df2-47aa-b686-614810871f26"
      },
      "execution_count": null,
      "outputs": [
        {
          "output_type": "stream",
          "name": "stdout",
          "text": [
            "('cherry', 'orange', 'kiwi', 'melon', 'mango')\n"
          ]
        }
      ]
    },
    {
      "cell_type": "markdown",
      "source": [
        "### Range of Negative Indexes\n",
        "\n",
        "Specify negative indexes if you want to start the search from the end of the tuple:"
      ],
      "metadata": {
        "id": "B8WPYaVng4S_"
      }
    },
    {
      "cell_type": "code",
      "source": [
        "# This example returns the items from index -4 (included) to index -1 (excluded)\n",
        "thistuple = (\"apple\", \"banana\", \"cherry\", \"orange\", \"kiwi\", \"melon\", \"mango\")\n",
        "print(thistuple[-4:-1])"
      ],
      "metadata": {
        "colab": {
          "base_uri": "https://localhost:8080/"
        },
        "id": "fqKgnTNAgy8Z",
        "outputId": "dc2b79da-372e-45fc-f7ed-1ba2f8755354"
      },
      "execution_count": null,
      "outputs": [
        {
          "output_type": "stream",
          "name": "stdout",
          "text": [
            "('orange', 'kiwi', 'melon')\n"
          ]
        }
      ]
    },
    {
      "cell_type": "markdown",
      "source": [
        "### Check if Item Exists\n",
        "\n",
        "To determine if a specified item is present in a tuple use the `in` keyword:"
      ],
      "metadata": {
        "id": "BWwLK6QJhEuw"
      }
    },
    {
      "cell_type": "code",
      "source": [
        "# Check if \"apple\" is present in the tuple:\n",
        "thistuple = (\"apple\", \"banana\", \"cherry\")\n",
        "if \"apple\" in thistuple:\n",
        "  print(\"Yes, 'apple' is in the fruits tuple\") "
      ],
      "metadata": {
        "colab": {
          "base_uri": "https://localhost:8080/"
        },
        "id": "hDSHB1NshB73",
        "outputId": "683f80f7-6b48-4e7a-fe6b-270e424e1203"
      },
      "execution_count": null,
      "outputs": [
        {
          "output_type": "stream",
          "name": "stdout",
          "text": [
            "Yes, 'apple' is in the fruits tuple\n"
          ]
        }
      ]
    },
    {
      "cell_type": "markdown",
      "source": [
        "Tuples are unchangeable, meaning that you cannot change, add, or remove items once the tuple is created.\n",
        "\n",
        "But there are some workarounds.\n",
        "## Change Tuple Values\n",
        "\n",
        "Once a tuple is created, you cannot change its values. Tuples are unchangeable, or immutable as it also is called.\n",
        "\n",
        "But there is a workaround. You can convert the tuple into a list, change the list, and convert the list back into a tuple."
      ],
      "metadata": {
        "id": "KEb__8pQhSq5"
      }
    },
    {
      "cell_type": "code",
      "source": [
        "# Convert the tuple into a list to be able to change it:\n",
        "x = (\"apple\", \"banana\", \"cherry\")\n",
        "y = list(x)\n",
        "y[1] = \"kiwi\"\n",
        "x = tuple(y)\n",
        "\n",
        "print(x) "
      ],
      "metadata": {
        "colab": {
          "base_uri": "https://localhost:8080/"
        },
        "id": "2k9H0sJxhMR-",
        "outputId": "13855bbe-5e0f-4a84-f552-46e1ddb61693"
      },
      "execution_count": null,
      "outputs": [
        {
          "output_type": "stream",
          "name": "stdout",
          "text": [
            "('apple', 'kiwi', 'cherry')\n"
          ]
        }
      ]
    },
    {
      "cell_type": "markdown",
      "source": [
        "## Add Items\n",
        "\n",
        "Since tuples are immutable, they do not have a build-in `append()` method, but there are other ways to add items to a tuple.\n",
        "\n",
        "1. Convert into a list: Just like the workaround for changing a tuple, you can convert it into a list, add your item(s), and convert it back into a tuple."
      ],
      "metadata": {
        "id": "oXzBTsODhbPc"
      }
    },
    {
      "cell_type": "code",
      "source": [
        "# Convert the tuple into a list, add \"orange\", and convert it back into a tuple:\n",
        "thistuple = (\"apple\", \"banana\", \"cherry\")\n",
        "y = list(thistuple)\n",
        "y.append(\"orange\")\n",
        "thistuple = tuple(y)"
      ],
      "metadata": {
        "id": "wJOvTZEphX2q"
      },
      "execution_count": null,
      "outputs": []
    },
    {
      "cell_type": "markdown",
      "source": [
        "2. Add tuple to a tuple. You are allowed to add tuples to tuples, so if you want to add one item, (or many), create a new tuple with the item(s), and add it to the existing tuple:"
      ],
      "metadata": {
        "id": "eexyz5bLhlMg"
      }
    },
    {
      "cell_type": "code",
      "source": [
        "# Create a new tuple with the value \"orange\", and add that tuple:\n",
        "thistuple = (\"apple\", \"banana\", \"cherry\")\n",
        "y = (\"orange\",)\n",
        "thistuple += y\n",
        "\n",
        "print(thistuple)"
      ],
      "metadata": {
        "colab": {
          "base_uri": "https://localhost:8080/"
        },
        "id": "Lc1cRw0ShiUa",
        "outputId": "dbfc2294-5c28-4101-8e71-27b04e404a8c"
      },
      "execution_count": null,
      "outputs": [
        {
          "output_type": "stream",
          "name": "stdout",
          "text": [
            "('apple', 'banana', 'cherry', 'orange')\n"
          ]
        }
      ]
    },
    {
      "cell_type": "markdown",
      "source": [
        "Note: When creating a tuple with only one item, remember to include a comma after the item, otherwise it will not be identified as a tuple."
      ],
      "metadata": {
        "id": "NDr-owpWhrul"
      }
    },
    {
      "cell_type": "markdown",
      "source": [
        "## Remove Items\n",
        "\n",
        "Note: You cannot remove items in a tuple.\n",
        "\n",
        "Tuples are unchangeable, so you cannot remove items from it, but you can use the same workaround as we used for changing and adding tuple items:"
      ],
      "metadata": {
        "id": "BB2nZ_ADh30k"
      }
    },
    {
      "cell_type": "code",
      "source": [
        "# Convert the tuple into a list, remove \"apple\", and convert it back into a tuple:\n",
        "thistuple = (\"apple\", \"banana\", \"cherry\")\n",
        "y = list(thistuple)\n",
        "y.remove(\"apple\")\n",
        "thistuple = tuple(y)"
      ],
      "metadata": {
        "id": "FHddze4hhohh"
      },
      "execution_count": null,
      "outputs": []
    },
    {
      "cell_type": "markdown",
      "source": [
        "Or you can delete the tuple completely:"
      ],
      "metadata": {
        "id": "i1QAlW9miB5W"
      }
    },
    {
      "cell_type": "code",
      "source": [
        "# The del keyword can delete the tuple completely:\n",
        "thistuple = (\"apple\", \"banana\", \"cherry\")\n",
        "del thistuple\n",
        "print(thistuple) #this will raise an error because the tuple no longer exists "
      ],
      "metadata": {
        "id": "0G7C6Xs_h9_a"
      },
      "execution_count": null,
      "outputs": []
    },
    {
      "cell_type": "markdown",
      "source": [
        "## Unpacking a Tuple\n",
        "\n",
        "When we create a tuple, we normally assign values to it. This is called \"packing\" a tuple:"
      ],
      "metadata": {
        "id": "GtY1kqh8iPBG"
      }
    },
    {
      "cell_type": "code",
      "source": [
        "# Packing a tuple:\n",
        "fruits = (\"apple\", \"banana\", \"cherry\")"
      ],
      "metadata": {
        "id": "5mCpkttNiF4b"
      },
      "execution_count": null,
      "outputs": []
    },
    {
      "cell_type": "markdown",
      "source": [
        "But, in Python, we are also allowed to extract the values back into variables. This is called \"unpacking\":"
      ],
      "metadata": {
        "id": "omsj_W4amTAF"
      }
    },
    {
      "cell_type": "code",
      "source": [
        "# Unpacking a tuple:\n",
        "fruits = (\"apple\", \"banana\", \"cherry\")\n",
        "\n",
        "(green, yellow, red) = fruits\n",
        "\n",
        "print(green)\n",
        "print(yellow)\n",
        "print(red)"
      ],
      "metadata": {
        "colab": {
          "base_uri": "https://localhost:8080/"
        },
        "id": "VWnrLljjmQrr",
        "outputId": "0ebe3697-d788-4f6a-e2c6-b47c8aa06730"
      },
      "execution_count": null,
      "outputs": [
        {
          "output_type": "stream",
          "name": "stdout",
          "text": [
            "apple\n",
            "banana\n",
            "cherry\n"
          ]
        }
      ]
    },
    {
      "cell_type": "markdown",
      "source": [
        "Note: The number of variables must match the number of values in the tuple, if not, you must use an asterisk to collect the remaining values as a list."
      ],
      "metadata": {
        "id": "omTQ_s_DmZ8v"
      }
    },
    {
      "cell_type": "markdown",
      "source": [
        "### Using Asterisk*\n",
        "\n",
        "If the number of variables is less than the number of values, you can add an * to the variable name and the values will be assigned to the variable as a list:"
      ],
      "metadata": {
        "id": "MtbFRkHombjM"
      }
    },
    {
      "cell_type": "code",
      "source": [
        "# Assign the rest of the values as a list called \"red\":\n",
        "fruits = (\"apple\", \"banana\", \"cherry\", \"strawberry\", \"raspberry\")\n",
        "\n",
        "(green, yellow, *red) = fruits\n",
        "\n",
        "print(green)\n",
        "print(yellow)\n",
        "print(red)"
      ],
      "metadata": {
        "colab": {
          "base_uri": "https://localhost:8080/"
        },
        "id": "oBdgVK7tmV45",
        "outputId": "416321b6-433e-4987-dc2e-97680f67ec54"
      },
      "execution_count": null,
      "outputs": [
        {
          "output_type": "stream",
          "name": "stdout",
          "text": [
            "apple\n",
            "banana\n",
            "['cherry', 'strawberry', 'raspberry']\n"
          ]
        }
      ]
    },
    {
      "cell_type": "markdown",
      "source": [
        "If the asterisk is added to another variable name than the last, Python will assign values to the variable until the number of values left matches the number of variables left."
      ],
      "metadata": {
        "id": "UBhtlVMvmmTf"
      }
    },
    {
      "cell_type": "code",
      "source": [
        "# Add a list of values the \"tropic\" variable:\n",
        "fruits = (\"apple\", \"mango\", \"papaya\", \"pineapple\", \"cherry\")\n",
        "\n",
        "(green, *tropic, red) = fruits\n",
        "\n",
        "print(green)\n",
        "print(tropic)\n",
        "print(red)"
      ],
      "metadata": {
        "colab": {
          "base_uri": "https://localhost:8080/"
        },
        "id": "yayUbHIWmjF7",
        "outputId": "2cb7b6c1-4ebb-4694-e61a-e57e4fc92128"
      },
      "execution_count": null,
      "outputs": [
        {
          "output_type": "stream",
          "name": "stdout",
          "text": [
            "apple\n",
            "['mango', 'papaya', 'pineapple']\n",
            "cherry\n"
          ]
        }
      ]
    },
    {
      "cell_type": "markdown",
      "source": [
        "Loop Through the Index Numbers\n",
        "\n",
        "You can also loop through the tuple items by referring to their index number.\n",
        "\n",
        "Use the `range() and len()` functions to create a suitable iterable."
      ],
      "metadata": {
        "id": "myjxpylfmxH0"
      }
    },
    {
      "cell_type": "code",
      "source": [
        "# Print all items by referring to their index number:\n",
        "thistuple = (\"apple\", \"banana\", \"cherry\")\n",
        "for i in range(len(thistuple)):\n",
        "  print(thistuple[i]) "
      ],
      "metadata": {
        "colab": {
          "base_uri": "https://localhost:8080/"
        },
        "id": "Ibb8LbZcmpy0",
        "outputId": "57f847a1-345b-46c0-8137-30c4c0a57cc9"
      },
      "execution_count": null,
      "outputs": [
        {
          "output_type": "stream",
          "name": "stdout",
          "text": [
            "apple\n",
            "banana\n",
            "cherry\n"
          ]
        }
      ]
    },
    {
      "cell_type": "markdown",
      "source": [
        "## Join Two Tuples\n",
        "\n",
        "To join two or more tuples you can use the `+` operator:"
      ],
      "metadata": {
        "id": "2TNoW-dum6Q6"
      }
    },
    {
      "cell_type": "code",
      "source": [
        "# Join two tuples:\n",
        "tuple1 = (\"a\", \"b\" , \"c\")\n",
        "tuple2 = (1, 2, 3)\n",
        "\n",
        "tuple3 = tuple1 + tuple2\n",
        "print(tuple3) "
      ],
      "metadata": {
        "colab": {
          "base_uri": "https://localhost:8080/"
        },
        "id": "Uw2H6j8km1Z3",
        "outputId": "77625110-3789-4a3a-f140-be1e21e4ed7f"
      },
      "execution_count": null,
      "outputs": [
        {
          "output_type": "stream",
          "name": "stdout",
          "text": [
            "('a', 'b', 'c', 1, 2, 3)\n"
          ]
        }
      ]
    },
    {
      "cell_type": "markdown",
      "source": [
        "## Multiply Tuples\n",
        "\n",
        "If you want to multiply the content of a tuple a given number of times, you can use the `*` operator:"
      ],
      "metadata": {
        "id": "SkQ7NHTynBA2"
      }
    },
    {
      "cell_type": "code",
      "source": [
        "# Multiply the fruits tuple by 2:\n",
        "fruits = (\"apple\", \"banana\", \"cherry\")\n",
        "mytuple = fruits * 2\n",
        "\n",
        "print(mytuple) "
      ],
      "metadata": {
        "colab": {
          "base_uri": "https://localhost:8080/"
        },
        "id": "2MpXNQIJm_Ct",
        "outputId": "df8b04ba-c272-4e81-a4f1-27c66ba8c440"
      },
      "execution_count": null,
      "outputs": [
        {
          "output_type": "stream",
          "name": "stdout",
          "text": [
            "('apple', 'banana', 'cherry', 'apple', 'banana', 'cherry')\n"
          ]
        }
      ]
    },
    {
      "cell_type": "markdown",
      "source": [
        "# ***Python Sets***\n",
        "\n",
        "Sets are used to store multiple items in a single variable.\n",
        "\n",
        "Set is one of 4 built-in data types in Python used to store collections of data, the other 3 are List, Tuple, and Dictionary, all with different qualities and usage.\n",
        "\n",
        "A set is a collection which is unordered, unchangeable*, and unindexed.\n",
        "\n",
        "* Note: Set items are unchangeable, but you can remove items and add new items.\n",
        "\n",
        "Sets are written with curly brackets.\n",
        "\n",
        "```\n",
        "myset = {\"apple\", \"banana\", \"cherry\"}\n",
        "```\n"
      ],
      "metadata": {
        "id": "jaztG3sspMdM"
      }
    },
    {
      "cell_type": "code",
      "source": [
        "# Create a Set:\n",
        "thisset = {\"apple\", \"banana\", \"cherry\"}\n",
        "print(thisset) "
      ],
      "metadata": {
        "colab": {
          "base_uri": "https://localhost:8080/"
        },
        "id": "JkioqsQfo9Lz",
        "outputId": "9ae29804-a783-42ac-901b-7a33ba1ff9bf"
      },
      "execution_count": null,
      "outputs": [
        {
          "output_type": "stream",
          "name": "stdout",
          "text": [
            "{'apple', 'cherry', 'banana'}\n"
          ]
        }
      ]
    },
    {
      "cell_type": "markdown",
      "source": [
        "**Note**: Sets are unordered, so you cannot be sure in which order the items will appear.\n",
        "## Set Items\n",
        "\n",
        "Set items are unordered, unchangeable, and do not allow duplicate values.\n",
        "## Unordered\n",
        "\n",
        "Unordered means that the items in a set do not have a defined order.\n",
        "\n",
        "Set items can appear in a different order every time you use them, and cannot be referred to by index or key.\n",
        "## Unchangeable\n",
        "\n",
        "Set items are unchangeable, meaning that we cannot change the items after the set has been created.\n",
        "\n",
        "Once a set is created, you cannot change its items, but you can remove items and add new items.\n",
        "### Duplicates Not Allowed\n",
        "\n",
        "Sets cannot have two items with the same value."
      ],
      "metadata": {
        "id": "3TeL6KX6pfDs"
      }
    },
    {
      "cell_type": "code",
      "source": [
        "# Duplicate values will be ignored:\n",
        "thisset = {\"apple\", \"banana\", \"cherry\", \"apple\"}\n",
        "\n",
        "print(thisset)"
      ],
      "metadata": {
        "colab": {
          "base_uri": "https://localhost:8080/"
        },
        "id": "vAvkTbtepa_E",
        "outputId": "64c0e58f-64dd-4699-eb09-890bcad791a1"
      },
      "execution_count": null,
      "outputs": [
        {
          "output_type": "stream",
          "name": "stdout",
          "text": [
            "{'apple', 'cherry', 'banana'}\n"
          ]
        }
      ]
    },
    {
      "cell_type": "markdown",
      "source": [
        "## Get the Length of a Set\n",
        "\n",
        "To determine how many items a set has, use the `len()` function."
      ],
      "metadata": {
        "id": "hR-y69KjqEur"
      }
    },
    {
      "cell_type": "code",
      "source": [
        "# Get the number of items in a set:\n",
        "thisset = {\"apple\", \"banana\", \"cherry\"}\n",
        "\n",
        "print(len(thisset)) "
      ],
      "metadata": {
        "colab": {
          "base_uri": "https://localhost:8080/"
        },
        "id": "x24z1LzXqApS",
        "outputId": "a89b6c26-0e4a-462d-fe79-a9514f31ae8c"
      },
      "execution_count": null,
      "outputs": [
        {
          "output_type": "stream",
          "name": "stdout",
          "text": [
            "3\n"
          ]
        }
      ]
    },
    {
      "cell_type": "markdown",
      "source": [
        "## Set Items - Data Types\n",
        "\n",
        "Set items can be of any data type:\n",
        "\n",
        "String, int and boolean data types:\n",
        "```\n",
        "set1 = {\"apple\", \"banana\", \"cherry\"}\n",
        "set2 = {1, 5, 7, 9, 3}\n",
        "set3 = {True, False, False} \n",
        "```\n",
        "\n",
        "A set can contain different data types:\n",
        "\n",
        "\n",
        "A set with strings, integers and boolean values:\n",
        "```\n",
        "set1 = {\"abc\", 34, True, 40, \"male\"} \n",
        "```\n",
        "```\n",
        "type()\n",
        "```\n",
        "From Python's perspective, sets are defined as objects with the data type 'set':\n",
        "```\n",
        "<class 'set'> \n",
        "```"
      ],
      "metadata": {
        "id": "dz5_WFy6qLzh"
      }
    },
    {
      "cell_type": "code",
      "source": [
        "# What is the data type of a set?\n",
        "myset = {\"apple\", \"banana\", \"cherry\"}\n",
        "print(type(myset))"
      ],
      "metadata": {
        "colab": {
          "base_uri": "https://localhost:8080/"
        },
        "id": "4BevYCQ_qJd7",
        "outputId": "2a60d78d-1079-4e67-d703-5346ea9eca40"
      },
      "execution_count": null,
      "outputs": [
        {
          "output_type": "stream",
          "name": "stdout",
          "text": [
            "<class 'set'>\n"
          ]
        }
      ]
    },
    {
      "cell_type": "markdown",
      "source": [
        "# The `set()` Constructor\n",
        "\n",
        "It is also possible to use the `set()` constructor to make a set."
      ],
      "metadata": {
        "id": "HpbbOugBqm0-"
      }
    },
    {
      "cell_type": "code",
      "source": [
        "# Using the set() constructor to make a set:\n",
        "thisset = set((\"apple\", \"banana\", \"cherry\")) # note the double round-brackets\n",
        "print(thisset) "
      ],
      "metadata": {
        "colab": {
          "base_uri": "https://localhost:8080/"
        },
        "id": "rGYEf7y7qj_e",
        "outputId": "7159da9c-0184-426d-91a7-d34444f10705"
      },
      "execution_count": null,
      "outputs": [
        {
          "output_type": "stream",
          "name": "stdout",
          "text": [
            "{'apple', 'cherry', 'banana'}\n"
          ]
        }
      ]
    },
    {
      "cell_type": "markdown",
      "source": [
        "### Access Items\n",
        "\n",
        "You cannot access items in a set by referring to an index or a key.\n",
        "\n",
        "But you can loop through the set items using a for loop, or ask if a specified value is present in a set, by using the in keyword."
      ],
      "metadata": {
        "id": "PBLnnBg9qw37"
      }
    },
    {
      "cell_type": "code",
      "source": [
        "# Loop through the set, and print the values:\n",
        "thisset = {\"apple\", \"banana\", \"cherry\"}\n",
        "\n",
        "for x in thisset:\n",
        "  print(x) "
      ],
      "metadata": {
        "colab": {
          "base_uri": "https://localhost:8080/"
        },
        "id": "CzVVR5UUqtDw",
        "outputId": "cd7ae944-c609-4d4b-c2d0-64b66a1969b4"
      },
      "execution_count": null,
      "outputs": [
        {
          "output_type": "stream",
          "name": "stdout",
          "text": [
            "apple\n",
            "cherry\n",
            "banana\n"
          ]
        }
      ]
    },
    {
      "cell_type": "code",
      "source": [
        "# Check if \"banana\" is present in the set:\n",
        "thisset = {\"apple\", \"banana\", \"cherry\"}\n",
        "\n",
        "print(\"banana\" in thisset) "
      ],
      "metadata": {
        "colab": {
          "base_uri": "https://localhost:8080/"
        },
        "id": "Mc1RwpJIq4eS",
        "outputId": "a69bc002-8f0d-4a48-bf6b-4cec7b8eb92e"
      },
      "execution_count": null,
      "outputs": [
        {
          "output_type": "stream",
          "name": "stdout",
          "text": [
            "True\n"
          ]
        }
      ]
    },
    {
      "cell_type": "markdown",
      "source": [
        "### Change Items\n",
        "\n",
        "Once a set is created, you cannot change its items, but you can add new items.\n",
        "\n",
        "## Add Items\n",
        "\n",
        "Once a set is created, you cannot change its items, but you can add new items.\n",
        "\n",
        "To add one item to a set use the `add()` method.\n"
      ],
      "metadata": {
        "id": "CGycsUc9q9uV"
      }
    },
    {
      "cell_type": "code",
      "source": [
        "# Add an item to a set, using the add() method:\n",
        "thisset = {\"apple\", \"banana\", \"cherry\"}\n",
        "\n",
        "thisset.add(\"orange\")\n",
        "\n",
        "print(thisset) "
      ],
      "metadata": {
        "colab": {
          "base_uri": "https://localhost:8080/"
        },
        "id": "n1chrLWIq7b6",
        "outputId": "e0c3b052-4cd4-4dc2-db61-686fa9a41342"
      },
      "execution_count": null,
      "outputs": [
        {
          "output_type": "stream",
          "name": "stdout",
          "text": [
            "{'apple', 'cherry', 'banana', 'orange'}\n"
          ]
        }
      ]
    },
    {
      "cell_type": "markdown",
      "source": [
        "## Add Sets\n",
        "\n",
        "To add items from another set into the current set, use the `update()` method."
      ],
      "metadata": {
        "id": "5dUqoaNHrPHB"
      }
    },
    {
      "cell_type": "code",
      "source": [
        "thisset = {\"apple\", \"banana\", \"cherry\"}\n",
        "tropical = {\"pineapple\", \"mango\", \"papaya\"}\n",
        "\n",
        "thisset.update(tropical)\n",
        "\n",
        "print(thisset) "
      ],
      "metadata": {
        "colab": {
          "base_uri": "https://localhost:8080/"
        },
        "id": "NFe8B6IyrM3U",
        "outputId": "935ee044-3341-407b-85cb-6fdfc1273d09"
      },
      "execution_count": null,
      "outputs": [
        {
          "output_type": "stream",
          "name": "stdout",
          "text": [
            "{'apple', 'cherry', 'banana', 'mango', 'pineapple', 'papaya'}\n"
          ]
        }
      ]
    },
    {
      "cell_type": "markdown",
      "source": [
        "## Add Any Iterable\n",
        "\n",
        "The object in the `update()` method does not have to be a set, it can be any iterable object (tuples, lists, dictionaries etc.)."
      ],
      "metadata": {
        "id": "ZwJoLsvKrXDm"
      }
    },
    {
      "cell_type": "code",
      "source": [
        "# Add elements of a list to at set:\n",
        "thisset = {\"apple\", \"banana\", \"cherry\"}\n",
        "mylist = [\"kiwi\", \"orange\"]\n",
        "\n",
        "thisset.update(mylist)\n",
        "\n",
        "print(thisset) "
      ],
      "metadata": {
        "colab": {
          "base_uri": "https://localhost:8080/"
        },
        "id": "vpRPwbR2rUoA",
        "outputId": "18bb39f3-cd37-4432-d36e-525cb17b798a"
      },
      "execution_count": null,
      "outputs": [
        {
          "output_type": "stream",
          "name": "stdout",
          "text": [
            "{'apple', 'cherry', 'kiwi', 'banana', 'orange'}\n"
          ]
        }
      ]
    },
    {
      "cell_type": "markdown",
      "source": [
        "## Remove Item\n",
        "\n",
        "To remove an item in a set, use the `remove()`, or the `discard()` method."
      ],
      "metadata": {
        "id": "bZ5s5y44rt_o"
      }
    },
    {
      "cell_type": "code",
      "source": [
        "# Remove \"banana\" by using the remove() method:\n",
        "thisset = {\"apple\", \"banana\", \"cherry\"}\n",
        "\n",
        "thisset.remove(\"banana\")\n",
        "\n",
        "print(thisset) "
      ],
      "metadata": {
        "colab": {
          "base_uri": "https://localhost:8080/"
        },
        "id": "7pITwCs4rb0l",
        "outputId": "1f4a29a6-e1de-4acf-c1ec-51af23259173"
      },
      "execution_count": null,
      "outputs": [
        {
          "output_type": "stream",
          "name": "stdout",
          "text": [
            "{'apple', 'cherry'}\n"
          ]
        }
      ]
    },
    {
      "cell_type": "markdown",
      "source": [
        "\n",
        "\n",
        "**Note**: If the item to remove does not exist, `remove()` will raise an error.\n"
      ],
      "metadata": {
        "id": "OEiLYkOzr2uL"
      }
    },
    {
      "cell_type": "code",
      "source": [
        "# Remove \"banana\" by using the discard() method:\n",
        "thisset = {\"apple\", \"banana\", \"cherry\"}\n",
        "\n",
        "thisset.discard(\"banana\")\n",
        "\n",
        "print(thisset) "
      ],
      "metadata": {
        "colab": {
          "base_uri": "https://localhost:8080/"
        },
        "id": "JtfNJlbbr09i",
        "outputId": "03a7f2fa-1710-46aa-ed45-78458ae8a81f"
      },
      "execution_count": null,
      "outputs": [
        {
          "output_type": "stream",
          "name": "stdout",
          "text": [
            "{'apple', 'cherry'}\n"
          ]
        }
      ]
    },
    {
      "cell_type": "markdown",
      "source": [
        "\n",
        "\n",
        "**Note**: If the item to remove does not exist, `discard()` will NOT raise an error.\n",
        "\n",
        "You can also use the `pop()` method to remove an item, but this method will remove a random item, so you cannot be sure what item that gets removed.\n",
        "\n",
        "The return value of the `pop()` method is the removed item."
      ],
      "metadata": {
        "id": "3ab7Tzqetl_2"
      }
    },
    {
      "cell_type": "code",
      "source": [
        "# Remove a random item by using the pop() method:\n",
        "thisset = {\"apple\", \"banana\", \"cherry\"}\n",
        "\n",
        "x = thisset.pop()\n",
        "\n",
        "print(x)\n",
        "\n",
        "print(thisset) "
      ],
      "metadata": {
        "colab": {
          "base_uri": "https://localhost:8080/"
        },
        "id": "06FOuq-er7RD",
        "outputId": "9c408cae-c38e-4bd5-d4bb-9fea68139208"
      },
      "execution_count": null,
      "outputs": [
        {
          "output_type": "stream",
          "name": "stdout",
          "text": [
            "apple\n",
            "{'cherry', 'banana'}\n"
          ]
        }
      ]
    },
    {
      "cell_type": "markdown",
      "source": [
        "\n",
        "\n",
        "**Note**: Sets are unordered, so when using the `pop()` method, you do not know which item that gets removed.\n"
      ],
      "metadata": {
        "id": "CCkVZX7EtxTq"
      }
    },
    {
      "cell_type": "code",
      "source": [
        "# The clear() method empties the set:\n",
        "thisset = {\"apple\", \"banana\", \"cherry\"}\n",
        "\n",
        "thisset.clear()\n",
        "\n",
        "print(thisset) "
      ],
      "metadata": {
        "colab": {
          "base_uri": "https://localhost:8080/"
        },
        "id": "ywQ31gWjtvR1",
        "outputId": "daf992f3-14dd-4183-d76b-50d29c3a94f7"
      },
      "execution_count": null,
      "outputs": [
        {
          "output_type": "stream",
          "name": "stdout",
          "text": [
            "set()\n"
          ]
        }
      ]
    },
    {
      "cell_type": "code",
      "source": [
        "# The del keyword will delete the set completely:\n",
        "thisset = {\"apple\", \"banana\", \"cherry\"}\n",
        "\n",
        "del thisset\n",
        "\n",
        "print(thisset) "
      ],
      "metadata": {
        "id": "Bw7VsJzjt11A"
      },
      "execution_count": null,
      "outputs": []
    },
    {
      "cell_type": "markdown",
      "source": [
        "### Loop Items\n",
        "\n",
        "You can loop through the set items by using a for loop:"
      ],
      "metadata": {
        "id": "AYWeExVGuFC-"
      }
    },
    {
      "cell_type": "code",
      "source": [
        "# Loop through the set, and print the values:\n",
        "thisset = {\"apple\", \"banana\", \"cherry\"}\n",
        "\n",
        "for x in thisset:\n",
        "  print(x) "
      ],
      "metadata": {
        "colab": {
          "base_uri": "https://localhost:8080/"
        },
        "id": "EhFpsgs2t4qs",
        "outputId": "2911ddca-f165-443b-9a3b-62a3dce53c03"
      },
      "execution_count": null,
      "outputs": [
        {
          "output_type": "stream",
          "name": "stdout",
          "text": [
            "apple\n",
            "cherry\n",
            "banana\n"
          ]
        }
      ]
    },
    {
      "cell_type": "markdown",
      "source": [
        "## Join Two Sets\n",
        "\n",
        "There are several ways to join two or more sets in Python.\n",
        "\n",
        "You can use the `union()` method that returns a new set containing all items from both sets, or the `update()` method that inserts all the items from one set into another:"
      ],
      "metadata": {
        "id": "DVj8bAPAuOuj"
      }
    },
    {
      "cell_type": "code",
      "source": [
        "# The union() method returns a new set with all items from both sets:\n",
        "set1 = {\"a\", \"b\" , \"c\"}\n",
        "set2 = {1, 2, 3}\n",
        "\n",
        "set3 = set1.union(set2)\n",
        "print(set3) "
      ],
      "metadata": {
        "colab": {
          "base_uri": "https://localhost:8080/"
        },
        "id": "TZfd8lqZuG9m",
        "outputId": "d297cbb5-77b2-46e9-db80-10f45cf19ceb"
      },
      "execution_count": null,
      "outputs": [
        {
          "output_type": "stream",
          "name": "stdout",
          "text": [
            "{1, 2, 3, 'a', 'c', 'b'}\n"
          ]
        }
      ]
    },
    {
      "cell_type": "code",
      "source": [
        "# The update() method inserts the items in set2 into set1:\n",
        "set1 = {\"a\", \"b\" , \"c\"}\n",
        "set2 = {1, 2, 3}\n",
        "\n",
        "set1.update(set2)\n",
        "print(set1) "
      ],
      "metadata": {
        "colab": {
          "base_uri": "https://localhost:8080/"
        },
        "id": "qu-EhxtUuaOC",
        "outputId": "5dbb79da-413d-4577-adf4-25f9de953217"
      },
      "execution_count": null,
      "outputs": [
        {
          "output_type": "stream",
          "name": "stdout",
          "text": [
            "{1, 2, 3, 'a', 'c', 'b'}\n"
          ]
        }
      ]
    },
    {
      "cell_type": "markdown",
      "source": [
        "\n",
        "\n",
        "**Note**: Both `union()` and `update()` will exclude any duplicate items.\n"
      ],
      "metadata": {
        "id": "bgxGRkA8ufSi"
      }
    },
    {
      "cell_type": "markdown",
      "source": [
        "## Keep ONLY the Duplicates\n",
        "\n",
        "The `intersection_update()` method will keep only the items that are present in both sets."
      ],
      "metadata": {
        "id": "PGCSYLXdulTf"
      }
    },
    {
      "cell_type": "code",
      "source": [
        "# Keep the items that exist in both set x, and set y:\n",
        "x = {\"apple\", \"banana\", \"cherry\"}\n",
        "y = {\"google\", \"microsoft\", \"apple\"}\n",
        "\n",
        "x.intersection_update(y)\n",
        "\n",
        "print(x) "
      ],
      "metadata": {
        "colab": {
          "base_uri": "https://localhost:8080/"
        },
        "id": "Kun48NeJudW2",
        "outputId": "d0e6ed63-b425-4703-edea-8498068727fc"
      },
      "execution_count": null,
      "outputs": [
        {
          "output_type": "stream",
          "name": "stdout",
          "text": [
            "{'apple'}\n"
          ]
        }
      ]
    },
    {
      "cell_type": "markdown",
      "source": [
        "The `intersection()` method will return a new set, that only contains the items that are present in both sets."
      ],
      "metadata": {
        "id": "omeckmL5usiv"
      }
    },
    {
      "cell_type": "code",
      "source": [
        "# Return a set that contains the items that exist in both set x, and set y:\n",
        "x = {\"apple\", \"banana\", \"cherry\"}\n",
        "y = {\"google\", \"microsoft\", \"apple\"}\n",
        "\n",
        "z = x.intersection(y)\n",
        "\n",
        "print(z) "
      ],
      "metadata": {
        "colab": {
          "base_uri": "https://localhost:8080/"
        },
        "id": "w6lEzidWuqzb",
        "outputId": "aff7c625-ba77-40c5-bec8-d51c8abb2a1d"
      },
      "execution_count": null,
      "outputs": [
        {
          "output_type": "stream",
          "name": "stdout",
          "text": [
            "{'apple'}\n"
          ]
        }
      ]
    },
    {
      "cell_type": "markdown",
      "source": [
        "## Keep All, But NOT the Duplicates\n",
        "\n",
        "The `symmetric_difference_update()` method will keep only the elements that are NOT present in both sets."
      ],
      "metadata": {
        "id": "F0HAyTEnuzvS"
      }
    },
    {
      "cell_type": "code",
      "source": [
        "# Keep the items that are not present in both sets:\n",
        "x = {\"apple\", \"banana\", \"cherry\"}\n",
        "y = {\"google\", \"microsoft\", \"apple\"}\n",
        "\n",
        "x.symmetric_difference_update(y)\n",
        "\n",
        "print(x) "
      ],
      "metadata": {
        "colab": {
          "base_uri": "https://localhost:8080/"
        },
        "id": "Lj7jgtHBuxG8",
        "outputId": "5fc3c5a3-f67b-43e4-bb4a-9fcd2e452620"
      },
      "execution_count": null,
      "outputs": [
        {
          "output_type": "stream",
          "name": "stdout",
          "text": [
            "{'cherry', 'microsoft', 'google', 'banana'}\n"
          ]
        }
      ]
    },
    {
      "cell_type": "markdown",
      "source": [
        "The `symmetric_difference()` method will return a new set, that contains only the elements that are NOT present in both sets."
      ],
      "metadata": {
        "id": "LXVPEFb8u7rg"
      }
    },
    {
      "cell_type": "code",
      "source": [
        "# Return a set that contains all items from both sets, except items that are present in both:\n",
        "x = {\"apple\", \"banana\", \"cherry\"}\n",
        "y = {\"google\", \"microsoft\", \"apple\"}\n",
        "\n",
        "z = x.symmetric_difference(y)\n",
        "\n",
        "print(z) "
      ],
      "metadata": {
        "colab": {
          "base_uri": "https://localhost:8080/"
        },
        "id": "nqlAM0TKu5Tz",
        "outputId": "a6168cdb-777e-4277-aaf3-dfb586a9b8d6"
      },
      "execution_count": null,
      "outputs": [
        {
          "output_type": "stream",
          "name": "stdout",
          "text": [
            "{'cherry', 'microsoft', 'google', 'banana'}\n"
          ]
        }
      ]
    },
    {
      "cell_type": "markdown",
      "source": [
        "# ***Python Dictionaries***\n",
        "\n",
        "Dictionary\n",
        "\n",
        "Dictionaries are used to store data values in key:value pairs.\n",
        "\n",
        "A dictionary is a collection which is ordered*, changeable and do not allow duplicates.\n",
        "\n",
        "As of Python version 3.7, dictionaries are ordered. In Python 3.6 and earlier, dictionaries are unordered.\n",
        "\n",
        "Dictionaries are written with curly brackets, and have keys and values:\n",
        "```\n",
        "thisdict = {\n",
        "  \"brand\": \"Ford\",\n",
        "  \"model\": \"Mustang\",\n",
        "  \"year\": 1964\n",
        "}\n",
        "```"
      ],
      "metadata": {
        "id": "hkSz4WZ5vYV-"
      }
    },
    {
      "cell_type": "code",
      "source": [
        "# Create and print a dictionary:\n",
        "thisdict =\t{\n",
        "  \"brand\": \"Ford\",\n",
        "  \"model\": \"Mustang\",\n",
        "  \"year\": 1964\n",
        "}\n",
        "print(thisdict)"
      ],
      "metadata": {
        "colab": {
          "base_uri": "https://localhost:8080/"
        },
        "id": "mLBrL1fju_DC",
        "outputId": "257b02be-6391-432e-cede-1a4cb12b1e0c"
      },
      "execution_count": null,
      "outputs": [
        {
          "output_type": "stream",
          "name": "stdout",
          "text": [
            "{'brand': 'Ford', 'model': 'Mustang', 'year': 1964}\n"
          ]
        }
      ]
    },
    {
      "cell_type": "markdown",
      "source": [
        "## Dictionary Items\n",
        "\n",
        "Dictionary items are ordered, changeable, and does not allow duplicates.\n",
        "\n",
        "Dictionary items are presented in key:  value pairs, and can be referred to by using the key name."
      ],
      "metadata": {
        "id": "EJj06266vnsu"
      }
    },
    {
      "cell_type": "code",
      "source": [
        "# Print the \"brand\" value of the dictionary:\n",
        "thisdict =\t{\n",
        "  \"brand\": \"Ford\",\n",
        "  \"model\": \"Mustang\",\n",
        "  \"year\": 1964\n",
        "}\n",
        "print(thisdict[\"brand\"])"
      ],
      "metadata": {
        "colab": {
          "base_uri": "https://localhost:8080/"
        },
        "id": "8dOEEYEYvkbc",
        "outputId": "e6fe16d6-fe0e-49f0-d374-9492ca270b40"
      },
      "execution_count": null,
      "outputs": [
        {
          "output_type": "stream",
          "name": "stdout",
          "text": [
            "Ford\n"
          ]
        }
      ]
    },
    {
      "cell_type": "markdown",
      "source": [
        "## Ordered or Unordered?\n",
        "\n",
        "As of Python version 3.7, dictionaries are ordered. In Python 3.6 and earlier, dictionaries are unordered.\n",
        "\n",
        "When we say that dictionaries are ordered, it means that the items have a defined order, and that order will not change.\n",
        "\n",
        "Unordered means that the items does not have a defined order, you cannot refer to an item by using an index.\n",
        "## Changeable\n",
        "\n",
        "Dictionaries are changeable, meaning that we can change, add or remove items after the dictionary has been created.\n",
        "## Duplicates Not Allowed\n",
        "\n",
        "Dictionaries cannot have two items with the same key:"
      ],
      "metadata": {
        "id": "zLO5dDRIv0RB"
      }
    },
    {
      "cell_type": "code",
      "source": [
        "# Duplicate values will overwrite existing values:\n",
        "thisdict =\t{\n",
        "  \"brand\": \"Ford\",\n",
        "  \"model\": \"Mustang\",\n",
        "  \"year\": 1964,\n",
        "  \"year\": 2020\n",
        "}\n",
        "print(thisdict) "
      ],
      "metadata": {
        "colab": {
          "base_uri": "https://localhost:8080/"
        },
        "id": "A27JsgShvwX2",
        "outputId": "26be5f39-3f27-4345-a45f-b56e953c3a62"
      },
      "execution_count": null,
      "outputs": [
        {
          "output_type": "stream",
          "name": "stdout",
          "text": [
            "{'brand': 'Ford', 'model': 'Mustang', 'year': 2020}\n"
          ]
        }
      ]
    },
    {
      "cell_type": "markdown",
      "source": [
        "## Dictionary Length\n",
        "\n",
        "To determine how many items a dictionary has, use the `len()` function:"
      ],
      "metadata": {
        "id": "ZZlWDt8bwAYn"
      }
    },
    {
      "cell_type": "code",
      "source": [
        "# Print the number of items in the dictionary:\n",
        "print(len(thisdict))"
      ],
      "metadata": {
        "colab": {
          "base_uri": "https://localhost:8080/"
        },
        "id": "PYUbA1Rbv9l0",
        "outputId": "bd0ad5df-1962-4214-90a4-c215abc454e3"
      },
      "execution_count": null,
      "outputs": [
        {
          "output_type": "stream",
          "name": "stdout",
          "text": [
            "3\n"
          ]
        }
      ]
    },
    {
      "cell_type": "markdown",
      "source": [
        "### Dictionary Items - Data Types\n",
        "\n",
        "The values in dictionary items can be of any data type:"
      ],
      "metadata": {
        "id": "gpMqnVCgwHLa"
      }
    },
    {
      "cell_type": "code",
      "source": [
        "# String, int, boolean, and list data types:\n",
        "thisdict =\t{\n",
        "  \"brand\": \"Ford\",\n",
        "  \"electric\": False,\n",
        "  \"year\": 1964,\n",
        "  \"colors\": [\"red\", \"white\", \"blue\"]\n",
        "}"
      ],
      "metadata": {
        "id": "ltBdXv_hwFBa"
      },
      "execution_count": null,
      "outputs": []
    },
    {
      "cell_type": "markdown",
      "source": [
        "```\n",
        "type()\n",
        "```\n",
        "From Python's perspective, dictionaries are defined as objects with the data type 'dict':\n",
        "```\n",
        "<class 'dict'> \n",
        "```"
      ],
      "metadata": {
        "id": "6QXnG2vzwR2r"
      }
    },
    {
      "cell_type": "code",
      "source": [
        "# Print the data type of a dictionary:\n",
        "thisdict =\t{\n",
        "  \"brand\": \"Ford\",\n",
        "  \"model\": \"Mustang\",\n",
        "  \"year\": 1964\n",
        "}\n",
        "print(type(thisdict)) "
      ],
      "metadata": {
        "colab": {
          "base_uri": "https://localhost:8080/"
        },
        "id": "3DNmK1B2wMty",
        "outputId": "8088de48-0cf4-415e-885c-a0194890ee65"
      },
      "execution_count": null,
      "outputs": [
        {
          "output_type": "stream",
          "name": "stdout",
          "text": [
            "<class 'dict'>\n"
          ]
        }
      ]
    },
    {
      "cell_type": "markdown",
      "source": [
        "## The `dict()` Constructor\n",
        "\n",
        "It is also possible to use the `dict()` constructor to make a dictionary."
      ],
      "metadata": {
        "id": "DRWCqmYowarC"
      }
    },
    {
      "cell_type": "code",
      "source": [
        "# Using the dict() method to make a dictionary:\n",
        "thisdict = dict(name = \"John\", age = 36, country = \"Norway\")\n",
        "print(thisdict)"
      ],
      "metadata": {
        "colab": {
          "base_uri": "https://localhost:8080/"
        },
        "id": "FBuiJwrgwYgf",
        "outputId": "93f52404-23c7-42f0-b8bd-b59ade2c67ff"
      },
      "execution_count": null,
      "outputs": [
        {
          "output_type": "stream",
          "name": "stdout",
          "text": [
            "{'name': 'John', 'age': 36, 'country': 'Norway'}\n"
          ]
        }
      ]
    },
    {
      "cell_type": "markdown",
      "source": [
        "## Accessing Items\n",
        "\n",
        "You can access the items of a dictionary by referring to its key name, inside square brackets:"
      ],
      "metadata": {
        "id": "xp6z7euHwkga"
      }
    },
    {
      "cell_type": "code",
      "source": [
        "# Get the value of the \"model\" key:\n",
        "thisdict =\t{\n",
        "  \"brand\": \"Ford\",\n",
        "  \"model\": \"Mustang\",\n",
        "  \"year\": 1964\n",
        "}\n",
        "x = thisdict[\"model\"]"
      ],
      "metadata": {
        "id": "1WINs7gFwhMH"
      },
      "execution_count": null,
      "outputs": []
    },
    {
      "cell_type": "markdown",
      "source": [
        "There is also a method called get() that will give you the same result:"
      ],
      "metadata": {
        "id": "Ra7Fei-mwqRj"
      }
    },
    {
      "cell_type": "code",
      "source": [
        "# Get the value of the \"model\" key:\n",
        "x = thisdict.get(\"model\")"
      ],
      "metadata": {
        "id": "veoPcgJRwoKM"
      },
      "execution_count": null,
      "outputs": []
    },
    {
      "cell_type": "markdown",
      "source": [
        "## Get Keys\n",
        "\n",
        "The `keys()` method will return a list of all the keys in the dictionary."
      ],
      "metadata": {
        "id": "I51SLWW9wvqj"
      }
    },
    {
      "cell_type": "code",
      "source": [
        "# Get a list of the keys:\n",
        "x = thisdict.keys() "
      ],
      "metadata": {
        "id": "6qIkI43RwtX6"
      },
      "execution_count": null,
      "outputs": []
    },
    {
      "cell_type": "markdown",
      "source": [
        "The list of the keys is a view of the dictionary, meaning that any changes done to the dictionary will be reflected in the keys list."
      ],
      "metadata": {
        "id": "JV3nLFlhwzoP"
      }
    },
    {
      "cell_type": "code",
      "source": [
        "# Add a new item to the original dictionary, and see that the keys list gets updated as well:\n",
        "car = {\n",
        "\"brand\": \"Ford\",\n",
        "\"model\": \"Mustang\",\n",
        "\"year\": 1964\n",
        "}\n",
        "\n",
        "x = car.keys()\n",
        "\n",
        "print(x) #before the change\n",
        "\n",
        "car[\"color\"] = \"white\"\n",
        "\n",
        "print(x) #after the change "
      ],
      "metadata": {
        "colab": {
          "base_uri": "https://localhost:8080/"
        },
        "id": "GA5Gtfbhw5nu",
        "outputId": "a71ee9ae-3bf5-4f49-f232-b019fa6712bc"
      },
      "execution_count": null,
      "outputs": [
        {
          "output_type": "stream",
          "name": "stdout",
          "text": [
            "dict_keys(['brand', 'model', 'year'])\n",
            "dict_keys(['brand', 'model', 'year', 'color'])\n"
          ]
        }
      ]
    },
    {
      "cell_type": "markdown",
      "source": [
        "## Get Values\n",
        "\n",
        "The `values()` method will return a list of all the values in the dictionary."
      ],
      "metadata": {
        "id": "C3FsIROzxBV8"
      }
    },
    {
      "cell_type": "code",
      "source": [
        "# Get a list of the values:\n",
        "x = thisdict.values() "
      ],
      "metadata": {
        "id": "ynUApPeuw8pZ"
      },
      "execution_count": null,
      "outputs": []
    },
    {
      "cell_type": "markdown",
      "source": [
        "The list of the values is a view of the dictionary, meaning that any changes done to the dictionary will be reflected in the values list."
      ],
      "metadata": {
        "id": "DvbLCIVtxJ3s"
      }
    },
    {
      "cell_type": "code",
      "source": [
        "# Make a change in the original dictionary, and see that the values list gets updated as well:\n",
        "car = {\n",
        "\"brand\": \"Ford\",\n",
        "\"model\": \"Mustang\",\n",
        "\"year\": 1964\n",
        "}\n",
        "\n",
        "x = car.values()\n",
        "\n",
        "print(x) #before the change\n",
        "\n",
        "car[\"year\"] = 2020\n",
        "\n",
        "print(x) #after the change "
      ],
      "metadata": {
        "colab": {
          "base_uri": "https://localhost:8080/"
        },
        "id": "pozNxXOYxGsi",
        "outputId": "540fd2c4-4941-4a6f-b757-3151a7abcb1d"
      },
      "execution_count": null,
      "outputs": [
        {
          "output_type": "stream",
          "name": "stdout",
          "text": [
            "dict_values(['Ford', 'Mustang', 1964])\n",
            "dict_values(['Ford', 'Mustang', 2020])\n"
          ]
        }
      ]
    },
    {
      "cell_type": "code",
      "source": [
        "# Add a new item to the original dictionary, and see that the values list gets updated as well:\n",
        "car = {\n",
        "\"brand\": \"Ford\",\n",
        "\"model\": \"Mustang\",\n",
        "\"year\": 1964\n",
        "}\n",
        "\n",
        "x = car.values()\n",
        "\n",
        "print(x) #before the change\n",
        "\n",
        "car[\"color\"] = \"red\"\n",
        "\n",
        "print(x) #after the change "
      ],
      "metadata": {
        "colab": {
          "base_uri": "https://localhost:8080/"
        },
        "id": "llCbmsgnxMoR",
        "outputId": "32685237-a06e-406b-e82a-c5bea0f74b37"
      },
      "execution_count": null,
      "outputs": [
        {
          "output_type": "stream",
          "name": "stdout",
          "text": [
            "dict_values(['Ford', 'Mustang', 1964])\n",
            "dict_values(['Ford', 'Mustang', 1964, 'red'])\n"
          ]
        }
      ]
    },
    {
      "cell_type": "markdown",
      "source": [
        "## Get Items\n",
        "\n",
        "The `items()` method will return each item in a dictionary, as tuples in a list."
      ],
      "metadata": {
        "id": "y3XY9H2xxTXZ"
      }
    },
    {
      "cell_type": "code",
      "source": [
        "# Get a list of the key: value pairs\n",
        "x = thisdict.items() "
      ],
      "metadata": {
        "id": "7yMm304YxPnq"
      },
      "execution_count": null,
      "outputs": []
    },
    {
      "cell_type": "markdown",
      "source": [
        "The returned list is a view of the items of the dictionary, meaning that any changes done to the dictionary will be reflected in the items list."
      ],
      "metadata": {
        "id": "PhDnrFaOxbGh"
      }
    },
    {
      "cell_type": "code",
      "source": [
        "# Make a change in the original dictionary, and see that the items list gets updated as well:\n",
        "car = {\n",
        "\"brand\": \"Ford\",\n",
        "\"model\": \"Mustang\",\n",
        "\"year\": 1964\n",
        "}\n",
        "\n",
        "x = car.items()\n",
        "\n",
        "print(x) #before the change\n",
        "\n",
        "car[\"year\"] = 2020\n",
        "\n",
        "print(x) #after the change "
      ],
      "metadata": {
        "colab": {
          "base_uri": "https://localhost:8080/"
        },
        "id": "im_niVrRxao5",
        "outputId": "c7b96c1d-dae8-48b7-96e1-e72efc1f1987"
      },
      "execution_count": null,
      "outputs": [
        {
          "output_type": "stream",
          "name": "stdout",
          "text": [
            "dict_items([('brand', 'Ford'), ('model', 'Mustang'), ('year', 1964)])\n",
            "dict_items([('brand', 'Ford'), ('model', 'Mustang'), ('year', 2020)])\n"
          ]
        }
      ]
    },
    {
      "cell_type": "code",
      "source": [
        "# Add a new item to the original dictionary, and see that the items list gets updated as well:\n",
        "car = {\n",
        "\"brand\": \"Ford\",\n",
        "\"model\": \"Mustang\",\n",
        "\"year\": 1964\n",
        "}\n",
        "\n",
        "x = car.items()\n",
        "\n",
        "print(x) #before the change\n",
        "\n",
        "car[\"color\"] = \"red\"\n",
        "\n",
        "print(x) #after the change "
      ],
      "metadata": {
        "colab": {
          "base_uri": "https://localhost:8080/"
        },
        "id": "zhbEdYh2xflt",
        "outputId": "aa47bc3a-82b2-4aec-82c5-fa570ff94372"
      },
      "execution_count": null,
      "outputs": [
        {
          "output_type": "stream",
          "name": "stdout",
          "text": [
            "dict_items([('brand', 'Ford'), ('model', 'Mustang'), ('year', 1964)])\n",
            "dict_items([('brand', 'Ford'), ('model', 'Mustang'), ('year', 1964), ('color', 'red')])\n"
          ]
        }
      ]
    },
    {
      "cell_type": "markdown",
      "source": [
        "## Check if Key Exists\n",
        "\n",
        "To determine if a specified key is present in a dictionary use the `in` keyword:"
      ],
      "metadata": {
        "id": "y3kU5vvvxkbS"
      }
    },
    {
      "cell_type": "code",
      "source": [
        "# Check if \"model\" is present in the dictionary:\n",
        "thisdict =\t{\n",
        "  \"brand\": \"Ford\",\n",
        "  \"model\": \"Mustang\",\n",
        "  \"year\": 1964\n",
        "}\n",
        "if \"model\" in thisdict:\n",
        "  print(\"Yes, 'model' is one of the keys in the thisdict dictionary\") "
      ],
      "metadata": {
        "colab": {
          "base_uri": "https://localhost:8080/"
        },
        "id": "SlPYvlvRxiIE",
        "outputId": "560b1d83-e59f-4bce-9c93-d91ab6417927"
      },
      "execution_count": null,
      "outputs": [
        {
          "output_type": "stream",
          "name": "stdout",
          "text": [
            "Yes, 'model' is one of the keys in the thisdict dictionary\n"
          ]
        }
      ]
    },
    {
      "cell_type": "markdown",
      "source": [
        "## Change Dictionary Items\n",
        "### Change Values\n",
        "\n",
        "You can change the value of a specific item by referring to its key name:"
      ],
      "metadata": {
        "id": "CDKOtymDx4J8"
      }
    },
    {
      "cell_type": "code",
      "source": [
        "# Change the \"year\" to 2018:\n",
        "thisdict =\t{\n",
        "  \"brand\": \"Ford\",\n",
        "  \"model\": \"Mustang\",\n",
        "  \"year\": 1964\n",
        "}\n",
        "thisdict[\"year\"] = 2018"
      ],
      "metadata": {
        "id": "M_uXQFV6xpDY"
      },
      "execution_count": null,
      "outputs": []
    },
    {
      "cell_type": "markdown",
      "source": [
        "## Update Dictionary\n",
        "\n",
        "The `update()` method will update the dictionary with the items from the given argument.\n",
        "\n",
        "The argument must be a dictionary, or an iterable object with key:value pairs."
      ],
      "metadata": {
        "id": "JPmA0zZ9x_aX"
      }
    },
    {
      "cell_type": "code",
      "source": [
        "# Update the \"year\" of the car by using the update() method:\n",
        "thisdict =\t{\n",
        "  \"brand\": \"Ford\",\n",
        "  \"model\": \"Mustang\",\n",
        "  \"year\": 1964\n",
        "}\n",
        "thisdict.update({\"year\": 2020}) "
      ],
      "metadata": {
        "id": "IA8rOQNsx9t6"
      },
      "execution_count": null,
      "outputs": []
    },
    {
      "cell_type": "markdown",
      "source": [
        "## Adding Items\n",
        "\n",
        "Adding an item to the dictionary is done by using a new index key and assigning a value to it:"
      ],
      "metadata": {
        "id": "LpQmZWqmyKDz"
      }
    },
    {
      "cell_type": "code",
      "source": [
        "thisdict =\t{\n",
        "  \"brand\": \"Ford\",\n",
        "  \"model\": \"Mustang\",\n",
        "  \"year\": 1964\n",
        "}\n",
        "thisdict[\"color\"] = \"red\"\n",
        "print(thisdict)"
      ],
      "metadata": {
        "colab": {
          "base_uri": "https://localhost:8080/"
        },
        "id": "b3b8L6ZGyEqP",
        "outputId": "09b4fd64-5985-40ac-eac0-a36caab4366f"
      },
      "execution_count": null,
      "outputs": [
        {
          "output_type": "stream",
          "name": "stdout",
          "text": [
            "{'brand': 'Ford', 'model': 'Mustang', 'year': 1964, 'color': 'red'}\n"
          ]
        }
      ]
    },
    {
      "cell_type": "markdown",
      "source": [
        "## Update Dictionary\n",
        "\n",
        "The `update()` method will update the dictionary with the items from a given argument. If the item does not exist, the item will be added.\n",
        "\n",
        "The argument must be a dictionary, or an iterable object with key: value pairs."
      ],
      "metadata": {
        "id": "N1vGdHdVyV7j"
      }
    },
    {
      "cell_type": "code",
      "source": [
        "# Add a color item to the dictionary by using the update() method:\n",
        "thisdict =\t{\n",
        "  \"brand\": \"Ford\",\n",
        "  \"model\": \"Mustang\",\n",
        "  \"year\": 1964\n",
        "}\n",
        "thisdict.update({\"color\": \"red\"}) "
      ],
      "metadata": {
        "id": "SM7A0YbGyOZh"
      },
      "execution_count": null,
      "outputs": []
    },
    {
      "cell_type": "markdown",
      "source": [
        "## Removing Items\n",
        "\n",
        "There are several methods to remove items from a dictionary:"
      ],
      "metadata": {
        "id": "dTNhGyFfyfNU"
      }
    },
    {
      "cell_type": "code",
      "source": [
        "# The pop() method removes the item with the specified key name:\n",
        "thisdict =\t{\n",
        "  \"brand\": \"Ford\",\n",
        "  \"model\": \"Mustang\",\n",
        "  \"year\": 1964\n",
        "}\n",
        "thisdict.pop(\"model\")\n",
        "print(thisdict) "
      ],
      "metadata": {
        "colab": {
          "base_uri": "https://localhost:8080/"
        },
        "id": "AY74Tr-eyb4u",
        "outputId": "136fd85a-a075-42e6-abbe-63b79b9a759f"
      },
      "execution_count": null,
      "outputs": [
        {
          "output_type": "stream",
          "name": "stdout",
          "text": [
            "{'brand': 'Ford', 'year': 1964}\n"
          ]
        }
      ]
    },
    {
      "cell_type": "code",
      "source": [
        "# The popitem() method removes the last inserted item (in versions before 3.7, a random item is removed instead):\n",
        "thisdict =\t{\n",
        "  \"brand\": \"Ford\",\n",
        "  \"model\": \"Mustang\",\n",
        "  \"year\": 1964\n",
        "}\n",
        "thisdict.popitem()\n",
        "print(thisdict) "
      ],
      "metadata": {
        "colab": {
          "base_uri": "https://localhost:8080/"
        },
        "id": "ld5c-6zFyjJt",
        "outputId": "9f5e380d-aab7-4b33-e987-47daa69ba0aa"
      },
      "execution_count": null,
      "outputs": [
        {
          "output_type": "stream",
          "name": "stdout",
          "text": [
            "{'brand': 'Ford', 'model': 'Mustang'}\n"
          ]
        }
      ]
    },
    {
      "cell_type": "code",
      "source": [
        "# The del keyword removes the item with the specified key name:\n",
        "thisdict =\t{\n",
        "  \"brand\": \"Ford\",\n",
        "  \"model\": \"Mustang\",\n",
        "  \"year\": 1964\n",
        "}\n",
        "del thisdict[\"model\"]\n",
        "print(thisdict) "
      ],
      "metadata": {
        "colab": {
          "base_uri": "https://localhost:8080/"
        },
        "id": "S2QSPQTvymG0",
        "outputId": "6fdfaadd-350b-4e5b-da05-060e55f2d084"
      },
      "execution_count": null,
      "outputs": [
        {
          "output_type": "stream",
          "name": "stdout",
          "text": [
            "{'brand': 'Ford', 'year': 1964}\n"
          ]
        }
      ]
    },
    {
      "cell_type": "code",
      "source": [
        "# The del keyword can also delete the dictionary completely:\n",
        "thisdict =\t{\n",
        "  \"brand\": \"Ford\",\n",
        "  \"model\": \"Mustang\",\n",
        "  \"year\": 1964\n",
        "}\n",
        "del thisdict\n",
        "print(thisdict) #this will cause an error because \"thisdict\" no longer exists. "
      ],
      "metadata": {
        "id": "hjX3QayfyrDm"
      },
      "execution_count": null,
      "outputs": []
    },
    {
      "cell_type": "code",
      "source": [
        "# The clear() method empties the dictionary:\n",
        "thisdict =\t{\n",
        "  \"brand\": \"Ford\",\n",
        "  \"model\": \"Mustang\",\n",
        "  \"year\": 1964\n",
        "}\n",
        "thisdict.clear()\n",
        "print(thisdict) "
      ],
      "metadata": {
        "colab": {
          "base_uri": "https://localhost:8080/"
        },
        "id": "K2AiiLXlyuw1",
        "outputId": "a56edc10-17a0-43a3-ab29-1fb4b860e3ff"
      },
      "execution_count": null,
      "outputs": [
        {
          "output_type": "stream",
          "name": "stdout",
          "text": [
            "{}\n"
          ]
        }
      ]
    },
    {
      "cell_type": "markdown",
      "source": [
        "## Loop Through a Dictionary\n",
        "\n",
        "You can loop through a dictionary by using a for loop.\n",
        "\n",
        "When looping through a dictionary, the return value are the keys of the dictionary, but there are methods to return the values as well."
      ],
      "metadata": {
        "id": "3KJgaEJRy3Nb"
      }
    },
    {
      "cell_type": "code",
      "source": [
        "# Print all key names in the dictionary, one by one:\n",
        "for x in thisdict:\n",
        "  print(x) \n",
        "\n",
        "# Print all values in the dictionary, one by one:\n",
        "for x in thisdict:\n",
        "  print(thisdict[x]) "
      ],
      "metadata": {
        "colab": {
          "base_uri": "https://localhost:8080/"
        },
        "id": "PSIZRZnbyxOz",
        "outputId": "c46916b9-71a6-43d4-adc6-ffe50a390769"
      },
      "execution_count": null,
      "outputs": [
        {
          "output_type": "stream",
          "name": "stdout",
          "text": [
            "brand\n",
            "model\n",
            "year\n",
            "Ford\n",
            "Mustang\n",
            "2018\n"
          ]
        }
      ]
    },
    {
      "cell_type": "code",
      "source": [
        "# You can also use the values() method to return values of a dictionary:\n",
        "for x in thisdict.values():\n",
        "  print(x) "
      ],
      "metadata": {
        "colab": {
          "base_uri": "https://localhost:8080/"
        },
        "id": "7o1jf-wLy_q7",
        "outputId": "18f43759-a3cf-4ed3-f4f2-7eaee1460c46"
      },
      "execution_count": null,
      "outputs": [
        {
          "output_type": "stream",
          "name": "stdout",
          "text": [
            "Ford\n",
            "Mustang\n",
            "2018\n"
          ]
        }
      ]
    },
    {
      "cell_type": "code",
      "source": [
        "# You can use the keys() method to return the keys of a dictionary:\n",
        "for x in thisdict.keys():\n",
        "  print(x) "
      ],
      "metadata": {
        "colab": {
          "base_uri": "https://localhost:8080/"
        },
        "id": "noZKQrcBzEjR",
        "outputId": "43c49c7a-2b23-4df9-bbf9-58c5031b1093"
      },
      "execution_count": null,
      "outputs": [
        {
          "output_type": "stream",
          "name": "stdout",
          "text": [
            "brand\n",
            "model\n",
            "year\n"
          ]
        }
      ]
    },
    {
      "cell_type": "code",
      "source": [
        "# Loop through both keys and values, by using the items() method:\n",
        "for x, y in thisdict.items():\n",
        "  print(x, y) "
      ],
      "metadata": {
        "colab": {
          "base_uri": "https://localhost:8080/"
        },
        "id": "V0pJ7OL7zRDW",
        "outputId": "a4414568-04a9-43d5-b6c4-af7aabcc40ec"
      },
      "execution_count": null,
      "outputs": [
        {
          "output_type": "stream",
          "name": "stdout",
          "text": [
            "brand Ford\n",
            "model Mustang\n",
            "year 2018\n"
          ]
        }
      ]
    },
    {
      "cell_type": "markdown",
      "source": [
        "## Copy a Dictionary\n",
        "\n",
        "You cannot copy a dictionary simply by typing dict2 = dict1, because: dict2 will only be a reference to dict1, and changes made in dict1 will automatically also be made in dict2.\n",
        "\n",
        "There are ways to make a copy, one way is to use the built-in Dictionary method `copy()`."
      ],
      "metadata": {
        "id": "ckVU2L1XzYts"
      }
    },
    {
      "cell_type": "code",
      "source": [
        "# Make a copy of a dictionary with the copy() method:\n",
        "thisdict =\t{\n",
        "  \"brand\": \"Ford\",\n",
        "  \"model\": \"Mustang\",\n",
        "  \"year\": 1964\n",
        "}\n",
        "mydict = thisdict.copy()\n",
        "print(mydict)"
      ],
      "metadata": {
        "colab": {
          "base_uri": "https://localhost:8080/"
        },
        "id": "nw4ZxuPXzTdr",
        "outputId": "101d9e45-0d95-48c4-a7d3-60586294de2b"
      },
      "execution_count": null,
      "outputs": [
        {
          "output_type": "stream",
          "name": "stdout",
          "text": [
            "{'brand': 'Ford', 'model': 'Mustang', 'year': 1964}\n"
          ]
        }
      ]
    },
    {
      "cell_type": "markdown",
      "source": [
        "Another way to make a copy is to use the built-in function `dict()`."
      ],
      "metadata": {
        "id": "n3lExl_tzfYC"
      }
    },
    {
      "cell_type": "code",
      "source": [
        "# Make a copy of a dictionary with the dict() function:\n",
        "thisdict =\t{\n",
        "  \"brand\": \"Ford\",\n",
        "  \"model\": \"Mustang\",\n",
        "  \"year\": 1964\n",
        "}\n",
        "mydict = dict(thisdict)\n",
        "print(mydict) "
      ],
      "metadata": {
        "colab": {
          "base_uri": "https://localhost:8080/"
        },
        "id": "l1JnAef1zdd1",
        "outputId": "b74c9a02-5dcb-4976-c153-c9d3dad2b9e6"
      },
      "execution_count": null,
      "outputs": [
        {
          "output_type": "stream",
          "name": "stdout",
          "text": [
            "{'brand': 'Ford', 'model': 'Mustang', 'year': 1964}\n"
          ]
        }
      ]
    },
    {
      "cell_type": "markdown",
      "source": [
        "## Nested Dictionaries\n",
        "\n",
        "A dictionary can contain dictionaries, this is called nested dictionaries."
      ],
      "metadata": {
        "id": "fmzX7pk1zmQB"
      }
    },
    {
      "cell_type": "code",
      "source": [
        "# Create a dictionary that contain three dictionaries:\n",
        "myfamily = {\n",
        "  \"child1\" : {\n",
        "    \"name\" : \"Emil\",\n",
        "    \"year\" : 2004\n",
        "  },\n",
        "  \"child2\" : {\n",
        "    \"name\" : \"Tobias\",\n",
        "    \"year\" : 2007\n",
        "  },\n",
        "  \"child3\" : {\n",
        "    \"name\" : \"Linus\",\n",
        "    \"year\" : 2011\n",
        "  }\n",
        "} "
      ],
      "metadata": {
        "id": "ye5M0LPuzjN5"
      },
      "execution_count": null,
      "outputs": []
    },
    {
      "cell_type": "markdown",
      "source": [
        "Or, if you want to add three dictionaries into a new dictionary:"
      ],
      "metadata": {
        "id": "XzkIPobXztlG"
      }
    },
    {
      "cell_type": "code",
      "source": [
        "# Create three dictionaries, then create one dictionary that will contain the other three dictionaries:\n",
        "child1 = {\n",
        "  \"name\" : \"Emil\",\n",
        "  \"year\" : 2004\n",
        "}\n",
        "child2 = {\n",
        "  \"name\" : \"Tobias\",\n",
        "  \"year\" : 2007\n",
        "}\n",
        "child3 = {\n",
        "  \"name\" : \"Linus\",\n",
        "  \"year\" : 2011\n",
        "}\n",
        "\n",
        "myfamily = {\n",
        "  \"child1\" : child1,\n",
        "  \"child2\" : child2,\n",
        "  \"child3\" : child3\n",
        "} "
      ],
      "metadata": {
        "id": "S89z18IZzsOE"
      },
      "execution_count": null,
      "outputs": []
    },
    {
      "cell_type": "code",
      "source": [],
      "metadata": {
        "id": "GFge9qkZzwis"
      },
      "execution_count": null,
      "outputs": []
    }
  ]
}