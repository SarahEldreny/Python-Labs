{
  "nbformat": 4,
  "nbformat_minor": 0,
  "metadata": {
    "colab": {
      "provenance": [],
      "authorship_tag": "ABX9TyN+P5ZpSKkWkoXr3NS6HIgm",
      "include_colab_link": true
    },
    "kernelspec": {
      "name": "python3",
      "display_name": "Python 3"
    },
    "language_info": {
      "name": "python"
    }
  },
  "cells": [
    {
      "cell_type": "markdown",
      "metadata": {
        "id": "view-in-github",
        "colab_type": "text"
      },
      "source": [
        "<a href=\"https://colab.research.google.com/github/SarahEldreny/Python-Labs/blob/main/Python_Object_Oriented_Programming.ipynb\" target=\"_parent\"><img src=\"https://colab.research.google.com/assets/colab-badge.svg\" alt=\"Open In Colab\"/></a>"
      ]
    },
    {
      "cell_type": "markdown",
      "source": [
        "# ***Python Object Oriented Programming***\n",
        "\n",
        "In this Notebook, we’ll learn about Object-Oriented Programming (OOP) in Python with the help of examples.\n",
        "Python is a versatile programming language that supports various programming styles, including object-oriented programming (OOP) through the use of objects and classes.\n",
        "\n",
        "\n",
        "\n",
        "Python OOPs Concepts\n",
        "\n",
        "    Class.\n",
        "    Object.\n",
        "    Method.\n",
        "    Inheritance.\n",
        "    Polymorphism.\n",
        "    Encapsulation.\n",
        "    Data Abstraction.\n",
        "    \n",
        "\n",
        "\n",
        "*   An object is any entity that has **attributes** and **behaviors**. \n",
        "\n",
        "\n",
        "\n",
        "For example, a `parrot` is an object. It has\n",
        "\n",
        "    attributes - name, age, color, etc.\n",
        "    behavior - dancing, singing, etc.\n",
        "\n",
        "Similarly, a class is a **blueprint** for that object.\n",
        "\n"
      ],
      "metadata": {
        "id": "5nBQej_LncbJ"
      }
    },
    {
      "cell_type": "markdown",
      "source": [
        "# Python Class and Object\n",
        "\n",
        "Class\n",
        "\n",
        "The class can be defined as a collection of objects. It is a logical entity that has some specific attributes and methods. \n",
        "\n",
        "For example: if you have an employee class, then it should contain an attribute and method, i.e. an email id, name, age, salary, etc.\n",
        "\n",
        "Syntax\n",
        "```\n",
        "    class ClassName:     \n",
        "            <statement-1>     \n",
        "            .     \n",
        "            .      \n",
        "            <statement-N>     \n",
        "```"
      ],
      "metadata": {
        "id": "YPtBfzTHuFU_"
      }
    },
    {
      "cell_type": "code",
      "execution_count": 17,
      "metadata": {
        "id": "SnCgDaVrginv"
      },
      "outputs": [],
      "source": [
        "# Example\n",
        "\n",
        "class Parrot:\n",
        "\n",
        "    # class attribute\n",
        "    name = \"\"\n",
        "    age = 0"
      ]
    },
    {
      "cell_type": "code",
      "source": [
        "# create parrot1 object\n",
        "parrot1 = Parrot()\n",
        "parrot1.name = \"Blu\"\n",
        "parrot1.age = 10"
      ],
      "metadata": {
        "id": "TL8MGKmioJhc"
      },
      "execution_count": 2,
      "outputs": []
    },
    {
      "cell_type": "code",
      "source": [
        "# create another object parrot2\n",
        "parrot2 = Parrot()\n",
        "parrot2.name = \"Woo\"\n",
        "parrot2.age = 15"
      ],
      "metadata": {
        "id": "8iFfig8doLwe"
      },
      "execution_count": 3,
      "outputs": []
    },
    {
      "cell_type": "code",
      "source": [
        "# access attributes\n",
        "print(f\"{parrot1.name} is {parrot1.age} years old\")\n",
        "print(f\"{parrot2.name} is {parrot2.age} years old\")"
      ],
      "metadata": {
        "colab": {
          "base_uri": "https://localhost:8080/"
        },
        "id": "EauDOoSXoN_P",
        "outputId": "508a2e4d-3386-4881-9d61-10e3289dfd4e"
      },
      "execution_count": 4,
      "outputs": [
        {
          "output_type": "stream",
          "name": "stdout",
          "text": [
            "Blu is 10 years old\n",
            "Woo is 15 years old\n"
          ]
        }
      ]
    },
    {
      "cell_type": "markdown",
      "source": [
        "In the above example, we created a class with the name **Parrot** with two attributes: \n",
        "\n",
        "**name** and **age**.\n",
        "\n",
        "Then, we create instances of the Parrot class. Here, **parrot1** and **parrot2** are references (value) to our new objects.\n",
        "\n",
        "We then accessed and assigned different values to the instance attributes using the objects name and the `.` notation."
      ],
      "metadata": {
        "id": "vpifx0J5oV_-"
      }
    },
    {
      "cell_type": "markdown",
      "source": [
        "## The __init__() Function\n",
        "\n",
        "The examples above are classes and objects in their simplest form, and are not really useful in real life applications.\n",
        "\n",
        "To understand the meaning of classes we have to understand the built-in `__init__()` function.\n",
        "\n",
        "All classes have a function called `__init__()`, which is always executed when the class is being initiated.\n",
        "\n",
        "Use the `__init__()` function to assign values to object properties, or other operations that are necessary to do when the object is being created.\n",
        "\n",
        "\n",
        "\n",
        "**Note**: The `__init__()` function is called automatically every time the class is being used to create a new object.\n"
      ],
      "metadata": {
        "id": "rwpWBRXho5tc"
      }
    },
    {
      "cell_type": "code",
      "source": [
        "# Create a class named Person, use the __init__() function to assign values for name and age:\n",
        "class Person:\n",
        "  def __init__(self, name, age):\n",
        "    self.name = name\n",
        "    self.age = age\n",
        "\n",
        "p1 = Person(\"John\", 36)\n",
        "\n",
        "print(p1.name)\n",
        "print(p1.age) "
      ],
      "metadata": {
        "colab": {
          "base_uri": "https://localhost:8080/"
        },
        "id": "2U3eML0ToOgR",
        "outputId": "ba02da51-e8c3-437f-8f9c-cdeb69bdafce"
      },
      "execution_count": 5,
      "outputs": [
        {
          "output_type": "stream",
          "name": "stdout",
          "text": [
            "John\n",
            "36\n"
          ]
        }
      ]
    },
    {
      "cell_type": "markdown",
      "source": [
        "# The `__str__()` Function\n",
        "\n",
        "The `__str__()` function controls what should be returned when the class object is represented as a string.\n",
        "\n",
        "If the `__str__()` function is not set, the string representation of the object is returned."
      ],
      "metadata": {
        "id": "YSR2ZKn5pLIr"
      }
    },
    {
      "cell_type": "code",
      "source": [
        "# The string representation of an object WITHOUT the __str__() function:\n",
        "class Person:\n",
        "  def __init__(self, name, age):\n",
        "    self.name = name\n",
        "    self.age = age\n",
        "\n",
        "p1 = Person(\"John\", 36)\n",
        "\n",
        "print(p1) "
      ],
      "metadata": {
        "colab": {
          "base_uri": "https://localhost:8080/"
        },
        "id": "8MSJwqUCpCGo",
        "outputId": "3e492c79-8fe6-4454-9e8f-84a0d129fe55"
      },
      "execution_count": 6,
      "outputs": [
        {
          "output_type": "stream",
          "name": "stdout",
          "text": [
            "<__main__.Person object at 0x7face93885e0>\n"
          ]
        }
      ]
    },
    {
      "cell_type": "code",
      "source": [
        "# The string representation of an object WITH the __str__() function:\n",
        "class Person:\n",
        "  def __init__(self, name, age):\n",
        "    self.name = name\n",
        "    self.age = age\n",
        "\n",
        "  def __str__(self):\n",
        "    return f\"{self.name}({self.age})\"\n",
        "\n",
        "p1 = Person(\"John\", 36)\n",
        "\n",
        "print(p1) "
      ],
      "metadata": {
        "colab": {
          "base_uri": "https://localhost:8080/"
        },
        "id": "26hvXqIzpT8O",
        "outputId": "815781c4-e129-40ab-abcc-a2ef626c61d5"
      },
      "execution_count": 7,
      "outputs": [
        {
          "output_type": "stream",
          "name": "stdout",
          "text": [
            "John(36)\n"
          ]
        }
      ]
    },
    {
      "cell_type": "markdown",
      "source": [
        "# Object Methods\n",
        "\n",
        "Objects can also contain methods. Methods in objects are functions that belong to the object.\n",
        "\n",
        "The method is a function that is associated with an object. In Python, a method is not unique to class instances. Any object type can have methods.\n",
        "\n",
        "Let us create a method in the Person class."
      ],
      "metadata": {
        "id": "qI864aHApZsR"
      }
    },
    {
      "cell_type": "code",
      "source": [
        "# Insert a function that prints a greeting, and execute it on the p1 object:\n",
        "class Person:\n",
        "  def __init__(self, name, age):\n",
        "    self.name = name\n",
        "    self.age = age\n",
        "\n",
        "  def myfunc(self):\n",
        "    print(\"Hello my name is \" + self.name)\n",
        "\n",
        "p1 = Person(\"John\", 36)\n",
        "p1.myfunc() "
      ],
      "metadata": {
        "colab": {
          "base_uri": "https://localhost:8080/"
        },
        "id": "HJEdSeCLpWvS",
        "outputId": "19b1989e-73f0-4f4c-c513-893b150d2b6e"
      },
      "execution_count": 8,
      "outputs": [
        {
          "output_type": "stream",
          "name": "stdout",
          "text": [
            "Hello my name is John\n"
          ]
        }
      ]
    },
    {
      "cell_type": "markdown",
      "source": [
        "**Note**: The self parameter is a reference to the current instance of the class, and is used to access variables that belong to the class."
      ],
      "metadata": {
        "id": "_kCFcv1cp0QF"
      }
    },
    {
      "cell_type": "markdown",
      "source": [
        "# The self Parameter\n",
        "\n",
        "The `self` parameter is a reference to the current instance of the class, and is used to access variables that belongs to the class.\n",
        "\n",
        "It does not have to be named `self` , you can call it whatever you like, but it has to be the first parameter of any function in the class:"
      ],
      "metadata": {
        "id": "1uVyg0BJqCb5"
      }
    },
    {
      "cell_type": "code",
      "source": [
        "# Use the words mysillyobject and abc instead of self:\n",
        "class Person:\n",
        "  def __init__(mysillyobject, name, age):\n",
        "    mysillyobject.name = name\n",
        "    mysillyobject.age = age\n",
        "\n",
        "  def myfunc(abc):\n",
        "    print(\"Hello my name is \" + abc.name)\n",
        "\n",
        "p1 = Person(\"John\", 36)\n",
        "p1.myfunc() "
      ],
      "metadata": {
        "colab": {
          "base_uri": "https://localhost:8080/"
        },
        "id": "c6LvGioKpfsx",
        "outputId": "6dbc9d36-2433-46cb-c156-89abd4f87c16"
      },
      "execution_count": 9,
      "outputs": [
        {
          "output_type": "stream",
          "name": "stdout",
          "text": [
            "Hello my name is John\n"
          ]
        }
      ]
    },
    {
      "cell_type": "markdown",
      "source": [
        "## Modify Object Properties\n",
        "\n",
        "You can modify properties on objects like this:"
      ],
      "metadata": {
        "id": "6Kh3tyJoqPER"
      }
    },
    {
      "cell_type": "code",
      "source": [
        "# Set the age of p1 to 40:\n",
        "p1.age = 40 "
      ],
      "metadata": {
        "id": "bCk4g6clqJBy"
      },
      "execution_count": 11,
      "outputs": []
    },
    {
      "cell_type": "markdown",
      "source": [
        "## Delete Object Properties\n",
        "\n",
        "You can delete properties on objects by using the `del` keyword:"
      ],
      "metadata": {
        "id": "OwlqpLQsqWmw"
      }
    },
    {
      "cell_type": "code",
      "source": [
        "# Delete the age property from the p1 object:\n",
        "del p1.age "
      ],
      "metadata": {
        "id": "Zd0xAdHpqT27"
      },
      "execution_count": 12,
      "outputs": []
    },
    {
      "cell_type": "markdown",
      "source": [
        "## Delete Objects\n",
        "\n",
        "You can delete objects by using the `del` keyword:"
      ],
      "metadata": {
        "id": "8QSOmWyZqe7b"
      }
    },
    {
      "cell_type": "code",
      "source": [
        "# Delete the p1 object:\n",
        "del p1 "
      ],
      "metadata": {
        "id": "7CyWJkoFqckS"
      },
      "execution_count": 13,
      "outputs": []
    },
    {
      "cell_type": "markdown",
      "source": [
        "## The pass Statement\n",
        "\n",
        "class definitions cannot be empty, but if you for some reason have a class definition with no content, put in the `pass` statement to avoid getting an error."
      ],
      "metadata": {
        "id": "t-hSfCL7ql0D"
      }
    },
    {
      "cell_type": "code",
      "source": [
        "class Person:\n",
        "  pass"
      ],
      "metadata": {
        "id": "GKI_zJcHqjVK"
      },
      "execution_count": 14,
      "outputs": []
    },
    {
      "cell_type": "markdown",
      "source": [
        "# **Python Encapsulation**\n",
        "\n",
        "Encapsulation is one of the key features of object-oriented programming. \n",
        "\n",
        "Encapsulation refers to the bundling of attributes and methods inside a single class.\n",
        "\n",
        "It prevents outer classes from accessing and changing attributes and methods of a class. This also helps to achieve **data hiding**.\n",
        "\n",
        "In Python, we denote private attributes using underscore as the prefix i.e single `_` or double `__`. For example,"
      ],
      "metadata": {
        "id": "S9JtCDRcsi9n"
      }
    },
    {
      "cell_type": "code",
      "source": [
        "class Computer:\n",
        "\n",
        "    def __init__(self):\n",
        "        self.__maxprice = 900\n",
        "\n",
        "    def sell(self):\n",
        "        print(\"Selling Price: {}\".format(self.__maxprice))\n",
        "\n",
        "    def setMaxPrice(self, price):\n",
        "        self.__maxprice = price\n",
        "\n",
        "c = Computer()\n",
        "c.sell()\n",
        "\n",
        "# change the price\n",
        "c.__maxprice = 1000\n",
        "c.sell()\n",
        "\n",
        "# using setter function\n",
        "c.setMaxPrice(1000)\n",
        "c.sell()"
      ],
      "metadata": {
        "colab": {
          "base_uri": "https://localhost:8080/"
        },
        "id": "6siXyVLaqrVJ",
        "outputId": "d670df0a-3b83-4444-e551-875da9b00eef"
      },
      "execution_count": 15,
      "outputs": [
        {
          "output_type": "stream",
          "name": "stdout",
          "text": [
            "Selling Price: 900\n",
            "Selling Price: 900\n",
            "Selling Price: 1000\n"
          ]
        }
      ]
    },
    {
      "cell_type": "markdown",
      "source": [
        "In the above program, we defined a `Computer` class.\n",
        "\n",
        "We used `__init__()` method to store the maximum selling price of Computer. Here, notice the code\n",
        "```\n",
        "c.__maxprice = 1000\n",
        "```\n",
        "Here, we have tried to modify the value of ` __maxprice` outside of the class. However, since `__maxprice` is a private variable, this modification is not seen on the output.\n",
        "\n",
        "As shown, to change the value, we have to use a setter function i.e `setMaxPrice()` which takes price as a parameter."
      ],
      "metadata": {
        "id": "_LjllCKzs6X0"
      }
    },
    {
      "cell_type": "markdown",
      "source": [
        "## Data Abstraction\n",
        "\n",
        "Data abstraction and encapsulation both are often used as synonyms. Both are nearly synonyms because data abstraction is achieved through encapsulation.\n",
        "\n",
        "Abstraction is used to hide internal details and show only functionalities. Abstracting something means to give names to things so that the name captures the core of what a function or a whole program does."
      ],
      "metadata": {
        "id": "5u1WNEpsuzI_"
      }
    },
    {
      "cell_type": "markdown",
      "source": [
        "# **Polymorphism**\n",
        "\n",
        "Polymorphism is another important concept of object-oriented programming. It simply means more than one form.\n",
        "\n",
        "That is, the same entity (method or operator or object) can perform different operations in different scenarios.\n",
        "\n",
        "Let's see an example,"
      ],
      "metadata": {
        "id": "FblEuVgOtQyX"
      }
    },
    {
      "cell_type": "code",
      "source": [
        "class Polygon:\n",
        "    # method to render a shape\n",
        "    def render(self):\n",
        "        print(\"Rendering Polygon...\")\n",
        "\n",
        "class Square(Polygon):\n",
        "    # renders Square\n",
        "    def render(self):\n",
        "        print(\"Rendering Square...\")\n",
        "\n",
        "class Circle(Polygon):\n",
        "    # renders circle\n",
        "    def render(self):\n",
        "        print(\"Rendering Circle...\")\n",
        "    \n",
        "# create an object of Square\n",
        "s1 = Square()\n",
        "s1.render()\n",
        "\n",
        "# create an object of Circle\n",
        "c1 = Circle()\n",
        "c1.render()"
      ],
      "metadata": {
        "colab": {
          "base_uri": "https://localhost:8080/"
        },
        "id": "yiRW_g33s2wW",
        "outputId": "84788f8a-3a3c-4ea7-dffb-3892e6043ef2"
      },
      "execution_count": 16,
      "outputs": [
        {
          "output_type": "stream",
          "name": "stdout",
          "text": [
            "Rendering Square...\n",
            "Rendering Circle...\n"
          ]
        }
      ]
    },
    {
      "cell_type": "markdown",
      "source": [
        "In the above example, we have created a superclass: `Polygon` and two subclasses: Square and Circle. \n",
        "\n",
        "Notice the use of the `render()` method.\n",
        "\n",
        "The main purpose of the `render()` method is to render the shape. However, the process of rendering a square is different from the process of rendering a circle.\n",
        "\n",
        "Hence, the `render()` method behaves differently in different classes. Or, we can say `render()` is polymorphic."
      ],
      "metadata": {
        "id": "zG2hWbE_taTT"
      }
    },
    {
      "cell_type": "markdown",
      "source": [
        "# **Inheritance**\n",
        "\n",
        "\n",
        "Inheritance allows us to define a class that inherits all the methods and properties from another class.\n",
        "\n",
        "**Parent class** is the class being inherited from, also called **base** class.\n",
        "\n",
        "**Child class** is the class that inherits from another class, also called **derived** OR **subclass** class.\n",
        "\n",
        "Inheritance is a way of creating a new class for using details of an existing class without modifying it.\n",
        "\n",
        "The newly formed class is a derived class (or child class). Similarly, the existing class is a base class (or parent class).\n",
        "\n",
        "## Python Inheritance Syntax\n",
        "\n",
        "Here's the syntax of the inheritance in Python,\n",
        "```\n",
        "# define a superclass\n",
        "class super_class:\n",
        "    # attributes and method definition\n",
        "\n",
        "# inheritance\n",
        "class sub_class(super_class):\n",
        "    # attributes and method of super_class\n",
        "    # attributes and method of sub_class\n",
        "```\n",
        "Here, we are inheriting the sub_class class from the super_class class."
      ],
      "metadata": {
        "id": "_F89eY1Yu7hn"
      }
    },
    {
      "cell_type": "code",
      "source": [
        "# base class\n",
        "class Animal:\n",
        "    \n",
        "    def eat(self):\n",
        "        print( \"I can eat!\")\n",
        "    \n",
        "    def sleep(self):\n",
        "        print(\"I can sleep!\")\n",
        "\n",
        "# derived class\n",
        "class Dog(Animal):\n",
        "    \n",
        "    def bark(self):\n",
        "        print(\"I can bark! Woof woof!!\")\n",
        "\n",
        "# Create object of the Dog class\n",
        "dog1 = Dog()\n",
        "\n",
        "# Calling members of the base class\n",
        "dog1.eat()\n",
        "dog1.sleep()\n",
        "\n",
        "# Calling member of the derived class\n",
        "dog1.bark();"
      ],
      "metadata": {
        "colab": {
          "base_uri": "https://localhost:8080/"
        },
        "id": "zXeZPjLQtVNq",
        "outputId": "b29c6cf6-7b16-4b5f-f9ab-5a8c581d2cbc"
      },
      "execution_count": 18,
      "outputs": [
        {
          "output_type": "stream",
          "name": "stdout",
          "text": [
            "I can eat!\n",
            "I can sleep!\n",
            "I can bark! Woof woof!!\n"
          ]
        }
      ]
    },
    {
      "cell_type": "markdown",
      "source": [
        "Here, dog1 (the object of derived class Dog) can access members of the base class Animal. It's because Dog is inherited from Animal.\n",
        "```\n",
        "# Calling members of the Animal class\n",
        "dog1.eat()\n",
        "dog1.sleep()\n",
        "```"
      ],
      "metadata": {
        "id": "fwT_dnlJvTk7"
      }
    },
    {
      "cell_type": "markdown",
      "source": [
        "### Create a Parent Class\n",
        "\n",
        "Any class can be a parent class, so the syntax is the same as creating any other class:"
      ],
      "metadata": {
        "id": "41x0eRn52ggr"
      }
    },
    {
      "cell_type": "code",
      "source": [
        "# Create a class named Person, with firstname and lastname properties, and a printname method:\n",
        "class Person:\n",
        "  def __init__(self, fname, lname):\n",
        "    self.firstname = fname\n",
        "    self.lastname = lname\n",
        "\n",
        "  def printname(self):\n",
        "    print(self.firstname, self.lastname)\n",
        "\n",
        "#Use the Person class to create an object, and then execute the printname method:\n",
        "\n",
        "x = Person(\"John\", \"Doe\")\n",
        "x.printname() "
      ],
      "metadata": {
        "colab": {
          "base_uri": "https://localhost:8080/"
        },
        "id": "cv9LqypHvTCo",
        "outputId": "d8dce411-22b0-4eb9-9aab-749473fe6ecc"
      },
      "execution_count": 19,
      "outputs": [
        {
          "output_type": "stream",
          "name": "stdout",
          "text": [
            "John Doe\n"
          ]
        }
      ]
    },
    {
      "cell_type": "markdown",
      "source": [
        "## Create a Child Class\n",
        "\n",
        "To create a class that inherits the functionality from another class, send the parent class as a parameter when creating the child class:"
      ],
      "metadata": {
        "id": "8HMQq0AK2qK7"
      }
    },
    {
      "cell_type": "code",
      "source": [
        "# Create a class named Student, which will inherit the properties and methods from the Person class:\n",
        "class Student(Person):\n",
        "  pass "
      ],
      "metadata": {
        "id": "NK1ECnaFvXE5"
      },
      "execution_count": 21,
      "outputs": []
    },
    {
      "cell_type": "markdown",
      "source": [
        "\n",
        "**Note**: Use the pass keyword when you do not want to add any other properties or methods to the class.\n",
        "\n",
        "Now the Student class has the same properties and methods as the Person class."
      ],
      "metadata": {
        "id": "6yaRXnsE2zu2"
      }
    },
    {
      "cell_type": "code",
      "source": [
        "# Use the Student class to create an object, and then execute the printname method:\n",
        "x = Student(\"Mike\", \"Olsen\")\n",
        "x.printname() "
      ],
      "metadata": {
        "colab": {
          "base_uri": "https://localhost:8080/"
        },
        "id": "7mfM1YJS3Kmw",
        "outputId": "366a7f80-c093-43f4-913a-26ca649ef6ca"
      },
      "execution_count": 22,
      "outputs": [
        {
          "output_type": "stream",
          "name": "stdout",
          "text": [
            "Mike Olsen\n"
          ]
        }
      ]
    },
    {
      "cell_type": "markdown",
      "source": [
        "## Add the `__init__()` Function\n",
        "\n",
        "So far we have created a child class that inherits the properties and methods from its parent.\n",
        "\n",
        "We want to add the `__init__()` function to the child class (instead of the pass keyword).\n",
        "\n",
        "**Note**: The `__init__()` function is called automatically every time the class is being used to create a new object.\n",
        "\n",
        "Example\n",
        "Add the __init__() function to the Student class:\n",
        "\n",
        "```\n",
        "class Student(Person):\n",
        "  def __init__(self, fname, lname):\n",
        "    #add properties etc. \n",
        "```\n"
      ],
      "metadata": {
        "id": "NDhbaN6P23yk"
      }
    },
    {
      "cell_type": "markdown",
      "source": [
        "When you add the `__init__()` function, the child class will no longer inherit the parent's `__init__()` function.\n",
        "\n",
        "Note: The child's `__init__()` function overrides the inheritance of the parent's `__init__()` function.\n",
        "\n",
        "To keep the inheritance of the parent's `__init__()` function, add a call to the parent's `__init__()` function:"
      ],
      "metadata": {
        "id": "SPHPgoZN37j7"
      }
    },
    {
      "cell_type": "code",
      "source": [
        "class Student(Person):\n",
        "  def __init__(self, fname, lname):\n",
        "    Person.__init__(self, fname, lname) "
      ],
      "metadata": {
        "id": "5vhSeU013dY6"
      },
      "execution_count": 25,
      "outputs": []
    },
    {
      "cell_type": "markdown",
      "source": [
        "Now we have successfully added the `__init__()` function, and kept the inheritance of the parent class, and we are ready to add functionality in the `__init__()` function."
      ],
      "metadata": {
        "id": "2yuBY_BO4HeK"
      }
    },
    {
      "cell_type": "markdown",
      "source": [
        "## Use the `super()` Function\n",
        "\n",
        "Python also has a `super()` function that will make the child class inherit all the methods and properties from its parent:"
      ],
      "metadata": {
        "id": "Y-g4C2NT4MwC"
      }
    },
    {
      "cell_type": "code",
      "source": [
        "class Student(Person):\n",
        "  def __init__(self, fname, lname):\n",
        "    super().__init__(fname, lname) "
      ],
      "metadata": {
        "id": "k5pXOOb-4TYN"
      },
      "execution_count": 26,
      "outputs": []
    },
    {
      "cell_type": "markdown",
      "source": [
        "By using the `super()` function, you do not have to use the name of the parent element, it will automatically inherit the methods and properties from its parent.\n",
        "\n",
        "### Add Properties"
      ],
      "metadata": {
        "id": "bEbBrL5e4V_m"
      }
    },
    {
      "cell_type": "code",
      "source": [
        "# Add a property called graduationyear to the Student class:\n",
        "class Student(Person):\n",
        "  def __init__(self, fname, lname):\n",
        "    super().__init__(fname, lname)\n",
        "    self.graduationyear = 2019 "
      ],
      "metadata": {
        "id": "QCzDjNUZ4c5x"
      },
      "execution_count": 27,
      "outputs": []
    },
    {
      "cell_type": "markdown",
      "source": [
        "In the example below, the year 2019 should be a variable, and passed into the Student class when creating student objects. To do so, add another parameter in the `__init__()` function:"
      ],
      "metadata": {
        "id": "WpkOAwJd4gSr"
      }
    },
    {
      "cell_type": "code",
      "source": [
        "# Example\n",
        "\n",
        "# Add a year parameter, and pass the correct year when creating objects:\n",
        "class Student(Person):\n",
        "  def __init__(self, fname, lname, year):\n",
        "    super().__init__(fname, lname)\n",
        "    self.graduationyear = year\n",
        "\n",
        "x = Student(\"Mike\", \"Olsen\", 2019) "
      ],
      "metadata": {
        "id": "QqRLWtuw4kcz"
      },
      "execution_count": 28,
      "outputs": []
    },
    {
      "cell_type": "markdown",
      "source": [
        "## Add Methods"
      ],
      "metadata": {
        "id": "NPziMHm74qWJ"
      }
    },
    {
      "cell_type": "code",
      "source": [
        "# Example\n",
        "\n",
        "# Add a method called welcome to the Student class:\n",
        "class Student(Person):\n",
        "  def __init__(self, fname, lname, year):\n",
        "    super().__init__(fname, lname)\n",
        "    self.graduationyear = year\n",
        "\n",
        "  def welcome(self):\n",
        "    print(\"Welcome\", self.firstname, self.lastname, \"to the class of\", self.graduationyear) "
      ],
      "metadata": {
        "id": "tsJnjcuf4kl9"
      },
      "execution_count": 29,
      "outputs": []
    },
    {
      "cell_type": "markdown",
      "source": [
        "If you add a method in the child class with the same name as a function in the parent class, the inheritance of the parent method will be overridden."
      ],
      "metadata": {
        "id": "FfWJw-sG4w8Q"
      }
    },
    {
      "cell_type": "markdown",
      "source": [
        "# **Key Points to Remember:**\n",
        "\n",
        "    Object-Oriented Programming makes the program easy to understand as well as efficient.\n",
        "    Since the class is sharable, the code can be reused.\n",
        "    Data is safe and secure with data abstraction.\n",
        "    Polymorphism allows the same interface for different objects, so programmers can write efficient code.\n",
        "\n",
        "# ENJOY LEARNING 😄\n",
        "\n",
        "# LET'S CONTIUNE CODING ON HACKER RANK. 🥳\n"
      ],
      "metadata": {
        "id": "5gvlH6azvbvM"
      }
    }
  ]
}