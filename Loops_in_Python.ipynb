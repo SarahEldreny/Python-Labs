{
  "nbformat": 4,
  "nbformat_minor": 0,
  "metadata": {
    "colab": {
      "provenance": [],
      "authorship_tag": "ABX9TyMD1ut+t6t8Lkw87OdnUPer",
      "include_colab_link": true
    },
    "kernelspec": {
      "name": "python3",
      "display_name": "Python 3"
    },
    "language_info": {
      "name": "python"
    }
  },
  "cells": [
    {
      "cell_type": "markdown",
      "metadata": {
        "id": "view-in-github",
        "colab_type": "text"
      },
      "source": [
        "<a href=\"https://colab.research.google.com/github/SarahEldreny/Python-Labs/blob/main/Loops_in_Python.ipynb\" target=\"_parent\"><img src=\"https://colab.research.google.com/assets/colab-badge.svg\" alt=\"Open In Colab\"/></a>"
      ]
    },
    {
      "cell_type": "markdown",
      "source": [
        "# ***Python Loops***\n",
        "\n",
        "Python has two primitive loop commands:\n",
        "\n",
        "    while loops\n",
        "    for loops\n",
        "\n",
        "\n",
        "Python programming language provides the following types of loops to handle looping requirements. Python provides three ways for executing the loops. While all the ways provide similar basic functionality, they differ in their syntax and condition checking time.\n",
        "## While Loop in Python\n",
        "\n",
        "In python, a `while loop` is used to execute a block of statements repeatedly until a given condition is satisfied. And when the condition becomes false, the line immediately after the loop in the program is executed.\n",
        "\n",
        "Syntax :\n",
        "\n",
        "```\n",
        "while expression:\n",
        "    statement(s)\n",
        "```\n",
        "\n",
        "All the statements indented by the same number of character spaces after a programming construct are considered to be part of a single block of code. Python uses indentation as its method of grouping statements. \n",
        "\n",
        "With the while loop we can execute a set of statements as long as a condition is true.\n",
        "\n",
        "Example: "
      ],
      "metadata": {
        "id": "2F4mrn__0_wb"
      }
    },
    {
      "cell_type": "code",
      "execution_count": 1,
      "metadata": {
        "colab": {
          "base_uri": "https://localhost:8080/"
        },
        "id": "CtfDa1f80ItG",
        "outputId": "fe7a7376-04fc-4914-83dd-dc78b9f67021"
      },
      "outputs": [
        {
          "output_type": "stream",
          "name": "stdout",
          "text": [
            "Hello Geek\n",
            "Hello Geek\n",
            "Hello Geek\n"
          ]
        }
      ],
      "source": [
        "# Python program to illustrate\n",
        "# while loop\n",
        "count = 0\n",
        "while (count < 3):\n",
        "    count = count + 1\n",
        "    print(\"Hello Geek\")"
      ]
    },
    {
      "cell_type": "markdown",
      "source": [
        "\n",
        "\n",
        "**Note**: remember to increment i, or else the loop will continue forever.\n",
        "\n",
        "The while loop requires relevant variables to be ready, in this example we need to define an indexing variable, i, which we set to 1.\n",
        "### The break Statement\n",
        "\n",
        "With the break statement we can stop the loop even if the while condition is true:"
      ],
      "metadata": {
        "id": "bDOfArpO2V2f"
      }
    },
    {
      "cell_type": "code",
      "source": [
        "# Exit the loop when i is 3:\n",
        "i = 1\n",
        "while i < 6:\n",
        "  print(i)\n",
        "  if i == 3:\n",
        "    break\n",
        "  i += 1 "
      ],
      "metadata": {
        "colab": {
          "base_uri": "https://localhost:8080/"
        },
        "id": "cnTObPJi1jv1",
        "outputId": "27dfed8f-6f82-4060-d1ea-cdb1834f9238"
      },
      "execution_count": 2,
      "outputs": [
        {
          "output_type": "stream",
          "name": "stdout",
          "text": [
            "1\n",
            "2\n",
            "3\n"
          ]
        }
      ]
    },
    {
      "cell_type": "markdown",
      "source": [
        "## The continue Statement\n",
        "\n",
        "With the continue statement we can stop the current iteration, and continue with the next:"
      ],
      "metadata": {
        "id": "dzFeLlTB2ggF"
      }
    },
    {
      "cell_type": "code",
      "source": [
        "# Continue to the next iteration if i is 3:\n",
        "i = 0\n",
        "while i < 6:\n",
        "  i += 1\n",
        "  if i == 3:\n",
        "    continue\n",
        "  print(i)"
      ],
      "metadata": {
        "colab": {
          "base_uri": "https://localhost:8080/"
        },
        "id": "z3qWFuGA2dFN",
        "outputId": "b0f3c19a-7e14-455c-a1c6-719d4c784f17"
      },
      "execution_count": 3,
      "outputs": [
        {
          "output_type": "stream",
          "name": "stdout",
          "text": [
            "1\n",
            "2\n",
            "4\n",
            "5\n",
            "6\n"
          ]
        }
      ]
    },
    {
      "cell_type": "markdown",
      "source": [
        "## The else Statement\n",
        "\n",
        "With the else statement we can run a block of code once when the condition no longer is true:"
      ],
      "metadata": {
        "id": "bHW2Ls-t2n-f"
      }
    },
    {
      "cell_type": "code",
      "source": [
        "# Print a message once the condition is false:\n",
        "i = 1\n",
        "while i < 6:\n",
        "  print(i)\n",
        "  i += 1\n",
        "else:\n",
        "  print(\"i is no longer less than 6\")"
      ],
      "metadata": {
        "colab": {
          "base_uri": "https://localhost:8080/"
        },
        "id": "DkulmhXX2kYf",
        "outputId": "7b6af04e-81dd-4bd8-8856-81c88abd2b87"
      },
      "execution_count": 4,
      "outputs": [
        {
          "output_type": "stream",
          "name": "stdout",
          "text": [
            "1\n",
            "2\n",
            "3\n",
            "4\n",
            "5\n",
            "i is no longer less than 6\n"
          ]
        }
      ]
    },
    {
      "cell_type": "markdown",
      "source": [
        "Using else statement with while loops\n",
        "\n",
        "As discussed above, while loop executes the block until a condition is satisfied. When the condition becomes false, the statement immediately after the loop is executed. \n",
        "\n",
        "The else clause is only executed when your while condition becomes false. If you break out of the loop, or if an exception is raised, it won’t be executed. \n",
        "\n",
        "If else like this:\n",
        "\n",
        "```\n",
        "if condition:\n",
        "    # execute these statements\n",
        "else:\n",
        "    # execute these statements\n",
        "```\n",
        "and while loop like this are similar\n",
        "```\n",
        "while condition:\n",
        "     # execute these statements\n",
        "else:\n",
        "     # execute these statements\n",
        "```"
      ],
      "metadata": {
        "id": "9EaocXC-3LR8"
      }
    },
    {
      "cell_type": "code",
      "source": [
        "# Python program to illustrate\n",
        "# combining else with while\n",
        "count = 0\n",
        "while (count < 3):\n",
        "    count = count + 1\n",
        "    print(\"Hello Geek\")\n",
        "else:\n",
        "    print(\"In Else Block\")"
      ],
      "metadata": {
        "colab": {
          "base_uri": "https://localhost:8080/"
        },
        "id": "kBHQRV9N3nvj",
        "outputId": "170dd793-aa85-4128-a3a6-29cd53b0565c"
      },
      "execution_count": 5,
      "outputs": [
        {
          "output_type": "stream",
          "name": "stdout",
          "text": [
            "Hello Geek\n",
            "Hello Geek\n",
            "Hello Geek\n",
            "In Else Block\n"
          ]
        }
      ]
    },
    {
      "cell_type": "markdown",
      "source": [
        "### Single statement while block\n",
        "\n",
        "Just like the if block, if the while block consists of a single statement then we can declare the entire loop in a single line as shown below:"
      ],
      "metadata": {
        "id": "7Sf_j6Me3tCp"
      }
    },
    {
      "cell_type": "code",
      "source": [
        "# Python program to illustrate\n",
        "# Single statement while block\n",
        "count = 0\n",
        "while (count == 0):\n",
        "    print(\"Hello Geek\")"
      ],
      "metadata": {
        "id": "hDc3F1Kf3vPO"
      },
      "execution_count": null,
      "outputs": []
    },
    {
      "cell_type": "markdown",
      "source": [
        "Note: It is suggested not to use this type of loops as it is a never ending infinite loop where the condition is always true and you have to forcefully terminate the compiler.\n",
        "\n",
        "## For Loop in Python\n",
        "\n",
        "For loops are used for sequential traversal. For example: traversing a list or string or array etc. In Python, there is no C style for loop, i.e., for (i=0; i<n; i++). There is “for in” loop which is similar to for each loop in other languages. Let us learn how to use for in loop for sequential traversals.\n",
        "\n",
        "Syntax:\n",
        "```\n",
        "for iterator_var in sequence:\n",
        "    statements(s)\n",
        "```\n",
        "It can be used to iterate over a range and iterators."
      ],
      "metadata": {
        "id": "vbMd66oE3_yw"
      }
    },
    {
      "cell_type": "code",
      "source": [
        "# Python program to illustrate\n",
        "# Iterating over range 0 to n-1\n",
        " \n",
        "n = 4\n",
        "for i in range(0, n):\n",
        "    print(i)"
      ],
      "metadata": {
        "colab": {
          "base_uri": "https://localhost:8080/"
        },
        "id": "xQIaBUZu4IQ9",
        "outputId": "7335990b-cfd7-4de2-ee5e-e4479422a4f4"
      },
      "execution_count": 7,
      "outputs": [
        {
          "output_type": "stream",
          "name": "stdout",
          "text": [
            "0\n",
            "1\n",
            "2\n",
            "3\n"
          ]
        }
      ]
    },
    {
      "cell_type": "markdown",
      "source": [
        "Example with List, Tuple, string, and dictionary iteration using For Loops:"
      ],
      "metadata": {
        "id": "KzRm-sC-4NOk"
      }
    },
    {
      "cell_type": "code",
      "source": [
        "# Python program to illustrate\n",
        "# Iterating over a list\n",
        "print(\"List Iteration\")\n",
        "l = [\"geeks\", \"for\", \"geeks\"]\n",
        "for i in l:\n",
        "\tprint(i)\n",
        "\n",
        "# Iterating over a tuple (immutable)\n",
        "print(\"\\nTuple Iteration\")\n",
        "t = (\"geeks\", \"for\", \"geeks\")\n",
        "for i in t:\n",
        "\tprint(i)\n",
        "\n",
        "# Iterating over a String\n",
        "print(\"\\nString Iteration\")\n",
        "s = \"Geeks\"\n",
        "for i in s:\n",
        "\tprint(i)\n",
        "\n",
        "# Iterating over dictionary\n",
        "print(\"\\nDictionary Iteration\")\n",
        "d = dict()\n",
        "d['xyz'] = 123\n",
        "d['abc'] = 345\n",
        "for i in d:\n",
        "\tprint(\"%s %d\" % (i, d[i]))\n",
        "\n",
        "# Iterating over a set\n",
        "print(\"\\nSet Iteration\")\n",
        "set1 = {1, 2, 3, 4, 5, 6}\n",
        "for i in set1:\n",
        "\tprint(i),\n"
      ],
      "metadata": {
        "colab": {
          "base_uri": "https://localhost:8080/"
        },
        "id": "zOzUVu_d4O8D",
        "outputId": "272d3ddc-7bee-4ff2-f8e4-f33389991bbe"
      },
      "execution_count": 8,
      "outputs": [
        {
          "output_type": "stream",
          "name": "stdout",
          "text": [
            "List Iteration\n",
            "geeks\n",
            "for\n",
            "geeks\n",
            "\n",
            "Tuple Iteration\n",
            "geeks\n",
            "for\n",
            "geeks\n",
            "\n",
            "String Iteration\n",
            "G\n",
            "e\n",
            "e\n",
            "k\n",
            "s\n",
            "\n",
            "Dictionary Iteration\n",
            "xyz 123\n",
            "abc 345\n",
            "\n",
            "Set Iteration\n",
            "1\n",
            "2\n",
            "3\n",
            "4\n",
            "5\n",
            "6\n"
          ]
        }
      ]
    },
    {
      "cell_type": "markdown",
      "source": [
        "### Iterating by the index of sequences: \n",
        "\n",
        "We can also use the index of elements in the sequence to iterate. The key idea is to first calculate the length of the list and in iterate over the sequence within the range of this length. \n",
        "\n",
        "See the below example: "
      ],
      "metadata": {
        "id": "X7wSN0KV4YEM"
      }
    },
    {
      "cell_type": "code",
      "source": [
        "# Python program to illustrate\n",
        "# Iterating by index\n",
        "\n",
        "list = [\"geeks\", \"for\", \"geeks\"]\n",
        "for index in range(len(list)):\n",
        "\tprint(list[index])\n"
      ],
      "metadata": {
        "colab": {
          "base_uri": "https://localhost:8080/"
        },
        "id": "6VzXGXHT4Xat",
        "outputId": "793ea488-99e1-48f5-ca93-b8f7c2594217"
      },
      "execution_count": 9,
      "outputs": [
        {
          "output_type": "stream",
          "name": "stdout",
          "text": [
            "geeks\n",
            "for\n",
            "geeks\n"
          ]
        }
      ]
    },
    {
      "cell_type": "markdown",
      "source": [
        "## Using else statement with for loops:\n",
        "\n",
        "We can also combine else statement with for loop like in while loop. But as there is no condition in for loop based on which the execution will terminate so the else block will be executed immediately after for block finishes execution. \n",
        "Below example explains how to do this: "
      ],
      "metadata": {
        "id": "DedpEPrt4gdl"
      }
    },
    {
      "cell_type": "code",
      "source": [
        "# Python program to illustrate\n",
        "# combining else with for\n",
        "\n",
        "list = [\"geeks\", \"for\", \"geeks\"]\n",
        "for index in range(len(list)):\n",
        "\tprint(list[index])\n",
        "else:\n",
        "\tprint(\"Inside Else Block\")\n"
      ],
      "metadata": {
        "colab": {
          "base_uri": "https://localhost:8080/"
        },
        "id": "LsVYzBgB4iWL",
        "outputId": "dc16283a-705b-4d30-99e8-781c20531f00"
      },
      "execution_count": 10,
      "outputs": [
        {
          "output_type": "stream",
          "name": "stdout",
          "text": [
            "geeks\n",
            "for\n",
            "geeks\n",
            "Inside Else Block\n"
          ]
        }
      ]
    },
    {
      "cell_type": "markdown",
      "source": [
        "# **Nested Loops**\n",
        "\n",
        "Python programming language allows to use one loop inside another loop. Following section shows few examples to illustrate the concept. \n",
        "\n",
        "Syntax: \n",
        "```\n",
        "for iterator_var in sequence:\n",
        "   for iterator_var in sequence:\n",
        "       statements(s)\n",
        "   statements(s)\n",
        "```\n",
        "The syntax for a nested while loop statement in the Python programming language is as follows: \n",
        "```\n",
        "while expression:\n",
        "   while expression: \n",
        "       statement(s)\n",
        "   statement(s)\n",
        "```\n",
        "A final note on loop nesting is that we can put any type of loop inside of any other type of loop. For example, a for loop can be inside a while loop or vice versa."
      ],
      "metadata": {
        "id": "6N51ScBb4pAJ"
      }
    },
    {
      "cell_type": "code",
      "source": [
        "# Python program to illustrate\n",
        "# nested for loops in Python\n",
        "from __future__ import print_function\n",
        "for i in range(1, 5):\n",
        "\tfor j in range(i):\n",
        "\t\tprint(i, end=' ')\n",
        "\tprint()\n"
      ],
      "metadata": {
        "colab": {
          "base_uri": "https://localhost:8080/"
        },
        "id": "DaqDXJE94vh7",
        "outputId": "b5498f35-fac9-4082-9446-89d0e6c044bd"
      },
      "execution_count": 11,
      "outputs": [
        {
          "output_type": "stream",
          "name": "stdout",
          "text": [
            "1 \n",
            "2 2 \n",
            "3 3 3 \n",
            "4 4 4 4 \n"
          ]
        }
      ]
    },
    {
      "cell_type": "markdown",
      "source": [
        "## Loop Control Statements\n",
        "\n",
        "Loop control statements change execution from their normal sequence. When execution leaves a scope, all automatic objects that were created in that scope are destroyed. Python supports the following control statements. \n",
        "## Continue Statement:\n",
        "\n",
        "It returns the control to the beginning of the loop."
      ],
      "metadata": {
        "id": "_7EMiWS840Sd"
      }
    },
    {
      "cell_type": "code",
      "source": [
        "# Prints all letters except 'e' and 's'\n",
        "for letter in 'geeksforgeeks':\n",
        "\tif letter == 'e' or letter == 's':\n",
        "\t\tcontinue\n",
        "\tprint('Current Letter :', letter)\n"
      ],
      "metadata": {
        "colab": {
          "base_uri": "https://localhost:8080/"
        },
        "id": "gTvxPPDB43Tb",
        "outputId": "a33fb2d7-59de-4ec0-97fd-4488c0be693b"
      },
      "execution_count": 12,
      "outputs": [
        {
          "output_type": "stream",
          "name": "stdout",
          "text": [
            "Current Letter : g\n",
            "Current Letter : k\n",
            "Current Letter : f\n",
            "Current Letter : o\n",
            "Current Letter : r\n",
            "Current Letter : g\n",
            "Current Letter : k\n"
          ]
        }
      ]
    },
    {
      "cell_type": "markdown",
      "source": [
        "### Break Statement: \n",
        "\n",
        "It brings control out of the loop"
      ],
      "metadata": {
        "id": "6fbt-2-14773"
      }
    },
    {
      "cell_type": "code",
      "source": [
        "for letter in 'geeksforgeeks':\n",
        "\n",
        "\t# break the loop as soon it sees 'e'\n",
        "\t# or 's'\n",
        "\tif letter == 'e' or letter == 's':\n",
        "\t\tbreak\n",
        "\n",
        "print('Current Letter :', letter)\n"
      ],
      "metadata": {
        "colab": {
          "base_uri": "https://localhost:8080/"
        },
        "id": "EmaiSlPj49Tk",
        "outputId": "81b167b6-07b9-4caa-bf49-a2aa410f2e02"
      },
      "execution_count": 13,
      "outputs": [
        {
          "output_type": "stream",
          "name": "stdout",
          "text": [
            "Current Letter : e\n"
          ]
        }
      ]
    },
    {
      "cell_type": "markdown",
      "source": [
        "### Pass Statement: \n",
        "\n",
        "We use pass statement to write empty loops. Pass is also used for empty control statements, functions and classes."
      ],
      "metadata": {
        "id": "QMjCg8_g5B3_"
      }
    },
    {
      "cell_type": "code",
      "source": [
        "# An empty loop\n",
        "for letter in 'geeksforgeeks':\n",
        "\tpass\n",
        "print('Last Letter :', letter)\n"
      ],
      "metadata": {
        "colab": {
          "base_uri": "https://localhost:8080/"
        },
        "id": "95cD6y0Q5FDu",
        "outputId": "770edcde-9b7b-4908-db0e-cf44b611d1bf"
      },
      "execution_count": 14,
      "outputs": [
        {
          "output_type": "stream",
          "name": "stdout",
          "text": [
            "Last Letter : s\n"
          ]
        }
      ]
    },
    {
      "cell_type": "markdown",
      "source": [
        "## How for loop in Python works internally?\n",
        "\n",
        "Before proceeding to this section, you should have a prior understanding of Python Iterators.\n",
        "\n",
        "Firstly, lets see how a simple for loop looks like."
      ],
      "metadata": {
        "id": "5R8hxAIz5KbV"
      }
    },
    {
      "cell_type": "code",
      "source": [
        "# A simple for loop example\n",
        "\n",
        "fruits = [\"apple\", \"orange\", \"kiwi\"]\n",
        "\n",
        "for fruit in fruits:\n",
        "\n",
        "\tprint(fruit)\n"
      ],
      "metadata": {
        "colab": {
          "base_uri": "https://localhost:8080/"
        },
        "id": "xkGOl_3p5Pqq",
        "outputId": "66955631-6bb8-4c5d-a528-4a4208dcacf6"
      },
      "execution_count": 15,
      "outputs": [
        {
          "output_type": "stream",
          "name": "stdout",
          "text": [
            "apple\n",
            "orange\n",
            "kiwi\n"
          ]
        }
      ]
    },
    {
      "cell_type": "markdown",
      "source": [
        "Here we can see the for loops iterates over iterable object fruit which is a list. Lists, sets, dictionaries are few iterable objects while an integer object is not an iterable object.\n",
        "\n",
        "For loops can iterate over any iterable object (example: List, Set, Dictionary, Tuple or String).\n",
        "\n",
        "Now with the help of the above example, let’s dive deep and see what happens internally here.\n",
        "\n",
        "    1- Make the list (iterable) an iterable object with help of the iter() function.\n",
        "    2- Run an infinite while loop and break only if the StopIteration is raised.\n",
        "    3- In the try block, we fetch the next element of fruits with the next() function.\n",
        "    4- After fetching the element we did the operation to be performed with the element. (i.e print(fruit))"
      ],
      "metadata": {
        "id": "A1pEVbJg5TYV"
      }
    },
    {
      "cell_type": "code",
      "source": [
        "fruits = [\"apple\", \"orange\", \"kiwi\"]\n",
        "\n",
        "# Creating an iterator object\n",
        "# from that iterable i.e fruits\n",
        "iter_obj = iter(fruits)\n",
        "\n",
        "# Infinite while loop\n",
        "while True:\n",
        "\ttry:\n",
        "\t\t# getting the next item\n",
        "\t\tfruit = next(iter_obj)\n",
        "\t\tprint(fruit)\n",
        "\texcept StopIteration:\n",
        "\n",
        "\t\t# if StopIteration is raised,\n",
        "\t\t# break from loop\n",
        "\t\tbreak\n"
      ],
      "metadata": {
        "colab": {
          "base_uri": "https://localhost:8080/"
        },
        "id": "c7mZQ4oL5fci",
        "outputId": "479d7435-272c-4e28-b408-ffd933949de8"
      },
      "execution_count": 16,
      "outputs": [
        {
          "output_type": "stream",
          "name": "stdout",
          "text": [
            "apple\n",
            "orange\n",
            "kiwi\n"
          ]
        }
      ]
    },
    {
      "cell_type": "markdown",
      "source": [
        "## Python Conditions and If statements\n",
        "\n",
        "Python supports the usual logical conditions from mathematics:\n",
        "\n",
        "    Equals:                a == b\n",
        "    Not Equals:            a != b\n",
        "    Less than:             a < b\n",
        "    Less than or equal to: a <= b\n",
        "    Greater than:          a > b\n",
        "    Greater than or equal to: a >= b\n",
        "\n",
        "These conditions can be used in several ways, most commonly in \"if statements\" and loops.\n",
        "\n",
        "An \"if statement\" is written by using the if keyword."
      ],
      "metadata": {
        "id": "ZR5DCHvR25LE"
      }
    },
    {
      "cell_type": "code",
      "source": [
        "# If statement:\n",
        "a = 33\n",
        "b = 200\n",
        "if b > a:\n",
        "  print(\"b is greater than a\")"
      ],
      "metadata": {
        "colab": {
          "base_uri": "https://localhost:8080/"
        },
        "id": "LooSjtcb5zP-",
        "outputId": "043c10b3-47e7-4fcd-8f17-ef0d9e2fa562"
      },
      "execution_count": 18,
      "outputs": [
        {
          "output_type": "stream",
          "name": "stdout",
          "text": [
            "b is greater than a\n"
          ]
        }
      ]
    },
    {
      "cell_type": "markdown",
      "source": [
        "In this example we use two variables, a and b, which are used as part of the if statement to test whether b is greater than a. As a is 33, and b is 200, we know that 200 is greater than 33, and so we print to screen that \"b is greater than a\".\n",
        "## Indentation\n",
        "\n",
        "Python relies on indentation (whitespace at the beginning of a line) to define scope in the code. Other programming languages often use curly-brackets for this purpose.\n",
        "\n",
        "Example\n",
        "```\n",
        "If statement, without indentation (will raise an error):\n",
        "a = 33\n",
        "b = 200\n",
        "if b > a:\n",
        "print(\"b is greater than a\") # you will get an error \n",
        "```"
      ],
      "metadata": {
        "id": "MykOQMte5BD1"
      }
    },
    {
      "cell_type": "markdown",
      "source": [
        "\n",
        "### Elif\n",
        "\n",
        "The elif keyword is Python's way of saying \"if the previous conditions were not true, then try this condition\"."
      ],
      "metadata": {
        "id": "qRLohnXT56jm"
      }
    },
    {
      "cell_type": "code",
      "source": [
        "# Example\n",
        "a = 33\n",
        "b = 33\n",
        "if b > a:\n",
        "  print(\"b is greater than a\")\n",
        "elif a == b:\n",
        "  print(\"a and b are equal\")"
      ],
      "metadata": {
        "colab": {
          "base_uri": "https://localhost:8080/"
        },
        "id": "_97u6wle2sCE",
        "outputId": "7010e357-eb31-45bc-f005-3e3899b60787"
      },
      "execution_count": 19,
      "outputs": [
        {
          "output_type": "stream",
          "name": "stdout",
          "text": [
            "a and b are equal\n"
          ]
        }
      ]
    },
    {
      "cell_type": "markdown",
      "source": [
        "In this example a is equal to b, so the first condition is not true, but the elif condition is true, so we print to screen that \"a and b are equal\".\n",
        "## Else\n",
        "\n",
        "The else keyword catches anything which isn't caught by the preceding conditions."
      ],
      "metadata": {
        "id": "16Y0wxe-6B23"
      }
    },
    {
      "cell_type": "code",
      "source": [
        "a = 200\n",
        "b = 33\n",
        "if b > a:\n",
        "  print(\"b is greater than a\")\n",
        "elif a == b:\n",
        "  print(\"a and b are equal\")\n",
        "else:\n",
        "  print(\"a is greater than b\")"
      ],
      "metadata": {
        "colab": {
          "base_uri": "https://localhost:8080/"
        },
        "id": "Cy9_346f5_WI",
        "outputId": "5e051d49-301c-4b70-d708-5945f6b9a7b2"
      },
      "execution_count": 20,
      "outputs": [
        {
          "output_type": "stream",
          "name": "stdout",
          "text": [
            "a is greater than b\n"
          ]
        }
      ]
    },
    {
      "cell_type": "markdown",
      "source": [
        "In this example a is greater than b, so the first condition is not true, also the elif condition is not true, so we go to the else condition and print to screen that \"a is greater than b\".\n",
        "\n",
        "You can also have an else without the elif:"
      ],
      "metadata": {
        "id": "RrsT7Exh6Imb"
      }
    },
    {
      "cell_type": "code",
      "source": [
        "# Example\n",
        "a = 200\n",
        "b = 33\n",
        "if b > a:\n",
        "  print(\"b is greater than a\")\n",
        "else:\n",
        "  print(\"b is not greater than a\")"
      ],
      "metadata": {
        "colab": {
          "base_uri": "https://localhost:8080/"
        },
        "id": "V4kEL8lw6GYc",
        "outputId": "41120494-f898-40a2-d349-9d9fe14a8b03"
      },
      "execution_count": 21,
      "outputs": [
        {
          "output_type": "stream",
          "name": "stdout",
          "text": [
            "b is not greater than a\n"
          ]
        }
      ]
    },
    {
      "cell_type": "markdown",
      "source": [
        "### Short Hand If\n",
        "\n",
        "If you have only one statement to execute, you can put it on the same line as the if statement."
      ],
      "metadata": {
        "id": "BSSwuok46Qls"
      }
    },
    {
      "cell_type": "code",
      "source": [
        "# One line if statement:\n",
        "if a > b: print(\"a is greater than b\")"
      ],
      "metadata": {
        "colab": {
          "base_uri": "https://localhost:8080/"
        },
        "id": "vJ46ymqW6McB",
        "outputId": "fcd983c5-457f-4127-f791-8e890c694634"
      },
      "execution_count": 22,
      "outputs": [
        {
          "output_type": "stream",
          "name": "stdout",
          "text": [
            "a is greater than b\n"
          ]
        }
      ]
    },
    {
      "cell_type": "markdown",
      "source": [
        "\n",
        "## Short Hand If ... Else\n",
        "\n",
        "If you have only one statement to execute, one for if, and one for else, you can put it all on the same line:"
      ],
      "metadata": {
        "id": "RM2lLL4W6XC_"
      }
    },
    {
      "cell_type": "code",
      "source": [
        "# One line if else statement:\n",
        "a = 2\n",
        "b = 330\n",
        "print(\"A\") if a > b else print(\"B\") "
      ],
      "metadata": {
        "colab": {
          "base_uri": "https://localhost:8080/"
        },
        "id": "-gKr9VD16UnS",
        "outputId": "051f8d28-a2ff-4ac4-dce4-1cab0c6edbfb"
      },
      "execution_count": 23,
      "outputs": [
        {
          "output_type": "stream",
          "name": "stdout",
          "text": [
            "B\n"
          ]
        }
      ]
    },
    {
      "cell_type": "markdown",
      "source": [
        "\n",
        "This technique is known as Ternary Operators, or Conditional Expressions.\n",
        "\n",
        "You can also have multiple else statements on the same line:"
      ],
      "metadata": {
        "id": "EgvAK-QR6eCV"
      }
    },
    {
      "cell_type": "code",
      "source": [
        "# One line if else statement, with 3 conditions:\n",
        "a = 330\n",
        "b = 330\n",
        "print(\"A\") if a > b else print(\"=\") if a == b else print(\"B\") "
      ],
      "metadata": {
        "colab": {
          "base_uri": "https://localhost:8080/"
        },
        "id": "b_EKD61Z6blv",
        "outputId": "48fc014b-58e4-4fdd-dbca-7217560e7f4c"
      },
      "execution_count": 24,
      "outputs": [
        {
          "output_type": "stream",
          "name": "stdout",
          "text": [
            "=\n"
          ]
        }
      ]
    },
    {
      "cell_type": "markdown",
      "source": [
        "### And\n",
        "\n",
        "The and keyword is a logical operator, and is used to combine conditional statements:"
      ],
      "metadata": {
        "id": "OaAf3u786lvT"
      }
    },
    {
      "cell_type": "code",
      "source": [
        "# Test if a is greater than b, AND if c is greater than a:\n",
        "a = 200\n",
        "b = 33\n",
        "c = 500\n",
        "if a > b and c > a:\n",
        "  print(\"Both conditions are True\")"
      ],
      "metadata": {
        "colab": {
          "base_uri": "https://localhost:8080/"
        },
        "id": "LVoZACAe6ipC",
        "outputId": "0f87421f-f63b-490f-a896-c96817cf5f61"
      },
      "execution_count": 25,
      "outputs": [
        {
          "output_type": "stream",
          "name": "stdout",
          "text": [
            "Both conditions are True\n"
          ]
        }
      ]
    },
    {
      "cell_type": "markdown",
      "source": [
        "## Or\n",
        "\n",
        "The or keyword is a logical operator, and is used to combine conditional statements:"
      ],
      "metadata": {
        "id": "tu_8OXwi6sRK"
      }
    },
    {
      "cell_type": "code",
      "source": [
        "# Test if a is greater than b, OR if a is greater than c:\n",
        "a = 200\n",
        "b = 33\n",
        "c = 500\n",
        "if a > b or a > c:\n",
        "  print(\"At least one of the conditions is True\")"
      ],
      "metadata": {
        "colab": {
          "base_uri": "https://localhost:8080/"
        },
        "id": "a_ugXm_Y6ppy",
        "outputId": "f6165aa4-ae83-4933-bca7-5d9918378cd4"
      },
      "execution_count": 26,
      "outputs": [
        {
          "output_type": "stream",
          "name": "stdout",
          "text": [
            "At least one of the conditions is True\n"
          ]
        }
      ]
    },
    {
      "cell_type": "markdown",
      "source": [
        "### Not\n",
        "\n",
        "The not keyword is a logical operator, and is used to reverse the result of the conditional statement:"
      ],
      "metadata": {
        "id": "tcFuAbYC6zMr"
      }
    },
    {
      "cell_type": "code",
      "source": [
        "# Test if a is NOT greater than b:\n",
        "a = 33\n",
        "b = 200\n",
        "if not a > b:\n",
        "  print(\"a is NOT greater than b\")"
      ],
      "metadata": {
        "colab": {
          "base_uri": "https://localhost:8080/"
        },
        "id": "gaJhp12f6vvk",
        "outputId": "390baeb4-4047-4e4c-a657-c616f82e927a"
      },
      "execution_count": 27,
      "outputs": [
        {
          "output_type": "stream",
          "name": "stdout",
          "text": [
            "a is NOT greater than b\n"
          ]
        }
      ]
    },
    {
      "cell_type": "markdown",
      "source": [
        "## Nested If\n",
        "\n",
        "You can have if statements inside if statements, this is called nested if statements.\n",
        "\n",
        "Example"
      ],
      "metadata": {
        "id": "gU5Ki8pg6-O8"
      }
    },
    {
      "cell_type": "code",
      "source": [
        "x = 41\n",
        "\n",
        "if x > 10:\n",
        "  print(\"Above ten,\")\n",
        "  if x > 20:\n",
        "    print(\"and also above 20!\")\n",
        "  else:\n",
        "    print(\"but not above 20.\") "
      ],
      "metadata": {
        "colab": {
          "base_uri": "https://localhost:8080/"
        },
        "id": "FC4gTSW863U9",
        "outputId": "3934fc7d-831c-408d-e25a-44c12480a1dc"
      },
      "execution_count": 28,
      "outputs": [
        {
          "output_type": "stream",
          "name": "stdout",
          "text": [
            "Above ten,\n",
            "and also above 20!\n"
          ]
        }
      ]
    },
    {
      "cell_type": "markdown",
      "source": [
        "## The `range()` Function\n",
        "To loop through a set of code a specified number of times, we can use the `range()` function,\n",
        "\n",
        "The `range()` function returns a sequence of numbers, starting from 0 by default, and increments by 1 (by default), and ends at a specified number."
      ],
      "metadata": {
        "id": "LVVr-FrG7Kjs"
      }
    },
    {
      "cell_type": "code",
      "source": [
        "# Using the range() function:\n",
        "for x in range(6):\n",
        "  print(x)"
      ],
      "metadata": {
        "colab": {
          "base_uri": "https://localhost:8080/"
        },
        "id": "1VEeAqga69tD",
        "outputId": "161cff53-7ee5-4d5d-eba1-db3d271389d6"
      },
      "execution_count": 29,
      "outputs": [
        {
          "output_type": "stream",
          "name": "stdout",
          "text": [
            "0\n",
            "1\n",
            "2\n",
            "3\n",
            "4\n",
            "5\n"
          ]
        }
      ]
    },
    {
      "cell_type": "markdown",
      "source": [
        "\n",
        "\n",
        "**Note** that range(6) is not the values of 0 to 6, but the values 0 to 5.\n",
        "\n",
        "The `range()` function defaults to 0 as a starting value, however it is possible to specify the starting value by adding a parameter: range(2, 6), which means values from 2 to 6 (but not including 6):"
      ],
      "metadata": {
        "id": "FxRfay6o7WGa"
      }
    },
    {
      "cell_type": "code",
      "source": [
        "# Using the start parameter:\n",
        "for x in range(2, 6):\n",
        "  print(x)"
      ],
      "metadata": {
        "colab": {
          "base_uri": "https://localhost:8080/"
        },
        "id": "vYW3u1sn7SdJ",
        "outputId": "fa3da38e-c3a2-47e8-b159-140e4295a920"
      },
      "execution_count": 30,
      "outputs": [
        {
          "output_type": "stream",
          "name": "stdout",
          "text": [
            "2\n",
            "3\n",
            "4\n",
            "5\n"
          ]
        }
      ]
    },
    {
      "cell_type": "markdown",
      "source": [
        "The `range()` function defaults to increment the sequence by 1, however it is possible to specify the increment value by adding a third parameter: range(2, 30, 3):"
      ],
      "metadata": {
        "id": "Ou0RQEin7cca"
      }
    },
    {
      "cell_type": "code",
      "source": [
        "# Increment the sequence with 3 (default is 1):\n",
        "for x in range(2, 30, 3):\n",
        "  print(x)"
      ],
      "metadata": {
        "colab": {
          "base_uri": "https://localhost:8080/"
        },
        "id": "4LtUV9Gg7ay4",
        "outputId": "82258ce9-6e41-4ffd-b20e-5f9ec5d44415"
      },
      "execution_count": 31,
      "outputs": [
        {
          "output_type": "stream",
          "name": "stdout",
          "text": [
            "2\n",
            "5\n",
            "8\n",
            "11\n",
            "14\n",
            "17\n",
            "20\n",
            "23\n",
            "26\n",
            "29\n"
          ]
        }
      ]
    },
    {
      "cell_type": "markdown",
      "source": [
        "## Else in For Loop\n",
        "\n",
        "The else keyword in a for loop specifies a block of code to be executed when the loop is finished.\n",
        "\n",
        "\n",
        "**Note**: The else block will NOT be executed if the loop is stopped by a break statement.\n"
      ],
      "metadata": {
        "id": "6dV_Qok47pF0"
      }
    },
    {
      "cell_type": "code",
      "source": [
        "# Break the loop when x is 3, and see what happens with the else block:\n",
        "for x in range(6):\n",
        "  if x == 3: break\n",
        "  print(x)\n",
        "else:\n",
        "  print(\"Finally finished!\") "
      ],
      "metadata": {
        "colab": {
          "base_uri": "https://localhost:8080/"
        },
        "id": "8tSJRVWa7hlO",
        "outputId": "62aa65c1-ca29-40c2-f237-c9dda41c511e"
      },
      "execution_count": 32,
      "outputs": [
        {
          "output_type": "stream",
          "name": "stdout",
          "text": [
            "0\n",
            "1\n",
            "2\n"
          ]
        }
      ]
    },
    {
      "cell_type": "code",
      "source": [],
      "metadata": {
        "id": "vCKAqIDz73rg"
      },
      "execution_count": null,
      "outputs": []
    }
  ]
}